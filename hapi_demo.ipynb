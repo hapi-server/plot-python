{
  "nbformat": 4,
  "nbformat_minor": 0,
  "metadata": {
    "git": {
      "suppress_output": true
    },
    "kernelspec": {
      "display_name": "Python 3",
      "language": "python",
      "name": "python3"
    },
    "language_info": {
      "codemirror_mode": {
        "name": "ipython",
        "version": 3
      },
      "file_extension": ".py",
      "mimetype": "text/x-python",
      "name": "python",
      "nbconvert_exporter": "python",
      "pygments_lexer": "ipython3",
      "version": "3.7.0"
    },
    "colab": {
      "name": "hapi_demo.ipynb",
      "provenance": [],
      "toc_visible": true
    }
  },
  "cells": [
    {
      "cell_type": "code",
      "metadata": {
        "id": "Q5L4NSn4W6Dg",
        "colab": {
          "base_uri": "https://localhost:8080/"
        },
        "outputId": "cc36fac5-5422-436b-b34e-23253ae1b192"
      },
      "source": [
        "!pip uninstall -y hapiclient hapiplot; pip install --pre hapiclient hapiplot\n",
        "# Show plots in page instead of opening a window\n",
        "%matplotlib inline"
      ],
      "execution_count": 2,
      "outputs": [
        {
          "output_type": "stream",
          "text": [
            "\u001b[33mWARNING: Skipping hapiclient as it is not installed.\u001b[0m\n",
            "\u001b[33mWARNING: Skipping hapiplot as it is not installed.\u001b[0m\n",
            "Collecting hapiclient\n",
            "  Downloading https://files.pythonhosted.org/packages/49/af/fb973c53d83d7c554e108ca65eb82ceca7a01234389dc02973463165b051/hapiclient-0.1.9b3.tar.gz\n",
            "Collecting hapiplot\n",
            "  Downloading https://files.pythonhosted.org/packages/11/cf/7f24a1d8e0432389414cc5865e52ce46f14831ba245802bf01e3760415db/hapiplot-0.0.1b6.tar.gz\n",
            "Collecting isodate>=0.6.0\n",
            "\u001b[?25l  Downloading https://files.pythonhosted.org/packages/9b/9f/b36f7774ff5ea8e428fdcfc4bb332c39ee5b9362ddd3d40d9516a55221b2/isodate-0.6.0-py2.py3-none-any.whl (45kB)\n",
            "\u001b[K     |████████████████████████████████| 51kB 4.2MB/s \n",
            "\u001b[?25hRequirement already satisfied: urllib3 in /usr/local/lib/python3.7/dist-packages (from hapiclient) (1.24.3)\n",
            "Requirement already satisfied: joblib in /usr/local/lib/python3.7/dist-packages (from hapiclient) (1.0.1)\n",
            "Requirement already satisfied: pandas>=0.23 in /usr/local/lib/python3.7/dist-packages (from hapiclient) (1.1.5)\n",
            "Requirement already satisfied: numpy>=1.14.3 in /usr/local/lib/python3.7/dist-packages (from hapiclient) (1.19.5)\n",
            "Requirement already satisfied: matplotlib in /usr/local/lib/python3.7/dist-packages (from hapiplot) (3.2.2)\n",
            "Requirement already satisfied: six in /usr/local/lib/python3.7/dist-packages (from isodate>=0.6.0->hapiclient) (1.15.0)\n",
            "Requirement already satisfied: pytz>=2017.2 in /usr/local/lib/python3.7/dist-packages (from pandas>=0.23->hapiclient) (2018.9)\n",
            "Requirement already satisfied: python-dateutil>=2.7.3 in /usr/local/lib/python3.7/dist-packages (from pandas>=0.23->hapiclient) (2.8.1)\n",
            "Requirement already satisfied: cycler>=0.10 in /usr/local/lib/python3.7/dist-packages (from matplotlib->hapiplot) (0.10.0)\n",
            "Requirement already satisfied: pyparsing!=2.0.4,!=2.1.2,!=2.1.6,>=2.0.1 in /usr/local/lib/python3.7/dist-packages (from matplotlib->hapiplot) (2.4.7)\n",
            "Requirement already satisfied: kiwisolver>=1.0.1 in /usr/local/lib/python3.7/dist-packages (from matplotlib->hapiplot) (1.3.1)\n",
            "Building wheels for collected packages: hapiclient, hapiplot\n",
            "  Building wheel for hapiclient (setup.py) ... \u001b[?25l\u001b[?25hdone\n",
            "  Created wheel for hapiclient: filename=hapiclient-0.1.9b3-cp37-none-any.whl size=28795 sha256=0ddc05345eb3096eff12ebd925772394a81c3c2d1bbfd5d671b2072da0238437\n",
            "  Stored in directory: /root/.cache/pip/wheels/57/03/e4/cd187f72557fa766ad674b6d3b4676c9e3850f17f75992a913\n",
            "  Building wheel for hapiplot (setup.py) ... \u001b[?25l\u001b[?25hdone\n",
            "  Created wheel for hapiplot: filename=hapiplot-0.0.1b6-cp37-none-any.whl size=36739 sha256=ca320b6a24f4813808eec3b94be2dace474f7dae02de77ef2a34cf21e6f5594a\n",
            "  Stored in directory: /root/.cache/pip/wheels/b6/ce/9b/41f96067859e27f3ff9561bd18c55530d6127b3931965e4d5b\n",
            "Successfully built hapiclient hapiplot\n",
            "Installing collected packages: isodate, hapiclient, hapiplot\n",
            "Successfully installed hapiclient-0.1.9b3 hapiplot-0.0.1b6 isodate-0.6.0\n"
          ],
          "name": "stdout"
        }
      ]
    },
    {
      "cell_type": "markdown",
      "metadata": {
        "id": "nPrfD4g5W6Dh"
      },
      "source": [
        "The [Heliophysics Application Programmer’s Interface (HAPI)](http://hapi-server.org/) data access specification is a RESTful API and streaming format specification for delivering digital time series data.\n",
        "\n",
        "This notebook demonstrates the features of a Python client that accesses data from HAPI-compliant data servers.\n",
        "\n",
        "To use this notebook locally\n",
        "\n",
        "1. [Install Anaconda](https://www.anaconda.com/download/) for Python 3\n",
        "2. On command line enter \n",
        "\n",
        "```bash\n",
        "which pip # Output should contain a directory path with \"anaconda3\"\n",
        "pip install hapiclient --upgrade # Install latest hapiclient package\n",
        "curl -L -O https://rawgithub.com/hapi-server/client-python-notebooks/master/hapi_demo.ipynb\n",
        "jupyter-notebook hapi_demo.ipynb # Launches browser window\n",
        "```\n",
        "\n",
        "To test code in this notebook, click on a code area, edit, and hit `SHIFT-ENTER` to execute.\n",
        "\n",
        "For more information on HAPI-related software, see http://hapi-server.org/."
      ]
    },
    {
      "cell_type": "markdown",
      "metadata": {
        "id": "ALQ979SQW6Dh"
      },
      "source": [
        "# Display documentation"
      ]
    },
    {
      "cell_type": "code",
      "metadata": {
        "colab": {
          "base_uri": "https://localhost:8080/"
        },
        "id": "GqBguSXIW6Dh",
        "outputId": "d3cd1645-23dd-4f9d-d401-dc6683abdc9f"
      },
      "source": [
        "from hapiclient.hapi import hapi\n",
        "help(hapi)"
      ],
      "execution_count": null,
      "outputs": [
        {
          "output_type": "stream",
          "text": [
            "Help on function hapi in module hapiclient.hapi:\n",
            "\n",
            "hapi(*args, **kwargs)\n",
            "    Request data from a HAPI server.\n",
            "    \n",
            "    Version: 0.1.9b3\n",
            "    \n",
            "    \n",
            "    Examples\n",
            "    ----------\n",
            "    `Jupyter Notebook <https://colab.research.google.com/drive/11Zy99koiE90JKJ4u_KPTaEBMQFzbfU3P?usp=sharing>_`\n",
            "    \n",
            "    Parameters\n",
            "    ----------\n",
            "    server : str\n",
            "        A string with the URL to a HAPI compliant server. (A HAPI URL\n",
            "        always ends with \"/hapi\").\n",
            "    dataset : str\n",
            "        A string specifying a dataset from a `server`\n",
            "    parameters: str\n",
            "        A Comma-separated list of parameters in `dataset`\n",
            "    start: str\n",
            "        The start time of the requested data\n",
            "    stop: str\n",
            "        The end time of the requested data; end times are exclusive - the\n",
            "        last data record returned by a HAPI server should have a timestamp\n",
            "        before `start`.\n",
            "    options : dict\n",
            "    \n",
            "            `logging` (False) - Log to console\n",
            "    \n",
            "            `cache` (True) - Save responses and processed responses in cachedir\n",
            "    \n",
            "            `cachedir` (./hapi-data)\n",
            "    \n",
            "            `usecache` (True) - Use files in `cachedir` if found\n",
            "    \n",
            "            `serverlist` (https://github.com/hapi-server/servers/raw/master/all.txt)\n",
            "    \n",
            "            `parallel` (False) If true, make up to `n_parallel` requests to\n",
            "                server in parallel (uses threads)\n",
            "    \n",
            "            `n_parallel` (5) Maximum number of parallel requests to server.\n",
            "                Max allowed is 5.\n",
            "    \n",
            "            `n_chunks` (None) Get data by making `n_chunks` requests by splitting\n",
            "                requested time range. `dt_chunk` is ignored if `n_chunks` is\n",
            "                not `None`. Allowed values are integers > 1.\n",
            "    \n",
            "            `dt_chunk` ('infer') For requests that span a time range larger\n",
            "                than the default chunk size for a given dataset cadence, the\n",
            "                client will split request into chunks if `dt_chunk` is not\n",
            "                `None`.\n",
            "    \n",
            "                Allowed values of `dt_chunk` are 'infer', `None`, and an ISO 8601\n",
            "                duration that is unambiguous (durations that include Y and M are not\n",
            "                allowed). The default chunk size is determined based on the cadence\n",
            "                of the dataset requested according to\n",
            "    \n",
            "                    cadence < PT1S              dt_chunk='PT1H'\n",
            "                    PT1S <= cadence <= PT1H     dt_chunk='P1D'\n",
            "                    cadence > PT1H              dt_chunk='P30D'\n",
            "                    cadence >= P1D              dt_chunk='P365D'\n",
            "    \n",
            "                If the dataset does not have a cadence listed in its metadata, an\n",
            "                attempt is made to infer the cadence by requesting a small time range\n",
            "                of data and doubling the time range until 10 records are in the response.\n",
            "                The cadence used to determine the chunk size is then the average time\n",
            "                difference between records.\n",
            "    \n",
            "                If requested time range is < 1/2 of chunk size, only one request is\n",
            "                made. Otherwise, start and/or stop are modified to be at hour, day,\n",
            "                month or year boundaries and requests are made for a time span of a\n",
            "                full chunk, and trimming is performed. For example,\n",
            "    \n",
            "                    Cadence = PT1M and request for\n",
            "                        start/stop=1999-11-12T00:10:00/stop=1999-11-12T12:09:00\n",
            "                        Chunk size is P1D and requested time range < 1/2 of this\n",
            "                        =>  Default behavior\n",
            "                    Cadence = PT1M and request for\n",
            "                        start/stop=1999-11-12T00:10:00/1999-11-12T12:10:00\n",
            "                        Chunk size is P1D and requested time range >= 1/2 of this\n",
            "                        =>  One request with start/stop=1999-11-12/1999-11-13\n",
            "                            and trim performed\n",
            "                    Cadence = PT1M and request for\n",
            "                        start/stop=1999-11-12T00:10:00/1999-11-13T12:09:00\n",
            "                        Chunk size is P1D and requested time range > than this\n",
            "                        =>  Two requests:\n",
            "                            (1) start/stop=1999-11-12/start=1999-11-13\n",
            "                            (2) start/stop=1999-11-13/start=1999-11-14\n",
            "                            and trim performed\n",
            "    \n",
            "    \n",
            "    Returns\n",
            "    -------\n",
            "    result : various\n",
            "        `result` depends on the input parameters.\n",
            "    \n",
            "        servers = hapi() returns a list of available HAPI server URLs from\n",
            "        https://github.com/hapi-server/data-specification/blob/master/all.txt\n",
            "    \n",
            "        dataset = hapi(server) returns a dict of datasets available from a\n",
            "        URL given by the string `server`.  The dictionary structure follows the\n",
            "        HAPI JSON structure.\n",
            "    \n",
            "        parameters = hapi(server, dataset) returns a dictionary of parameters\n",
            "        in the string `dataset`. The dictionary structure follows the HAPI JSON\n",
            "        structure.\n",
            "    \n",
            "        metadata = hapi(server, dataset, parameters) returns metadata\n",
            "        associated each parameter in the comma-separated string `parameters`. The\n",
            "        dictionary structure follows the HAPI JSON structure.\n",
            "    \n",
            "        data = hapi(server, dataset, parameters, start, stop) returns a\n",
            "        dictionary with elements corresponding to `parameters`, e.g., if\n",
            "        `parameters` = 'scalar,vector' and the number of records in the time\n",
            "        range `start` <= t < `stop` returned is N, then\n",
            "    \n",
            "          data['scalar'] is a NumPy array of shape (N)\n",
            "          data['vector'] is a NumPy array of shape (N,3)\n",
            "          data['Time'] is a NumPy array of byte literals with shape (N).\n",
            "    \n",
            "          Byte literal times can be converted to Python datetimes using\n",
            "    \n",
            "          dtarray = hapitime2datetime(data['Time'])\n",
            "    \n",
            "        data, meta = hapi(server, dataset, parameters, start, stop) returns\n",
            "        the metadata for parameters in `meta`.\n",
            "    \n",
            "    \n",
            "    References\n",
            "    ----------\n",
            "        * `HAPI Server Definition <https://github.com/hapi-server/data-specification>`_\n",
            "\n"
          ],
          "name": "stdout"
        }
      ]
    },
    {
      "cell_type": "markdown",
      "metadata": {
        "id": "HpAQ7hfyW6Di"
      },
      "source": [
        "# Examples\n",
        "\n",
        "## OMNIWeb data"
      ]
    },
    {
      "cell_type": "code",
      "metadata": {
        "colab": {
          "base_uri": "https://localhost:8080/",
          "height": 1000
        },
        "id": "tkB38lLbW6Di",
        "outputId": "b419e599-c9c7-4c1f-877d-8476131d7c11"
      },
      "source": [
        "from hapiclient import hapi\n",
        "from hapiplot import hapiplot\n",
        "from hapiclient.util import pythonshell\n",
        "\n",
        "server     = 'https://cdaweb.gsfc.nasa.gov/hapi'\n",
        "dataset    = 'OMNI2_H0_MRG1HR' # See section 5 for information on finding list of datasets\n",
        "start      = '2003-09-01T00:00:00'\n",
        "stop       = '2003-12-01T00:00:00'\n",
        "parameters = 'DST1800' # See section 5 for information on finding parameters in dataset\n",
        "opts       = {'logging': True, 'usecache': False}\n",
        "\n",
        "# Get parameter data. See section 5 for for information on getting available datasets and parameters\n",
        "data, meta = hapi(server, dataset, parameters, start, stop, **opts)\n",
        "\n",
        "# Print meta using display() function if using IPython or Jupyter Notebook\n",
        "print(meta) if pythonshell() == 'python' else display(meta)\n",
        "\n",
        "# Plot all parameters in data. See also section 4 for information\n",
        "# on using other plotting functions, e.g., Matplotlib\n",
        "hapiplot(data, meta)\n",
        "\n",
        "# Extract time values as datetime objects. See section 3 for more details.\n",
        "from hapiclient import hapitime2datetime\n",
        "\n",
        "dateTimes = hapitime2datetime(data['Time'])\n",
        "print(\"\\ndateTimes = \")\n",
        "print(dateTimes) if pythonshell() == 'python' else display(dateTimes)\n",
        "\n",
        "# Extract one of the parameters as NumPy array\n",
        "BGSEc = data['DST1800']\n",
        "print(\"\\nDST1800 =\")\n",
        "print(dateTimes) if pythonshell() == 'python' else display(dateTimes)\n"
      ],
      "execution_count": null,
      "outputs": [
        {
          "output_type": "stream",
          "text": [
            "hapi(): Running hapi.py version 0.1.9b3\n",
            "hapi(): file directory = /tmp/hapi-data/cdaweb.gsfc.nasa.gov_hapi\n",
            "hapi(): Reading https://cdaweb.gsfc.nasa.gov/hapi/info?id=OMNI2_H0_MRG1HR\n"
          ],
          "name": "stdout"
        },
        {
          "output_type": "stream",
          "text": [
            "/usr/local/lib/python3.7/dist-packages/urllib3/connectionpool.py:847: InsecureRequestWarning: Unverified HTTPS request is being made. Adding certificate verification is strongly advised. See: https://urllib3.readthedocs.io/en/latest/advanced-usage.html#ssl-warnings\n",
            "  InsecureRequestWarning)\n"
          ],
          "name": "stderr"
        },
        {
          "output_type": "stream",
          "text": [
            "hapi(): Writing OMNI2_H0_MRG1HR___.json \n",
            "hapi(): Writing OMNI2_H0_MRG1HR___.pkl \n",
            "hapi(): Reading https://cdaweb.gsfc.nasa.gov/hapi/capabilities\n"
          ],
          "name": "stdout"
        },
        {
          "output_type": "stream",
          "text": [
            "/usr/local/lib/python3.7/dist-packages/urllib3/connectionpool.py:847: InsecureRequestWarning: Unverified HTTPS request is being made. Adding certificate verification is strongly advised. See: https://urllib3.readthedocs.io/en/latest/advanced-usage.html#ssl-warnings\n",
            "  InsecureRequestWarning)\n"
          ],
          "name": "stderr"
        },
        {
          "output_type": "stream",
          "text": [
            "hapi(): Writing https://cdaweb.gsfc.nasa.gov/hapi/data?id=OMNI2_H0_MRG1HR&parameters=DST1800&time.min=2003-09-01T00:00:00Z&time.max=2003-12-01T00:00:00Z&format=binary to OMNI2_H0_MRG1HR_DST1800_20030901T000000_20031201T000000.bin\n"
          ],
          "name": "stdout"
        },
        {
          "output_type": "stream",
          "text": [
            "/usr/local/lib/python3.7/dist-packages/urllib3/connectionpool.py:847: InsecureRequestWarning: Unverified HTTPS request is being made. Adding certificate verification is strongly advised. See: https://urllib3.readthedocs.io/en/latest/advanced-usage.html#ssl-warnings\n",
            "  InsecureRequestWarning)\n"
          ],
          "name": "stderr"
        },
        {
          "output_type": "stream",
          "text": [
            "hapi(): Reading and parsing OMNI2_H0_MRG1HR_DST1800_20030901T000000_20031201T000000.bin\n",
            "hapi(): Writing /tmp/hapi-data/cdaweb.gsfc.nasa.gov_hapi/OMNI2_H0_MRG1HR_DST1800_20030901T000000_20031201T000000.pkl\n",
            "hapi(): Writing /tmp/hapi-data/cdaweb.gsfc.nasa.gov_hapi/OMNI2_H0_MRG1HR_DST1800_20030901T000000_20031201T000000.npy\n"
          ],
          "name": "stdout"
        },
        {
          "output_type": "display_data",
          "data": {
            "text/plain": [
              "{'HAPI': '2.0',\n",
              " 'contact': 'NASA-SPDF-Support@nasa.onmicrosoft.com',\n",
              " 'parameters': [{'fill': None,\n",
              "   'length': 24,\n",
              "   'name': 'Time',\n",
              "   'type': 'isotime',\n",
              "   'units': 'UTC'},\n",
              "  {'description': 'Dst - 1-hour Dst index (1963/001-2014/366), Provisional Dst (2015/001-2016/366), Quick-look Dst (2017/001-2021/116), from WDC Kyoto',\n",
              "   'fill': '99999',\n",
              "   'name': 'DST1800',\n",
              "   'type': 'integer',\n",
              "   'units': 'nT'}],\n",
              " 'resourceURL': 'https://cdaweb.gsfc.nasa.gov/misc/NotesO.html#OMNI2_H0_MRG1HR',\n",
              " 'startDate': '1970-01-01T00:00:00Z',\n",
              " 'status': {'code': 1200, 'message': 'OK'},\n",
              " 'stopDate': '2021-05-11T14:00:00Z',\n",
              " 'x_cacheDir': '/tmp/hapi-data/cdaweb.gsfc.nasa.gov_hapi',\n",
              " 'x_dataFile': '/tmp/hapi-data/cdaweb.gsfc.nasa.gov_hapi/OMNI2_H0_MRG1HR_DST1800_20030901T000000_20031201T000000.bin',\n",
              " 'x_dataFileParsed': '/tmp/hapi-data/cdaweb.gsfc.nasa.gov_hapi/OMNI2_H0_MRG1HR_DST1800_20030901T000000_20031201T000000.npy',\n",
              " 'x_dataset': 'OMNI2_H0_MRG1HR',\n",
              " 'x_downloadTime': 1.0933701992034912,\n",
              " 'x_metaFile': '/tmp/hapi-data/cdaweb.gsfc.nasa.gov_hapi/OMNI2_H0_MRG1HR___.json',\n",
              " 'x_metaFileParsed': '/tmp/hapi-data/cdaweb.gsfc.nasa.gov_hapi/OMNI2_H0_MRG1HR___.pkl',\n",
              " 'x_parameters': 'DST1800',\n",
              " 'x_readTime': 0.00011515617370605469,\n",
              " 'x_requestDate': '2021-05-26T11:13:15',\n",
              " 'x_server': 'https://cdaweb.gsfc.nasa.gov/hapi',\n",
              " 'x_time.max': '2003-12-01T00:00:00Z',\n",
              " 'x_time.min': '2003-09-01T00:00:00Z',\n",
              " 'x_totalTime': 2.0009572505950928}"
            ]
          },
          "metadata": {
            "tags": []
          }
        },
        {
          "output_type": "display_data",
          "data": {
            "image/png": "[encoded data removed]",
            "text/plain": [
              "<Figure size 1008x432 with 1 Axes>"
            ]
          },
          "metadata": {
            "tags": []
          }
        },
        {
          "output_type": "stream",
          "text": [
            "\n",
            "dateTimes = \n"
          ],
          "name": "stdout"
        },
        {
          "output_type": "display_data",
          "data": {
            "text/plain": [
              "array([datetime.datetime(2003, 9, 1, 0, 30, tzinfo=<UTC>),\n",
              "       datetime.datetime(2003, 9, 1, 1, 30, tzinfo=<UTC>),\n",
              "       datetime.datetime(2003, 9, 1, 2, 30, tzinfo=<UTC>), ...,\n",
              "       datetime.datetime(2003, 11, 30, 21, 30, tzinfo=<UTC>),\n",
              "       datetime.datetime(2003, 11, 30, 22, 30, tzinfo=<UTC>),\n",
              "       datetime.datetime(2003, 11, 30, 23, 30, tzinfo=<UTC>)],\n",
              "      dtype=object)"
            ]
          },
          "metadata": {
            "tags": []
          }
        },
        {
          "output_type": "stream",
          "text": [
            "\n",
            "DST1800 =\n"
          ],
          "name": "stdout"
        },
        {
          "output_type": "display_data",
          "data": {
            "text/plain": [
              "array([datetime.datetime(2003, 9, 1, 0, 30, tzinfo=<UTC>),\n",
              "       datetime.datetime(2003, 9, 1, 1, 30, tzinfo=<UTC>),\n",
              "       datetime.datetime(2003, 9, 1, 2, 30, tzinfo=<UTC>), ...,\n",
              "       datetime.datetime(2003, 11, 30, 21, 30, tzinfo=<UTC>),\n",
              "       datetime.datetime(2003, 11, 30, 22, 30, tzinfo=<UTC>),\n",
              "       datetime.datetime(2003, 11, 30, 23, 30, tzinfo=<UTC>)],\n",
              "      dtype=object)"
            ]
          },
          "metadata": {
            "tags": []
          }
        }
      ]
    },
    {
      "cell_type": "markdown",
      "metadata": {
        "id": "k0Z6fVPQW6Di"
      },
      "source": [
        "## SSCWeb data"
      ]
    },
    {
      "cell_type": "code",
      "metadata": {
        "id": "rjXkzg6WW6Dj",
        "outputId": "432a76a7-b7b5-4ba1-a581-7a2fe21ed79d"
      },
      "source": [
        "from hapiclient import hapi\n",
        "from hapiclient import hapiplot\n",
        "\n",
        "server     = 'http://hapi-server.org/servers/SSCWeb/hapi'\n",
        "dataset    = 'ace'\n",
        "start      = '2001-01-01T05:00:00'\n",
        "stop       = '2001-01-01T06:00:00'\n",
        "parameters = 'X_GSE,Y_GSE,Z_GSE'\n",
        "opts       = {'logging': True, 'usecache': False}\n",
        "\n",
        "# Get parameter data. See section 5 for for information on getting available datasets and parameters\n",
        "data, meta = hapi(server, dataset, parameters, start, stop, **opts)\n",
        "\n",
        "# Plot all parameters. See section 3 and 4 for information\n",
        "# on extracting data and using other plotting functions.\n",
        "hapiplot(data, meta)"
      ],
      "execution_count": null,
      "outputs": [
        {
          "output_type": "stream",
          "text": [
            "hapi(): Running hapi.py version 0.1.0\n",
            "hapi(): hapi(): file directory = hapi-server.org_servers_SSCWeb_hapi\n",
            "hapi(): Reading http://hapi-server.org/servers/SSCWeb/hapi/info?id=ace\n",
            "hapi(): Writing ace.json \n",
            "hapi(): Writing ace.pkl \n",
            "hapi(): Reading http://hapi-server.org/servers/SSCWeb/hapi/capabilities\n",
            "hapi(): Writing http://hapi-server.org/servers/SSCWeb/hapi/data?id=ace&parameters=X_GSE,Y_GSE,Z_GSE&time.min=2001-01-01T05:00:00&time.max=2001-01-01T06:00:00&format=binary to ace_X_GSE-Y_GSE-Z_GSE_20010101T050000_20010101T060000.bin\n",
            "hapi(): Reading ace_X_GSE-Y_GSE-Z_GSE_20010101T050000_20010101T060000.bin\n",
            "hapi(): Writing hapi-server.org_servers_SSCWeb_hapi/ace_X_GSE-Y_GSE-Z_GSE_20010101T050000_20010101T060000.pkl\n",
            "hapi(): Writing hapi-server.org_servers_SSCWeb_hapi/ace_X_GSE-Y_GSE-Z_GSE_20010101T050000_20010101T060000.npy\n"
          ],
          "name": "stdout"
        },
        {
          "output_type": "display_data",
          "data": {
            "image/png": "[encoded data removed]",
            "text/plain": [
              "<Figure size 1008x432 with 1 Axes>"
            ]
          },
          "metadata": {
            "tags": [],
            "needs_background": "light"
          }
        },
        {
          "output_type": "display_data",
          "data": {
            "image/png": "[encoded data removed]",
            "text/plain": [
              "<Figure size 1008x432 with 1 Axes>"
            ]
          },
          "metadata": {
            "tags": [],
            "needs_background": "light"
          }
        },
        {
          "output_type": "display_data",
          "data": {
            "image/png": "[encoded data removed]",
            "text/plain": [
              "<Figure size 1008x432 with 1 Axes>"
            ]
          },
          "metadata": {
            "tags": [],
            "needs_background": "light"
          }
        },
        {
          "output_type": "execute_result",
          "data": {
            "text/plain": [
              "{'startDate': '1997-08-25T17:48:00.000Z',\n",
              " 'stopDate': '2019-02-04T23:36:00.000Z',\n",
              " 'cadence': 'PT720S',\n",
              " 'description': 'Ephemeris data',\n",
              " 'resourceURL': 'https://sscweb.sci.gsfc.nasa.gov/',\n",
              " 'parameters': [{'name': 'Time',\n",
              "   'type': 'isotime',\n",
              "   'units': 'UTC',\n",
              "   'fill': None,\n",
              "   'length': 18},\n",
              "  {'name': 'X_GSE',\n",
              "   'description': 'X Position in the Geocentric Solar Ecliptic coordinate system',\n",
              "   'units': 'R_E',\n",
              "   'fill': '1e31',\n",
              "   'type': 'double',\n",
              "   'hapiplot': {'figure': <Figure size 1008x432 with 1 Axes>}},\n",
              "  {'name': 'Y_GSE',\n",
              "   'description': 'Y Position in the Geocentric Solar Ecliptic coordinate system',\n",
              "   'units': 'R_E',\n",
              "   'fill': '1e31',\n",
              "   'type': 'double',\n",
              "   'hapiplot': {'figure': <Figure size 1008x432 with 1 Axes>}},\n",
              "  {'name': 'Z_GSE',\n",
              "   'description': 'Z Position in the Geocentric Solar Ecliptic coordinate system',\n",
              "   'units': 'R_E',\n",
              "   'fill': '1e31',\n",
              "   'type': 'double',\n",
              "   'hapiplot': {'figure': <Figure size 1008x432 with 1 Axes>}}],\n",
              " 'HAPI': '2.0',\n",
              " 'status': {'code': 1200, 'message': 'OK'},\n",
              " 'x_server': 'http://hapi-server.org/servers/SSCWeb/hapi',\n",
              " 'x_dataset': 'ace',\n",
              " 'x_parameters': 'X_GSE,Y_GSE,Z_GSE',\n",
              " 'x_time.min': '2001-01-01T05:00:00',\n",
              " 'x_time.max': '2001-01-01T06:00:00',\n",
              " 'x_requestDate': '2019-05-21T10:41:02',\n",
              " 'x_cacheDir': '/tmp/hapi-data/hapi-server.org_servers_SSCWeb_hapi',\n",
              " 'x_downloadTime': 0.7665941715240479,\n",
              " 'x_readTime': 0.00021696090698242188,\n",
              " 'x_metaFileParsed': '/tmp/hapi-data/hapi-server.org_servers_SSCWeb_hapi/ace.pkl',\n",
              " 'x_dataFileParsed': '/tmp/hapi-data/hapi-server.org_servers_SSCWeb_hapi/ace_X_GSE-Y_GSE-Z_GSE_20010101T050000_20010101T060000.npy',\n",
              " 'x_metaFile': '/tmp/hapi-data/hapi-server.org_servers_SSCWeb_hapi/ace.json',\n",
              " 'x_dataFile': '/tmp/hapi-data/hapi-server.org_servers_SSCWeb_hapi/ace_X_GSE-Y_GSE-Z_GSE_20010101T050000_20010101T060000.bin'}"
            ]
          },
          "metadata": {
            "tags": []
          },
          "execution_count": 5
        }
      ]
    },
    {
      "cell_type": "markdown",
      "metadata": {
        "id": "-cTz3pY0W6Dj"
      },
      "source": [
        "## CDAWeb data"
      ]
    },
    {
      "cell_type": "code",
      "metadata": {
        "id": "PsxllYbuW6Dj",
        "outputId": "716f55d1-e256-44fe-c923-2b760538b4b1"
      },
      "source": [
        "from hapiclient import hapi\n",
        "from hapiclient import hapiplot\n",
        "\n",
        "server     = 'https://cdaweb.gsfc.nasa.gov/hapi'\n",
        "dataset    = 'AC_H0_MFI'\n",
        "start      = '2001-01-01T05:00:00'\n",
        "stop       = '2001-01-01T06:00:00'\n",
        "parameters = 'Magnitude,BGSEc'\n",
        "opts       = {'logging': True, 'usecache': True}\n",
        "\n",
        "# Get data\n",
        "data, meta = hapi(server, dataset, parameters, start, stop, **opts)\n",
        "\n",
        "# Plot all parameters. See section 3 and 4 for information\n",
        "# on extracting data and using other plotting functions.\n",
        "hapiplot(data, meta)"
      ],
      "execution_count": null,
      "outputs": [
        {
          "output_type": "stream",
          "text": [
            "hapi(): Running hapi.py version 0.0.9b0\n",
            "hapi(): hapi(): file directory = cdaweb.gsfc.nasa.gov_hapi\n",
            "hapi(): Reading https://cdaweb.gsfc.nasa.gov/hapi/info?id=AC_H0_MFI\n",
            "hapi(): Writing AC_H0_MFI.json \n",
            "hapi(): Writing AC_H0_MFI.pkl \n",
            "hapi(): Reading https://cdaweb.gsfc.nasa.gov/hapi/capabilities\n",
            "hapi(): Writing https://cdaweb.gsfc.nasa.gov/hapi/data?id=AC_H0_MFI&parameters=Magnitude,BGSEc&time.min=2001-01-01T05:00:00&time.max=2001-01-01T06:00:00&format=binary to AC_H0_MFI_Magnitude-BGSEc_20010101T050000_20010101T060000.bin\n",
            "hapi(): Reading AC_H0_MFI_Magnitude-BGSEc_20010101T050000_20010101T060000.bin\n",
            "hapi(): Writing cdaweb.gsfc.nasa.gov_hapi/AC_H0_MFI_Magnitude-BGSEc_20010101T050000_20010101T060000.pkl\n",
            "hapi(): Writing cdaweb.gsfc.nasa.gov_hapi/AC_H0_MFI_Magnitude-BGSEc_20010101T050000_20010101T060000.npy\n"
          ],
          "name": "stdout"
        },
        {
          "output_type": "execute_result",
          "data": {
            "text/plain": [
              "{'HAPI': '2.0',\n",
              " 'status': {'code': 1200, 'message': 'OK'},\n",
              " 'parameters': [{'name': 'Time',\n",
              "   'type': 'isotime',\n",
              "   'units': 'UTC',\n",
              "   'length': 24,\n",
              "   'fill': None},\n",
              "  {'name': 'Magnitude',\n",
              "   'type': 'double',\n",
              "   'units': 'nT',\n",
              "   'fill': '-1.0E31',\n",
              "   'description': 'B-field magnitude',\n",
              "   'hapiplot': {'figure': <Figure size 2016x814 with 1 Axes>}},\n",
              "  {'name': 'BGSEc',\n",
              "   'type': 'double',\n",
              "   'units': 'nT',\n",
              "   'fill': '-1.0E31',\n",
              "   'description': 'Magnetic Field Vector in GSE Cartesian coordinates (16 sec)',\n",
              "   'size': [3],\n",
              "   'hapiplot': {'figure': <Figure size 2016x814 with 1 Axes>}}],\n",
              " 'startDate': '1997-09-02T00:00:12Z',\n",
              " 'stopDate': '2019-02-15T23:59:50Z',\n",
              " 'resourceURL': 'https://cdaweb.sci.gsfc.nasa.gov/misc/Notes.html#AC_H0_MFI',\n",
              " 'contact': 'voycrs@gmail.com',\n",
              " 'x_server': 'https://cdaweb.gsfc.nasa.gov/hapi',\n",
              " 'x_dataset': 'AC_H0_MFI',\n",
              " 'x_parameters': 'Magnitude,BGSEc',\n",
              " 'x_time.min': '2001-01-01T05:00:00',\n",
              " 'x_time.max': '2001-01-01T06:00:00',\n",
              " 'x_requestDate': '2019-05-15T22:39:30',\n",
              " 'x_cacheDir': '/var/folders/_p/1v6cbz012xvfz3m77y5_kvz80000gn/T/hapi-data/cdaweb.gsfc.nasa.gov_hapi',\n",
              " 'x_downloadTime': 0.25660085678100586,\n",
              " 'x_readTime': 0.0004520416259765625,\n",
              " 'x_metaFileParsed': '/var/folders/_p/1v6cbz012xvfz3m77y5_kvz80000gn/T/hapi-data/cdaweb.gsfc.nasa.gov_hapi/AC_H0_MFI.pkl',\n",
              " 'x_dataFileParsed': '/var/folders/_p/1v6cbz012xvfz3m77y5_kvz80000gn/T/hapi-data/cdaweb.gsfc.nasa.gov_hapi/AC_H0_MFI_Magnitude-BGSEc_20010101T050000_20010101T060000.npy',\n",
              " 'x_metaFile': '/var/folders/_p/1v6cbz012xvfz3m77y5_kvz80000gn/T/hapi-data/cdaweb.gsfc.nasa.gov_hapi/AC_H0_MFI.json',\n",
              " 'x_dataFile': '/var/folders/_p/1v6cbz012xvfz3m77y5_kvz80000gn/T/hapi-data/cdaweb.gsfc.nasa.gov_hapi/AC_H0_MFI_Magnitude-BGSEc_20010101T050000_20010101T060000.bin'}"
            ]
          },
          "metadata": {
            "tags": []
          },
          "execution_count": 6
        }
      ]
    },
    {
      "cell_type": "markdown",
      "metadata": {
        "id": "7Mm5y0eVW6Dk"
      },
      "source": [
        "## CASSINI"
      ]
    },
    {
      "cell_type": "code",
      "metadata": {
        "id": "A77KQu--W6Dk",
        "outputId": "7cb876c7-f97e-4418-c2dc-435fca463e69"
      },
      "source": [
        "from hapiclient import hapi\n",
        "from hapiclient import hapiplot\n",
        "\n",
        "server     = 'http://datashop.elasticbeanstalk.com/hapi';\n",
        "dataset    = 'CHEMS_PHA_BOX_FLUXES_FULL_TIME_RES';\n",
        "parameters = 'HPlus_BEST_T1';\n",
        "start      = '2004-07-01T04:00:00Z';\n",
        "stop       = '2004-07-01T06:00:00Z';\n",
        "opts       = {'usecache': True}\n",
        "\n",
        "# Get parameter data. See section 5 for for information on getting available datasets and parameters\n",
        "data,meta = hapi(server, dataset, parameters, start, stop, **opts)\n",
        "\n",
        "# Plot all parameters. See section 3 and 4 for information\n",
        "# on extracting data and using other plotting functions.\n",
        "popts = {'logging': False, 'logy': True, 'logz': True}\n",
        "hapiplot(data, meta, **popts)"
      ],
      "execution_count": null,
      "outputs": [
        {
          "output_type": "stream",
          "text": [
            "\u001b[31mheatmap() warning: \u001b[0mOnly bin centers given for x and bin separation distance is not constant. Bin width assumed based on separation distance and data pickers will not work properly.\n"
          ],
          "name": "stdout"
        },
        {
          "output_type": "display_data",
          "data": {
            "image/png": "[encoded data removed]",
            "text/plain": [
              "<Figure size 1008x432 with 2 Axes>"
            ]
          },
          "metadata": {
            "tags": [],
            "needs_background": "light"
          }
        },
        {
          "output_type": "execute_result",
          "data": {
            "text/plain": [
              "{'HAPI': '2.0',\n",
              " 'status': {'code': 1200, 'message': 'OK'},\n",
              " 'parameters': [{'name': 'Epoch',\n",
              "   'type': 'isotime',\n",
              "   'length': 22,\n",
              "   'units': 'UTC',\n",
              "   'fill': None,\n",
              "   'description': 'time as UTC string to milliseconds'},\n",
              "  {'name': 'HPlus_BEST_T1',\n",
              "   'type': 'double',\n",
              "   'units': 'particles/s/keV/cm^2/ster',\n",
              "   'size': [32],\n",
              "   'fill': '-1.0e38',\n",
              "   'description': 'HPlus_BEST_T1',\n",
              "   'bins': [{'name': 'energy',\n",
              "     'units': 'keV',\n",
              "     'centers': [2.809683857215968,\n",
              "      3.289629854178126,\n",
              "      3.7795747260769956,\n",
              "      4.399504972153117,\n",
              "      5.049431843039373,\n",
              "      5.859340712913015,\n",
              "      6.74924058228035,\n",
              "      7.809121325571782,\n",
              "      8.918996443546773,\n",
              "      10.298841184812979,\n",
              "      11.798672425319724,\n",
              "      13.598469913927815,\n",
              "      15.698233650637256,\n",
              "      18.09796363544805,\n",
              "      20.79765986836019,\n",
              "      23.897311098740794,\n",
              "      27.39691732658986,\n",
              "      31.496456050641633,\n",
              "      36.1959272708961,\n",
              "      41.59531973672038,\n",
              "      47.79462219748159,\n",
              "      54.89382340254684,\n",
              "      63.1928896000175,\n",
              "      72.59183204052643,\n",
              "      83.390616972175,\n",
              "      95.88921064306453,\n",
              "      110.08761305319503,\n",
              "      126.58575669876923,\n",
              "      145.28365283041998,\n",
              "      166.8812226937171,\n",
              "      191.57844378739483,\n",
              "      220.17522610639006],\n",
              "     'ranges': [[2.76785, 2.85215],\n",
              "      [3.24065, 3.3393499999999996],\n",
              "      [3.7232999999999996, 3.8366999999999996],\n",
              "      [4.3340000000000005, 4.466],\n",
              "      [4.97425, 5.125749999999999],\n",
              "      [5.7721, 5.9479],\n",
              "      [6.64875, 6.851249999999999],\n",
              "      [7.692849999999999, 7.927149999999999],\n",
              "      [8.7862, 9.053799999999999],\n",
              "      [10.1455, 10.4545],\n",
              "      [11.623000000000001, 11.977],\n",
              "      [13.395999999999999, 13.803999999999998],\n",
              "      [15.4645, 15.935499999999998],\n",
              "      [17.828500000000002, 18.3715],\n",
              "      [20.488, 21.112],\n",
              "      [23.5415, 24.258499999999998],\n",
              "      [26.988999999999997, 27.810999999999996],\n",
              "      [31.0275, 31.972499999999997],\n",
              "      [35.657000000000004, 36.743],\n",
              "      [40.976, 42.224],\n",
              "      [47.083, 48.516999999999996],\n",
              "      [54.076499999999996, 55.723499999999994],\n",
              "      [62.252, 64.148],\n",
              "      [71.511, 73.689],\n",
              "      [82.149, 84.651],\n",
              "      [94.4615, 97.3385],\n",
              "      [108.4485, 111.75149999999998],\n",
              "      [124.701, 128.499],\n",
              "      [143.12050000000002, 147.4795],\n",
              "      [164.3965, 169.40349999999998],\n",
              "      [188.726, 194.474],\n",
              "      [216.897, 223.50299999999996]]}],\n",
              "   'hapiplot': {'figure': <Figure size 1008x432 with 2 Axes>,\n",
              "    'colorbar': <matplotlib.colorbar.Colorbar at 0x7f47775e2d68>}}],\n",
              " 'startDate': '2004-001T00:00:04.734Z',\n",
              " 'stopDate': '2017-258T10:31:10.425Z',\n",
              " 'sampleStartDate': '2004-183T00:00:00.000Z',\n",
              " 'sampleStopDate': '2004-184T00:00:00.000Z',\n",
              " 'description': 'CHEMS PHA flux box intensities for many species at the highest time resolution',\n",
              " 'resourceURL': 'http://cassini-mimi.jhuapl.edu/MIDL/data/CPHAFULL0',\n",
              " 'creationDate': '2019-141T14:41:14.000Z',\n",
              " 'cadence': 'PT1M',\n",
              " 'x_server': 'http://datashop.elasticbeanstalk.com/hapi',\n",
              " 'x_dataset': 'CHEMS_PHA_BOX_FLUXES_FULL_TIME_RES',\n",
              " 'x_parameters': 'HPlus_BEST_T1',\n",
              " 'x_time.min': '2004-07-01T04:00:00Z',\n",
              " 'x_time.max': '2004-07-01T06:00:00Z',\n",
              " 'x_requestDate': '2019-05-21T10:41:12',\n",
              " 'x_cacheDir': '/tmp/hapi-data/datashop.elasticbeanstalk.com_hapi',\n",
              " 'x_downloadTime': 4.695701360702515,\n",
              " 'x_readTime': 0.0001888275146484375,\n",
              " 'x_metaFileParsed': '/tmp/hapi-data/datashop.elasticbeanstalk.com_hapi/CHEMS_PHA_BOX_FLUXES_FULL_TIME_RES.pkl',\n",
              " 'x_dataFileParsed': '/tmp/hapi-data/datashop.elasticbeanstalk.com_hapi/CHEMS_PHA_BOX_FLUXES_FULL_TIME_RES_HPlus_BEST_T1_20040701T040000_20040701T060000.npy',\n",
              " 'x_metaFile': '/tmp/hapi-data/datashop.elasticbeanstalk.com_hapi/CHEMS_PHA_BOX_FLUXES_FULL_TIME_RES.json',\n",
              " 'x_dataFile': '/tmp/hapi-data/datashop.elasticbeanstalk.com_hapi/CHEMS_PHA_BOX_FLUXES_FULL_TIME_RES_HPlus_BEST_T1_20040701T040000_20040701T060000.bin'}"
            ]
          },
          "metadata": {
            "tags": []
          },
          "execution_count": 6
        }
      ]
    },
    {
      "cell_type": "markdown",
      "metadata": {
        "id": "p8QD-RQXW6Dk"
      },
      "source": [
        "# Data Model\n",
        "\n",
        "A request for data of the form\n",
        "```\n",
        "data, meta = hapi(server, dataset, parameters, start, stop)\n",
        "```\n",
        "returns the [Numpy N-D array](https://docs.scipy.org/doc/numpy-1.15.1/user/quickstart.html) `data` and a Python dictionary `meta` from a HAPI-compliant data server `server`. The structure of `meta` mirrors the structure of the metadata response from a HAPI server.\n",
        "\n",
        "The basic data structure returned by all HAPI servers is a CSV file in which the first column is a time stamp and subsequent columns are data measured or associated with that time stamp. The columns are mapped to one or more parameters (that may be multi-dimensional arrays) using the metadata associated with the request for CSV data.\n",
        "\n",
        "For more information on the HAPI server specification, see https://github.com/hapi-server/data-specification. Note that `hapiclient` requests HAPI Binary from a server if that feature is available; a HAPI compliant server is only required to serve HAPI CSV."
      ]
    },
    {
      "cell_type": "markdown",
      "metadata": {
        "id": "XI4fUVj5W6Dl"
      },
      "source": [
        "## Extracting Data"
      ]
    },
    {
      "cell_type": "code",
      "metadata": {
        "id": "ZFRo76fzW6Dl"
      },
      "source": [
        "from hapiclient import hapi\n",
        "\n",
        "server     = 'http://hapi-server.org/servers/TestData2.0/hapi'\n",
        "dataset    = 'dataset1'\n",
        "parameters = 'scalar,vector'\n",
        "start      = '1970-01-01T00:00:00'\n",
        "stop       = '1970-01-01T00:00:10'\n",
        "\n",
        "data,meta = hapi(server,dataset,parameters,start,stop)"
      ],
      "execution_count": null,
      "outputs": []
    },
    {
      "cell_type": "markdown",
      "metadata": {
        "id": "GITbtWjmW6Dl"
      },
      "source": [
        "`data` is a Numpy N-D array with named fields `Time`, `scalar`, and `vector`. The array has 10 elements (one for each time value) and each element is a list."
      ]
    },
    {
      "cell_type": "code",
      "metadata": {
        "colab": {
          "base_uri": "https://localhost:8080/"
        },
        "id": "Satv6Bj1W6Dl",
        "outputId": "f80e3b72-675f-4bd5-e4e0-cc7de530d74e"
      },
      "source": [
        "data"
      ],
      "execution_count": null,
      "outputs": [
        {
          "output_type": "execute_result",
          "data": {
            "text/plain": [
              "array([(b'1970-01-01T00:00:00.000Z', 0.        , [ 0.        , -0.70710678, -1.        ]),\n",
              "       (b'1970-01-01T00:00:01.000Z', 0.00523596, [ 0.00523596, -0.7033947 , -0.99998629]),\n",
              "       (b'1970-01-01T00:00:02.000Z', 0.01047178, [ 0.01047178, -0.69966334, -0.99994517]),\n",
              "       (b'1970-01-01T00:00:03.000Z', 0.01570732, [ 0.01570732, -0.6959128 , -0.99987663]),\n",
              "       (b'1970-01-01T00:00:04.000Z', 0.02094242, [ 0.02094242, -0.69214317, -0.99978068]),\n",
              "       (b'1970-01-01T00:00:05.000Z', 0.02617695, [ 0.02617695, -0.68835458, -0.99965732]),\n",
              "       (b'1970-01-01T00:00:06.000Z', 0.03141076, [ 0.03141076, -0.68454711, -0.99950656]),\n",
              "       (b'1970-01-01T00:00:07.000Z', 0.03664371, [ 0.03664371, -0.68072087, -0.99932839]),\n",
              "       (b'1970-01-01T00:00:08.000Z', 0.04187565, [ 0.04187565, -0.67687597, -0.99912283]),\n",
              "       (b'1970-01-01T00:00:09.000Z', 0.04710645, [ 0.04710645, -0.67301251, -0.99888987])],\n",
              "      dtype=[('Time', 'S24'), ('scalar', '<f8'), ('vector', '<f8', (3,))])"
            ]
          },
          "metadata": {
            "tags": []
          },
          "execution_count": 6
        }
      ]
    },
    {
      "cell_type": "markdown",
      "metadata": {
        "id": "Iqlq3FVKW6Dl"
      },
      "source": [
        "Access all values for parameter `Time`"
      ]
    },
    {
      "cell_type": "code",
      "metadata": {
        "id": "pU6_iEQlW6Dm",
        "outputId": "20178b65-25ee-4f0b-e0df-14200418128e"
      },
      "source": [
        "data['Time']"
      ],
      "execution_count": null,
      "outputs": [
        {
          "output_type": "execute_result",
          "data": {
            "text/plain": [
              "array([b'1970-01-01T00:00:00.000Z', b'1970-01-01T00:00:01.000Z',\n",
              "       b'1970-01-01T00:00:02.000Z', b'1970-01-01T00:00:03.000Z',\n",
              "       b'1970-01-01T00:00:04.000Z', b'1970-01-01T00:00:05.000Z',\n",
              "       b'1970-01-01T00:00:06.000Z', b'1970-01-01T00:00:07.000Z',\n",
              "       b'1970-01-01T00:00:08.000Z', b'1970-01-01T00:00:09.000Z'],\n",
              "      dtype='|S24')"
            ]
          },
          "metadata": {
            "tags": []
          },
          "execution_count": 11
        }
      ]
    },
    {
      "cell_type": "markdown",
      "metadata": {
        "id": "x8PS0mefW6Dm"
      },
      "source": [
        "Convert elements of `Time` to Python `datetime` objects"
      ]
    },
    {
      "cell_type": "code",
      "metadata": {
        "colab": {
          "base_uri": "https://localhost:8080/"
        },
        "id": "qUtza4Y_W6Dm",
        "outputId": "795a7a08-c120-4d6b-eb26-08cdcbdfa674"
      },
      "source": [
        "from hapiclient import hapitime2datetime\n",
        "dateTime = hapitime2datetime(data['Time'])\n",
        "dateTime"
      ],
      "execution_count": null,
      "outputs": [
        {
          "output_type": "execute_result",
          "data": {
            "text/plain": [
              "array([datetime.datetime(1970, 1, 1, 0, 0, tzinfo=<UTC>),\n",
              "       datetime.datetime(1970, 1, 1, 0, 0, 1, tzinfo=<UTC>),\n",
              "       datetime.datetime(1970, 1, 1, 0, 0, 2, tzinfo=<UTC>),\n",
              "       datetime.datetime(1970, 1, 1, 0, 0, 3, tzinfo=<UTC>),\n",
              "       datetime.datetime(1970, 1, 1, 0, 0, 4, tzinfo=<UTC>),\n",
              "       datetime.datetime(1970, 1, 1, 0, 0, 5, tzinfo=<UTC>),\n",
              "       datetime.datetime(1970, 1, 1, 0, 0, 6, tzinfo=<UTC>),\n",
              "       datetime.datetime(1970, 1, 1, 0, 0, 7, tzinfo=<UTC>),\n",
              "       datetime.datetime(1970, 1, 1, 0, 0, 8, tzinfo=<UTC>),\n",
              "       datetime.datetime(1970, 1, 1, 0, 0, 9, tzinfo=<UTC>)], dtype=object)"
            ]
          },
          "metadata": {
            "tags": []
          },
          "execution_count": 7
        }
      ]
    },
    {
      "cell_type": "markdown",
      "metadata": {
        "id": "BiFuvnNYW6Dm"
      },
      "source": [
        "Access all values for parameter `vector`"
      ]
    },
    {
      "cell_type": "code",
      "metadata": {
        "colab": {
          "base_uri": "https://localhost:8080/"
        },
        "id": "xd8v95D1W6Dm",
        "outputId": "32125666-1e33-4a6f-b160-deee2715bf4b"
      },
      "source": [
        "data['vector']"
      ],
      "execution_count": null,
      "outputs": [
        {
          "output_type": "execute_result",
          "data": {
            "text/plain": [
              "array([[ 0.        , -0.70710678, -1.        ],\n",
              "       [ 0.00523596, -0.7033947 , -0.99998629],\n",
              "       [ 0.01047178, -0.69966334, -0.99994517],\n",
              "       [ 0.01570732, -0.6959128 , -0.99987663],\n",
              "       [ 0.02094242, -0.69214317, -0.99978068],\n",
              "       [ 0.02617695, -0.68835458, -0.99965732],\n",
              "       [ 0.03141076, -0.68454711, -0.99950656],\n",
              "       [ 0.03664371, -0.68072087, -0.99932839],\n",
              "       [ 0.04187565, -0.67687597, -0.99912283],\n",
              "       [ 0.04710645, -0.67301251, -0.99888987]])"
            ]
          },
          "metadata": {
            "tags": []
          },
          "execution_count": 8
        }
      ]
    },
    {
      "cell_type": "markdown",
      "metadata": {
        "id": "gpUxr1edW6Dn"
      },
      "source": [
        "Access first element (all parameters at first time)"
      ]
    },
    {
      "cell_type": "code",
      "metadata": {
        "colab": {
          "base_uri": "https://localhost:8080/"
        },
        "id": "c5V4f-x3W6Dn",
        "outputId": "b15ad0a0-aa59-4a30-f3c5-076af09e92b2"
      },
      "source": [
        "data[0]"
      ],
      "execution_count": null,
      "outputs": [
        {
          "output_type": "execute_result",
          "data": {
            "text/plain": [
              "(b'1970-01-01T00:00:00.000Z', 0., [ 0.        , -0.70710678, -1.        ])"
            ]
          },
          "metadata": {
            "tags": []
          },
          "execution_count": 9
        }
      ]
    },
    {
      "cell_type": "markdown",
      "metadata": {
        "id": "i3u2x6OXW6Dn"
      },
      "source": [
        "Access value of `vector` at second timestep."
      ]
    },
    {
      "cell_type": "code",
      "metadata": {
        "colab": {
          "base_uri": "https://localhost:8080/"
        },
        "id": "SfRuSHmBW6Dn",
        "outputId": "aadc24ad-3969-4791-ed67-6f7eef537a86"
      },
      "source": [
        "data['vector'][1] "
      ],
      "execution_count": null,
      "outputs": [
        {
          "output_type": "execute_result",
          "data": {
            "text/plain": [
              "array([ 0.00523596, -0.7033947 , -0.99998629])"
            ]
          },
          "metadata": {
            "tags": []
          },
          "execution_count": 10
        }
      ]
    },
    {
      "cell_type": "markdown",
      "metadata": {
        "id": "CKoRfY20W6Dn"
      },
      "source": [
        "Access value of second component of `vector` at second timestep"
      ]
    },
    {
      "cell_type": "code",
      "metadata": {
        "colab": {
          "base_uri": "https://localhost:8080/"
        },
        "id": "piVwAegDW6Do",
        "outputId": "82faf274-c8d4-4211-bac8-e3a10ee770df"
      },
      "source": [
        "data['vector'][1,1]"
      ],
      "execution_count": null,
      "outputs": [
        {
          "output_type": "execute_result",
          "data": {
            "text/plain": [
              "-0.7033947028105039"
            ]
          },
          "metadata": {
            "tags": []
          },
          "execution_count": 11
        }
      ]
    },
    {
      "cell_type": "markdown",
      "metadata": {
        "id": "og71yLWGW6Do"
      },
      "source": [
        "## Time Representation\n",
        "\n",
        "A HAPI-compliant server represents time as an ISO 8601 string (with several constraints - see the [HAPI specification](https://github.com/hapi-server/data-specification/blob/master/hapi-dev/HAPI-data-access-spec-dev.md#representation-of-time)). `hapi.py` reads these into a NumPy array of [Python byte literals](https://stackoverflow.com/a/6273618). To convert byte literals to Python `datetime` objects, the function [`hapitime2datetime`](https://github.com/hapi-server/client-python/blob/master/hapiclient/hapi.py) can be used. Internally, this function uses `pandas.to_datetime` for parsing if possible. Otherwise it falls back to a manual method for parsing. The byte literals can also be converted to Astropy time objects as shown below."
      ]
    },
    {
      "cell_type": "code",
      "metadata": {
        "id": "bYIrxLUOW6Do"
      },
      "source": [
        "from hapiclient import hapi\n",
        "from hapiclient import hapitime2datetime\n",
        "\n",
        "server     = 'http://hapi-server.org/servers/TestData2.0/hapi'\n",
        "dataset    = 'dataset1'\n",
        "parameters = 'scalar,vector'\n",
        "start      = '1970-01-01T00:00:00'\n",
        "stop       = '1970-01-01T00:00:10'\n",
        "\n",
        "data, meta = hapi(server, dataset, parameters, start, stop)"
      ],
      "execution_count": null,
      "outputs": []
    },
    {
      "cell_type": "code",
      "metadata": {
        "colab": {
          "base_uri": "https://localhost:8080/"
        },
        "id": "zqLUxv8XW6Do",
        "outputId": "4d14834d-8d2c-4e22-fb6a-7df62b591b44"
      },
      "source": [
        "data['Time']"
      ],
      "execution_count": null,
      "outputs": [
        {
          "output_type": "execute_result",
          "data": {
            "text/plain": [
              "array([b'1970-01-01T00:00:00.000Z', b'1970-01-01T00:00:01.000Z',\n",
              "       b'1970-01-01T00:00:02.000Z', b'1970-01-01T00:00:03.000Z',\n",
              "       b'1970-01-01T00:00:04.000Z', b'1970-01-01T00:00:05.000Z',\n",
              "       b'1970-01-01T00:00:06.000Z', b'1970-01-01T00:00:07.000Z',\n",
              "       b'1970-01-01T00:00:08.000Z', b'1970-01-01T00:00:09.000Z'],\n",
              "      dtype='|S24')"
            ]
          },
          "metadata": {
            "tags": []
          },
          "execution_count": 14
        }
      ]
    },
    {
      "cell_type": "code",
      "metadata": {
        "colab": {
          "base_uri": "https://localhost:8080/"
        },
        "id": "3W6cMLu1W6Do",
        "outputId": "0987da6c-1772-4206-d379-c74e1243bbf4"
      },
      "source": [
        "hapitime2datetime(data['Time'])"
      ],
      "execution_count": null,
      "outputs": [
        {
          "output_type": "execute_result",
          "data": {
            "text/plain": [
              "array([datetime.datetime(1970, 1, 1, 0, 0, tzinfo=<UTC>),\n",
              "       datetime.datetime(1970, 1, 1, 0, 0, 1, tzinfo=<UTC>),\n",
              "       datetime.datetime(1970, 1, 1, 0, 0, 2, tzinfo=<UTC>),\n",
              "       datetime.datetime(1970, 1, 1, 0, 0, 3, tzinfo=<UTC>),\n",
              "       datetime.datetime(1970, 1, 1, 0, 0, 4, tzinfo=<UTC>),\n",
              "       datetime.datetime(1970, 1, 1, 0, 0, 5, tzinfo=<UTC>),\n",
              "       datetime.datetime(1970, 1, 1, 0, 0, 6, tzinfo=<UTC>),\n",
              "       datetime.datetime(1970, 1, 1, 0, 0, 7, tzinfo=<UTC>),\n",
              "       datetime.datetime(1970, 1, 1, 0, 0, 8, tzinfo=<UTC>),\n",
              "       datetime.datetime(1970, 1, 1, 0, 0, 9, tzinfo=<UTC>)], dtype=object)"
            ]
          },
          "metadata": {
            "tags": []
          },
          "execution_count": 15
        }
      ]
    },
    {
      "cell_type": "code",
      "metadata": {
        "colab": {
          "base_uri": "https://localhost:8080/"
        },
        "id": "WgPeIMDcW6Dp",
        "outputId": "93d17582-1b63-4b0e-c4b2-a7f0bf0b4705"
      },
      "source": [
        "!pip install astropy\n",
        "from astropy.time import Time\n",
        "Time(data['Time'])"
      ],
      "execution_count": null,
      "outputs": [
        {
          "output_type": "stream",
          "text": [
            "Requirement already satisfied: astropy in /usr/local/lib/python3.7/dist-packages (4.2.1)\n",
            "Requirement already satisfied: pyerfa in /usr/local/lib/python3.7/dist-packages (from astropy) (2.0.0)\n",
            "Requirement already satisfied: numpy>=1.17 in /usr/local/lib/python3.7/dist-packages (from astropy) (1.19.5)\n"
          ],
          "name": "stdout"
        },
        {
          "output_type": "execute_result",
          "data": {
            "text/plain": [
              "<Time object: scale='utc' format='isot' value=['1970-01-01T00:00:00.000' '1970-01-01T00:00:01.000'\n",
              " '1970-01-01T00:00:02.000' '1970-01-01T00:00:03.000'\n",
              " '1970-01-01T00:00:04.000' '1970-01-01T00:00:05.000'\n",
              " '1970-01-01T00:00:06.000' '1970-01-01T00:00:07.000'\n",
              " '1970-01-01T00:00:08.000' '1970-01-01T00:00:09.000']>"
            ]
          },
          "metadata": {
            "tags": []
          },
          "execution_count": 16
        }
      ]
    },
    {
      "cell_type": "markdown",
      "metadata": {
        "id": "uOe2MX__W6Dp"
      },
      "source": [
        "The datetime objects are not timezone aware; all HAPI times are UTC and it seems that UTC is generally assumed by Python libraries if no timezone information is given. One known exception is when converting to Unix time."
      ]
    },
    {
      "cell_type": "code",
      "metadata": {
        "colab": {
          "base_uri": "https://localhost:8080/"
        },
        "id": "DMqujeMnW6Dp",
        "outputId": "cf8ec2fc-f6e0-4564-ab72-797f790d6d1f"
      },
      "source": [
        "dateTimes = hapitime2datetime(data['Time'])\n",
        "dateTimes[0].timestamp() # 0.0 is expected but result is given in local timezone"
      ],
      "execution_count": null,
      "outputs": [
        {
          "output_type": "execute_result",
          "data": {
            "text/plain": [
              "0.0"
            ]
          },
          "metadata": {
            "tags": []
          },
          "execution_count": 17
        }
      ]
    },
    {
      "cell_type": "code",
      "metadata": {
        "colab": {
          "base_uri": "https://localhost:8080/"
        },
        "id": "FSukGq8hW6Dp",
        "outputId": "365e69f0-95c7-47f1-80e5-7074ce6d977c"
      },
      "source": [
        "from datetime import timezone\n",
        "dateTimesUTCAware = [dt.replace(tzinfo=timezone.utc) for dt in dateTimes]\n",
        "dateTimesUTCAware[0].timestamp() # 0.00\n",
        "# See https://stackoverflow.com/a/41624199 for Python 2.7"
      ],
      "execution_count": null,
      "outputs": [
        {
          "output_type": "execute_result",
          "data": {
            "text/plain": [
              "0.0"
            ]
          },
          "metadata": {
            "tags": []
          },
          "execution_count": 18
        }
      ]
    },
    {
      "cell_type": "markdown",
      "metadata": {
        "id": "ZVSBi11IW6Dp"
      },
      "source": [
        "## Generating Data"
      ]
    },
    {
      "cell_type": "markdown",
      "metadata": {
        "id": "djw-QZiBW6Dq"
      },
      "source": [
        "A HAPI response of\n",
        "\n",
        "```\n",
        "1970-01-01T00:00:00.000Z, 1.,2.,3.\n",
        "1970-01-01T00:00:02.000Z, 4.,5.,6.\n",
        "```\n",
        "\n",
        "where the metadata indicates there is one parameter named `vector` with `size=[3]` and `type=double` could be created by"
      ]
    },
    {
      "cell_type": "code",
      "metadata": {
        "colab": {
          "base_uri": "https://localhost:8080/"
        },
        "id": "Re-c-cZWW6Dq",
        "outputId": "38e9b735-8500-40a6-d417-c818e906022c"
      },
      "source": [
        "import numpy as np\n",
        "data = np.ndarray(shape=(2), dtype=[('Time', 'S24'), ('vector', '<f8', (3,))])\n",
        "\n",
        "# Populate: method 1\n",
        "data['Time'] = np.array([b'1970-01-01T00:00:00.000Z', b'1970-01-01T00:00:01.000Z'])\n",
        "data['vector'] = np.array([[1.0,2.0,3.0],[4.0,5.0,6.0]])\n",
        "\n",
        "# Populate: method 2\n",
        "data[0] = (b'1970-01-01T00:00:00.000Z', [1.0,2.0,3.0])\n",
        "data[1] = (b'1970-01-01T00:00:01.000Z', [4.0,5.0,6.0])\n",
        "\n",
        "data"
      ],
      "execution_count": null,
      "outputs": [
        {
          "output_type": "execute_result",
          "data": {
            "text/plain": [
              "array([(b'1970-01-01T00:00:00.000Z', [1., 2., 3.]),\n",
              "       (b'1970-01-01T00:00:01.000Z', [4., 5., 6.])],\n",
              "      dtype=[('Time', 'S24'), ('vector', '<f8', (3,))])"
            ]
          },
          "metadata": {
            "tags": []
          },
          "execution_count": 19
        }
      ]
    },
    {
      "cell_type": "markdown",
      "metadata": {
        "id": "Hc5GS_qgW6Dq"
      },
      "source": [
        "A HAPI response of\n",
        "\n",
        "```\n",
        "1970-01-01T00:00:00.000Z, 1.,2.,3.,4.,5.,6.,7.,8.,9.\n",
        "1970-01-01T00:00:02.000Z, 11.,12.,13.,14.,15.,16.,17.,18.,19.\n",
        "```\n",
        "where the metadata indicates there is one parameter named `matrix` with `size=[3,3]` and `type=double` could be created by"
      ]
    },
    {
      "cell_type": "code",
      "metadata": {
        "colab": {
          "base_uri": "https://localhost:8080/"
        },
        "id": "FtE0FYUtW6Dq",
        "outputId": "9f5400c8-03bd-4188-f632-c1f8cbdb39a9"
      },
      "source": [
        "import numpy as np\n",
        "\n",
        "# Allocate\n",
        "data = np.ndarray(shape=(2), dtype=[('Time', 'S24'), ('matrix', '<f8', (3,3,))])\n",
        "\n",
        "# Populate\n",
        "data['Time'] = np.array([b'1970-01-01T00:00:00.000Z', b'1970-01-01T00:00:01.000Z'])\n",
        "data['matrix'] = np.array( [ [[1.0,2.0,3.0],[4.0,5.0,6.0],[7.0,8.0,9.0]], [[11.0,12.0,13.0],[14.0,15.0,16.0],[17.0,18.0,19.0]]] )\n",
        "\n",
        "data"
      ],
      "execution_count": null,
      "outputs": [
        {
          "output_type": "execute_result",
          "data": {
            "text/plain": [
              "array([(b'1970-01-01T00:00:00.000Z', [[ 1.,  2.,  3.], [ 4.,  5.,  6.], [ 7.,  8.,  9.]]),\n",
              "       (b'1970-01-01T00:00:01.000Z', [[11., 12., 13.], [14., 15., 16.], [17., 18., 19.]])],\n",
              "      dtype=[('Time', 'S24'), ('matrix', '<f8', (3, 3))])"
            ]
          },
          "metadata": {
            "tags": []
          },
          "execution_count": 20
        }
      ]
    },
    {
      "cell_type": "markdown",
      "metadata": {
        "id": "vARSr3WEW6Dq"
      },
      "source": [
        "Multiple parameters, e.g. a response with both the vector and matrix parameters considered above\n",
        "\n",
        "```\n",
        "1970-01-01T00:00:00.000Z, 1.,2.,3.,  1.,2.,3.,4.,5.,6.,7.,8.,9.\n",
        "1970-01-01T00:00:02.000Z, 4.,5.,6., 11.,12.,13.,14.,15.,16.,17.,18.,19.\n",
        "```\n",
        "\n",
        "can be created by populating"
      ]
    },
    {
      "cell_type": "code",
      "metadata": {
        "colab": {
          "base_uri": "https://localhost:8080/"
        },
        "id": "q_i_qXFcW6Dr",
        "outputId": "3c60ef4a-01b6-4b47-9454-47570743195f"
      },
      "source": [
        "data = np.ndarray(shape=(2), dtype=[('Time', 'S24'), ('vector', '<f8', (3,)), ('matrix', '<f8', (3,3,))])\n",
        "data['Time'] = np.array([b'1970-01-01T00:00:00.000Z', b'1970-01-01T00:00:01.000Z'])\n",
        "data['vector'] = np.array([[1.0,2.0,3.0],[4.0,5.0,6.0]])\n",
        "data['matrix'] = np.array( [ [[1.0,2.0,3.0],[4.0,5.0,6.0],[7.0,8.0,9.0]], [[11.0,12.0,13.0],[14.0,15.0,16.0],[17.0,18.0,19.0]]] )\n",
        "data"
      ],
      "execution_count": null,
      "outputs": [
        {
          "output_type": "execute_result",
          "data": {
            "text/plain": [
              "array([(b'1970-01-01T00:00:00.000Z', [1., 2., 3.], [[ 1.,  2.,  3.], [ 4.,  5.,  6.], [ 7.,  8.,  9.]]),\n",
              "       (b'1970-01-01T00:00:01.000Z', [4., 5., 6.], [[11., 12., 13.], [14., 15., 16.], [17., 18., 19.]])],\n",
              "      dtype=[('Time', 'S24'), ('vector', '<f8', (3,)), ('matrix', '<f8', (3, 3))])"
            ]
          },
          "metadata": {
            "tags": []
          },
          "execution_count": 21
        }
      ]
    },
    {
      "cell_type": "markdown",
      "metadata": {
        "id": "crdhE76LW6Dr"
      },
      "source": [
        "## To Pandas DataFrame"
      ]
    },
    {
      "cell_type": "code",
      "metadata": {
        "colab": {
          "base_uri": "https://localhost:8080/",
          "height": 390
        },
        "id": "sZdqFSvCW6Dr",
        "outputId": "037e2b61-2ade-4429-e00f-ecb605fd33a2"
      },
      "source": [
        "# Get data for use below\n",
        "from hapiclient import hapi\n",
        "from hapiclient import hapitime2datetime\n",
        "\n",
        "server     = 'http://hapi-server.org/servers/TestData2.0/hapi'\n",
        "dataset    = 'dataset1'\n",
        "parameters = 'scalar,vector'\n",
        "start      = '1970-01-01T00:00:00'\n",
        "stop       = '1970-01-01T00:00:10'\n",
        "\n",
        "data, meta = hapi(server,dataset,parameters,start,stop)\n",
        "\n",
        "import pandas\n",
        "\n",
        "df_Time = pandas.DataFrame(hapitime2datetime(data['Time']))\n",
        "df_scalar = pandas.DataFrame(data['scalar'])\n",
        "df_vector = pandas.DataFrame(data['vector'])\n",
        "\n",
        "# Create DataFrame\n",
        "df = pandas.DataFrame()\n",
        "\n",
        "# Combine DataFrame\n",
        "df = pandas.concat([df_Time, df_scalar, df_vector], axis=1)\n",
        "\n",
        "# Name columns\n",
        "df.columns = ['Time', 'scalar','vector_x', 'vector_y', 'vector_z']\n",
        "\n",
        "# Set Time to be index\n",
        "df.set_index('Time', inplace=True)\n",
        "\n",
        "df"
      ],
      "execution_count": null,
      "outputs": [
        {
          "output_type": "execute_result",
          "data": {
            "text/html": [
              "<div>\n",
              "<style scoped>\n",
              "    .dataframe tbody tr th:only-of-type {\n",
              "        vertical-align: middle;\n",
              "    }\n",
              "\n",
              "    .dataframe tbody tr th {\n",
              "        vertical-align: top;\n",
              "    }\n",
              "\n",
              "    .dataframe thead th {\n",
              "        text-align: right;\n",
              "    }\n",
              "</style>\n",
              "<table border=\"1\" class=\"dataframe\">\n",
              "  <thead>\n",
              "    <tr style=\"text-align: right;\">\n",
              "      <th></th>\n",
              "      <th>scalar</th>\n",
              "      <th>vector_x</th>\n",
              "      <th>vector_y</th>\n",
              "      <th>vector_z</th>\n",
              "    </tr>\n",
              "    <tr>\n",
              "      <th>Time</th>\n",
              "      <th></th>\n",
              "      <th></th>\n",
              "      <th></th>\n",
              "      <th></th>\n",
              "    </tr>\n",
              "  </thead>\n",
              "  <tbody>\n",
              "    <tr>\n",
              "      <th>1970-01-01 00:00:00+00:00</th>\n",
              "      <td>0.000000</td>\n",
              "      <td>0.000000</td>\n",
              "      <td>-0.707107</td>\n",
              "      <td>-1.000000</td>\n",
              "    </tr>\n",
              "    <tr>\n",
              "      <th>1970-01-01 00:00:01+00:00</th>\n",
              "      <td>0.005236</td>\n",
              "      <td>0.005236</td>\n",
              "      <td>-0.703395</td>\n",
              "      <td>-0.999986</td>\n",
              "    </tr>\n",
              "    <tr>\n",
              "      <th>1970-01-01 00:00:02+00:00</th>\n",
              "      <td>0.010472</td>\n",
              "      <td>0.010472</td>\n",
              "      <td>-0.699663</td>\n",
              "      <td>-0.999945</td>\n",
              "    </tr>\n",
              "    <tr>\n",
              "      <th>1970-01-01 00:00:03+00:00</th>\n",
              "      <td>0.015707</td>\n",
              "      <td>0.015707</td>\n",
              "      <td>-0.695913</td>\n",
              "      <td>-0.999877</td>\n",
              "    </tr>\n",
              "    <tr>\n",
              "      <th>1970-01-01 00:00:04+00:00</th>\n",
              "      <td>0.020942</td>\n",
              "      <td>0.020942</td>\n",
              "      <td>-0.692143</td>\n",
              "      <td>-0.999781</td>\n",
              "    </tr>\n",
              "    <tr>\n",
              "      <th>1970-01-01 00:00:05+00:00</th>\n",
              "      <td>0.026177</td>\n",
              "      <td>0.026177</td>\n",
              "      <td>-0.688355</td>\n",
              "      <td>-0.999657</td>\n",
              "    </tr>\n",
              "    <tr>\n",
              "      <th>1970-01-01 00:00:06+00:00</th>\n",
              "      <td>0.031411</td>\n",
              "      <td>0.031411</td>\n",
              "      <td>-0.684547</td>\n",
              "      <td>-0.999507</td>\n",
              "    </tr>\n",
              "    <tr>\n",
              "      <th>1970-01-01 00:00:07+00:00</th>\n",
              "      <td>0.036644</td>\n",
              "      <td>0.036644</td>\n",
              "      <td>-0.680721</td>\n",
              "      <td>-0.999328</td>\n",
              "    </tr>\n",
              "    <tr>\n",
              "      <th>1970-01-01 00:00:08+00:00</th>\n",
              "      <td>0.041876</td>\n",
              "      <td>0.041876</td>\n",
              "      <td>-0.676876</td>\n",
              "      <td>-0.999123</td>\n",
              "    </tr>\n",
              "    <tr>\n",
              "      <th>1970-01-01 00:00:09+00:00</th>\n",
              "      <td>0.047106</td>\n",
              "      <td>0.047106</td>\n",
              "      <td>-0.673013</td>\n",
              "      <td>-0.998890</td>\n",
              "    </tr>\n",
              "  </tbody>\n",
              "</table>\n",
              "</div>"
            ],
            "text/plain": [
              "                             scalar  vector_x  vector_y  vector_z\n",
              "Time                                                             \n",
              "1970-01-01 00:00:00+00:00  0.000000  0.000000 -0.707107 -1.000000\n",
              "1970-01-01 00:00:01+00:00  0.005236  0.005236 -0.703395 -0.999986\n",
              "1970-01-01 00:00:02+00:00  0.010472  0.010472 -0.699663 -0.999945\n",
              "1970-01-01 00:00:03+00:00  0.015707  0.015707 -0.695913 -0.999877\n",
              "1970-01-01 00:00:04+00:00  0.020942  0.020942 -0.692143 -0.999781\n",
              "1970-01-01 00:00:05+00:00  0.026177  0.026177 -0.688355 -0.999657\n",
              "1970-01-01 00:00:06+00:00  0.031411  0.031411 -0.684547 -0.999507\n",
              "1970-01-01 00:00:07+00:00  0.036644  0.036644 -0.680721 -0.999328\n",
              "1970-01-01 00:00:08+00:00  0.041876  0.041876 -0.676876 -0.999123\n",
              "1970-01-01 00:00:09+00:00  0.047106  0.047106 -0.673013 -0.998890"
            ]
          },
          "metadata": {
            "tags": []
          },
          "execution_count": 22
        }
      ]
    },
    {
      "cell_type": "markdown",
      "metadata": {
        "id": "s4odZYcPW6Dr"
      },
      "source": [
        "## To Astropy NDArray "
      ]
    },
    {
      "cell_type": "code",
      "metadata": {
        "colab": {
          "base_uri": "https://localhost:8080/"
        },
        "id": "UGU9nYBQW6Ds",
        "outputId": "f4dd81ed-875c-495e-8a69-c25d3c56cdde"
      },
      "source": [
        "from hapiclient import hapi\n",
        "from hapiclient import hapitime2datetime\n",
        "\n",
        "server     = 'http://hapi-server.org/servers/TestData2.0/hapi'\n",
        "dataset    = 'dataset1'\n",
        "parameters = 'scalar,vector'\n",
        "start      = '1970-01-01T00:00:00'\n",
        "stop       = '1970-01-01T00:00:10'\n",
        "\n",
        "data, meta = hapi(server, dataset, parameters, start, stop)\n",
        "\n",
        "dateTimes = hapitime2datetime(data['Time'])\n",
        "\n",
        "from datetime import timezone\n",
        "times = [dt.replace(tzinfo=timezone.utc).timestamp() for dt in dateTimes]\n",
        "\n",
        "import astropy.wcs\n",
        "import astropy.units as u\n",
        "import numpy as np\n",
        "\n",
        "!pip install ndcube\n",
        "import ndcube\n",
        "\n",
        "my_wcs = astropy.wcs.WCS({\"CTYPE1\": \"TIME\", \n",
        "                          \"CUNIT1\": \"s\", \n",
        "                          \"CDELT1\": 1, \n",
        "                          \"CRPIX1\": 0, \n",
        "                          \"CRVAL1\": 0, \n",
        "                          \"NAXIS1\": 10})\n",
        "\n",
        "extra_coords = [(\"time\", 0, dateTimes)]\n",
        "\n",
        "cube = ndcube.NDCube(data['scalar'], my_wcs, extra_coords=extra_coords)\n",
        "cube"
      ],
      "execution_count": null,
      "outputs": [
        {
          "output_type": "stream",
          "text": [
            "Collecting ndcube\n",
            "\u001b[?25l  Downloading https://files.pythonhosted.org/packages/f1/24/bbe15d574f9091d180815e572db753366e7aea60e7caa7149772fa3bace7/ndcube-1.4.2-py3-none-any.whl (84kB)\n",
            "\r\u001b[K     |███▉                            | 10kB 17.9MB/s eta 0:00:01\r\u001b[K     |███████▊                        | 20kB 26.3MB/s eta 0:00:01\r\u001b[K     |███████████▋                    | 30kB 22.2MB/s eta 0:00:01\r\u001b[K     |███████████████▍                | 40kB 18.7MB/s eta 0:00:01\r\u001b[K     |███████████████████▎            | 51kB 15.7MB/s eta 0:00:01\r\u001b[K     |███████████████████████▏        | 61kB 15.5MB/s eta 0:00:01\r\u001b[K     |███████████████████████████     | 71kB 13.8MB/s eta 0:00:01\r\u001b[K     |██████████████████████████████▉ | 81kB 14.1MB/s eta 0:00:01\r\u001b[K     |████████████████████████████████| 92kB 6.1MB/s \n",
            "\u001b[?25hRequirement already satisfied: astropy>=3.1 in /usr/local/lib/python3.7/dist-packages (from ndcube) (4.2.1)\n",
            "Requirement already satisfied: matplotlib>=2 in /usr/local/lib/python3.7/dist-packages (from ndcube) (3.2.2)\n",
            "Collecting sunpy>=1.0.3\n",
            "\u001b[?25l  Downloading https://files.pythonhosted.org/packages/3a/ff/3a76b4dc583762d866e9f302e2fdab7f803d3de8c3d4abd4ccc6ac0a98d2/sunpy-3.0.0-cp37-cp37m-manylinux2014_x86_64.whl (6.1MB)\n",
            "\u001b[K     |████████████████████████████████| 6.1MB 14.2MB/s \n",
            "\u001b[?25hRequirement already satisfied: pyerfa in /usr/local/lib/python3.7/dist-packages (from astropy>=3.1->ndcube) (2.0.0)\n",
            "Requirement already satisfied: numpy>=1.17 in /usr/local/lib/python3.7/dist-packages (from astropy>=3.1->ndcube) (1.19.5)\n",
            "Requirement already satisfied: cycler>=0.10 in /usr/local/lib/python3.7/dist-packages (from matplotlib>=2->ndcube) (0.10.0)\n",
            "Requirement already satisfied: python-dateutil>=2.1 in /usr/local/lib/python3.7/dist-packages (from matplotlib>=2->ndcube) (2.8.1)\n",
            "Requirement already satisfied: pyparsing!=2.0.4,!=2.1.2,!=2.1.6,>=2.0.1 in /usr/local/lib/python3.7/dist-packages (from matplotlib>=2->ndcube) (2.4.7)\n",
            "Requirement already satisfied: kiwisolver>=1.0.1 in /usr/local/lib/python3.7/dist-packages (from matplotlib>=2->ndcube) (1.3.1)\n",
            "Collecting parfive[ftp]>=1.2.0\n",
            "  Downloading https://files.pythonhosted.org/packages/91/99/ddf243a0a9725c8598d65753d9312e85e242ac3ab91c3a1cf37ff276adc2/parfive-1.3.0-py3-none-any.whl\n",
            "Requirement already satisfied: six in /usr/local/lib/python3.7/dist-packages (from cycler>=0.10->matplotlib>=2->ndcube) (1.15.0)\n",
            "Requirement already satisfied: tqdm in /usr/local/lib/python3.7/dist-packages (from parfive[ftp]>=1.2.0->sunpy>=1.0.3->ndcube) (4.41.1)\n",
            "Collecting aiohttp\n",
            "\u001b[?25l  Downloading https://files.pythonhosted.org/packages/88/c0/5890b4c8b04a79b7360e8fe4490feb0bb3ab179743f199f0e6220cebd568/aiohttp-3.7.4.post0-cp37-cp37m-manylinux2014_x86_64.whl (1.3MB)\n",
            "\u001b[K     |████████████████████████████████| 1.3MB 43.7MB/s \n",
            "\u001b[?25hCollecting aioftp>=0.17.1; extra == \"ftp\"\n",
            "  Downloading https://files.pythonhosted.org/packages/d7/65/b67159782bed978007a20ca4a9ad4b6a7af86b0b3120523404c468604e99/aioftp-0.18.1-py3-none-any.whl\n",
            "Requirement already satisfied: chardet<5.0,>=2.0 in /usr/local/lib/python3.7/dist-packages (from aiohttp->parfive[ftp]>=1.2.0->sunpy>=1.0.3->ndcube) (3.0.4)\n",
            "Collecting yarl<2.0,>=1.0\n",
            "\u001b[?25l  Downloading https://files.pythonhosted.org/packages/f1/62/046834c5fc998c88ab2ef722f5d42122230a632212c8afa76418324f53ff/yarl-1.6.3-cp37-cp37m-manylinux2014_x86_64.whl (294kB)\n",
            "\u001b[K     |████████████████████████████████| 296kB 58.8MB/s \n",
            "\u001b[?25hCollecting async-timeout<4.0,>=3.0\n",
            "  Downloading https://files.pythonhosted.org/packages/e1/1e/5a4441be21b0726c4464f3f23c8b19628372f606755a9d2e46c187e65ec4/async_timeout-3.0.1-py3-none-any.whl\n",
            "Requirement already satisfied: typing-extensions>=3.6.5 in /usr/local/lib/python3.7/dist-packages (from aiohttp->parfive[ftp]>=1.2.0->sunpy>=1.0.3->ndcube) (3.7.4.3)\n",
            "Requirement already satisfied: attrs>=17.3.0 in /usr/local/lib/python3.7/dist-packages (from aiohttp->parfive[ftp]>=1.2.0->sunpy>=1.0.3->ndcube) (21.2.0)\n",
            "Collecting multidict<7.0,>=4.5\n",
            "\u001b[?25l  Downloading https://files.pythonhosted.org/packages/7c/a6/4123b8165acbe773d1a8dc8e3f0d1edea16d29f7de018eda769abb56bd30/multidict-5.1.0-cp37-cp37m-manylinux2014_x86_64.whl (142kB)\n",
            "\u001b[K     |████████████████████████████████| 143kB 61.8MB/s \n",
            "\u001b[?25hRequirement already satisfied: idna>=2.0 in /usr/local/lib/python3.7/dist-packages (from yarl<2.0,>=1.0->aiohttp->parfive[ftp]>=1.2.0->sunpy>=1.0.3->ndcube) (2.10)\n",
            "Installing collected packages: multidict, yarl, async-timeout, aiohttp, aioftp, parfive, sunpy, ndcube\n",
            "Successfully installed aioftp-0.18.1 aiohttp-3.7.4.post0 async-timeout-3.0.1 multidict-5.1.0 ndcube-1.4.2 parfive-1.3.0 sunpy-3.0.0 yarl-1.6.3\n"
          ],
          "name": "stdout"
        },
        {
          "output_type": "stream",
          "text": [
            "WARNING: AstropyDeprecationWarning: NDCube.world_axis_physical_types will be removed in version 2.0. Use NDCube.wcs.world_axis_physical_types or NDCube.array_axis_physical_types instead. [ndcube.ndcube]\n"
          ],
          "name": "stderr"
        },
        {
          "output_type": "execute_result",
          "data": {
            "text/plain": [
              "<ndcube.ndcube.NDCube object at 0x7eff67f615d0>\n",
              "NDCube\n",
              "---------------------\n",
              "WCS Keywords\n",
              "\n",
              "Number of WCS axes: 1\n",
              "CTYPE : 'TIME'  \n",
              "CRVAL : 0.0  \n",
              "CRPIX : 0.0  \n",
              "PC1_1  : 1.0  \n",
              "CDELT : 1.0  \n",
              "NAXIS : 10  0\n",
              "---------------------\n",
              "Length of NDCube: [10.] pix\n",
              "Axis Types of NDCube: ('time',)"
            ]
          },
          "metadata": {
            "tags": []
          },
          "execution_count": 24
        }
      ]
    },
    {
      "cell_type": "markdown",
      "metadata": {
        "id": "yP0s-XFTW6Ds"
      },
      "source": [
        "# Plotting"
      ]
    },
    {
      "cell_type": "markdown",
      "metadata": {
        "id": "WfNVaCD8W6Ds"
      },
      "source": [
        "## hapiplot\n",
        "\n",
        "The HAPI Python client package comes with a simple plotting function `hapiplot` that plots all of the requested variables.\n",
        "\n",
        "Interally, `hapiplot` uses Matplotlib and the functions `timeseries.py` and  `heatmap.py` in the directory [plot](https://github.com/hapi-server/client-python/tree/master/hapiclient/plot). `hapiplot` plots all of the parameters returned by a call to `hapi` and forms calls to `timeseries.py` and  `heatmap.py` with labels extracted from `meta`."
      ]
    },
    {
      "cell_type": "code",
      "metadata": {
        "colab": {
          "base_uri": "https://localhost:8080/",
          "height": 1000
        },
        "id": "G7N-0IklW6Ds",
        "outputId": "b26ca70f-487a-47c2-aefb-170e5897c550"
      },
      "source": [
        "# Get data for use below\n",
        "from hapiplot import hapiplot\n",
        "\n",
        "server     = 'http://hapi-server.org/servers/TestData2.0/hapi'\n",
        "dataset    = 'dataset1'\n",
        "parameters = 'scalar,vector'\n",
        "start      = '1970-01-01T00:00:00'\n",
        "stop       = '1970-01-01T00:59:59'\n",
        "\n",
        "hapiplot(server, dataset, parameters, start, stop)\n",
        "\n",
        "# or, get data and pass to hapiplot():\n",
        "#\n",
        "# from hapiclient.hapi import hapi\n",
        "# data,meta = hapi(server,dataset,parameters,start,stop)\n",
        "# hapiplot(data, meta)"
      ],
      "execution_count": null,
      "outputs": [
        {
          "output_type": "display_data",
          "data": {
            "image/png": "[encoded data removed]",
            "text/plain": [
              "<Figure size 1008x432 with 1 Axes>"
            ]
          },
          "metadata": {
            "tags": []
          }
        },
        {
          "output_type": "display_data",
          "data": {
            "image/png": "[encoded data removed]",
            "text/plain": [
              "<Figure size 1008x432 with 1 Axes>"
            ]
          },
          "metadata": {
            "tags": []
          }
        },
        {
          "output_type": "execute_result",
          "data": {
            "text/plain": [
              "(array([(b'1970-01-01T00:00:00.000Z',  0.        , [ 0.        , -0.70710678, -1.        ]),\n",
              "        (b'1970-01-01T00:00:01.000Z',  0.00523596, [ 0.00523596, -0.7033947 , -0.99998629]),\n",
              "        (b'1970-01-01T00:00:02.000Z',  0.01047178, [ 0.01047178, -0.69966334, -0.99994517]),\n",
              "        ...,\n",
              "        (b'1970-01-01T00:59:56.000Z', -0.02094242, [-0.02094242, -0.72176023, -0.99978068]),\n",
              "        (b'1970-01-01T00:59:57.000Z', -0.01570732, [-0.01570732, -0.7181263 , -0.99987663]),\n",
              "        (b'1970-01-01T00:59:58.000Z', -0.01047178, [-0.01047178, -0.71447268, -0.99994517])],\n",
              "       dtype=[('Time', 'S24'), ('scalar', '<f8'), ('vector', '<f8', (3,))]),\n",
              " {'HAPI': '2.0',\n",
              "  'cadence': 'PT1S',\n",
              "  'parameters': [{'fill': None,\n",
              "    'length': 24,\n",
              "    'name': 'Time',\n",
              "    'type': 'isotime',\n",
              "    'units': 'UTC'},\n",
              "   {'description': 'Sine wave with 600 s period',\n",
              "    'fill': '-1e31',\n",
              "    'hapiplot': {'figure': <Figure size 1008x432 with 1 Axes>},\n",
              "    'name': 'scalar',\n",
              "    'type': 'double',\n",
              "    'units': 'm'},\n",
              "   {'description': 'Each component is a sine wave with a 600 s period with differing phases.',\n",
              "    'fill': '-1e31',\n",
              "    'hapiplot': {'figure': <Figure size 1008x432 with 1 Axes>},\n",
              "    'name': 'vector',\n",
              "    'size': [3],\n",
              "    'type': 'double',\n",
              "    'units': 'm'}],\n",
              "  'sampleStartDate': '1970-01-01Z',\n",
              "  'sampleStopDate': '1970-01-01T00:00:11Z',\n",
              "  'startDate': '1970-01-01Z',\n",
              "  'status': {'code': 1200, 'message': 'OK'},\n",
              "  'stopDate': '2016-12-31Z',\n",
              "  'x_cacheDir': '/tmp/hapi-data/hapi-server.org_servers_TestData2.0_hapi',\n",
              "  'x_dataFile': '/tmp/hapi-data/hapi-server.org_servers_TestData2.0_hapi/dataset1_scalar-vector_19700101T000000_19700101T005959.bin',\n",
              "  'x_dataFileParsed': '/tmp/hapi-data/hapi-server.org_servers_TestData2.0_hapi/dataset1_scalar-vector_19700101T000000_19700101T005959.npy',\n",
              "  'x_dataset': 'dataset1',\n",
              "  'x_downloadTime': 0.7008762359619141,\n",
              "  'x_metaFile': '/tmp/hapi-data/hapi-server.org_servers_TestData2.0_hapi/dataset1___.json',\n",
              "  'x_metaFileParsed': '/tmp/hapi-data/hapi-server.org_servers_TestData2.0_hapi/dataset1___.pkl',\n",
              "  'x_parameters': 'scalar,vector',\n",
              "  'x_readTime': 0.0001609325408935547,\n",
              "  'x_requestDate': '2021-05-26T11:19:39',\n",
              "  'x_server': 'http://hapi-server.org/servers/TestData2.0/hapi',\n",
              "  'x_time.max': '1970-01-01T00:59:59Z',\n",
              "  'x_time.min': '1970-01-01T00:00:00Z',\n",
              "  'x_totalTime': 1.0893421173095703})"
            ]
          },
          "metadata": {
            "tags": []
          },
          "execution_count": 25
        }
      ]
    },
    {
      "cell_type": "markdown",
      "metadata": {
        "id": "P6PhmmLkW6Dt"
      },
      "source": [
        "## ViViz Gallery\n",
        "\n",
        "A gallery of images for a given parameter can be visualized using [ViViz](http://viviz.org). Note that only one parameter can be plotted at a time (stack plots not implemented). This server uses `hapiplot.py` on the back-end to generate one plot of the parameter per day over the time range of available data."
      ]
    },
    {
      "cell_type": "code",
      "metadata": {
        "id": "O5n5RJo0W6Dt"
      },
      "source": [
        "##########################################################\n",
        "# You must install hapiplotserver first\n",
        "# This must be run locally - it will fail on Google Colab\n",
        "##########################################################\n",
        "from hapiplot import gallery\n",
        "\n",
        "server     = 'http://hapi-server.org/servers/TestData2.0/hapi'\n",
        "dataset    = 'dataset1'\n",
        "parameters = 'vector' \n",
        "start      = '1970-01-01T00:00:00'\n",
        "stop       = '1970-01-01T00:59:59'\n",
        "\n",
        "# Selected dataset and first parmeter in it is shown when ViViz starts\n",
        "# If comma-separated string of parameters, only first is used.\n",
        "gallery(server, dataset, parameters)"
      ],
      "execution_count": null,
      "outputs": []
    },
    {
      "cell_type": "markdown",
      "metadata": {
        "id": "T4Y4wgMwW6Dt"
      },
      "source": [
        "## Autoplot\n",
        "\n",
        "To view data using the [http://autoplot.org/](Autoplot) application, one can call the function `autoplot` which downloads and starts Autoplot. The first time that `autoplot` is executed, it starts an Autoplot server so that subsequent calls do not require the application to be re-launched. Closing Autoplot will close the server."
      ]
    },
    {
      "cell_type": "code",
      "metadata": {
        "id": "w7FLUYNdW6Dt"
      },
      "source": [
        "##########################################################\n",
        "# This must be run locally - it will fail on Google Colab\n",
        "##########################################################\n",
        "from hapiplot import autoplot\n",
        "    \n",
        "server     = 'https://cdaweb.gsfc.nasa.gov/hapi'\n",
        "dataset    = 'AC_H0_MFI'\n",
        "start      = '2001-01-01T05:00:00'\n",
        "stop       = '2001-01-01T06:00:00'\n",
        "parameters = 'Magnitude,BGSEc'\n",
        "opts       = {'logging': True}\n",
        "\n",
        "autoplot(server, dataset, parameters, start, stop, **opts)"
      ],
      "execution_count": null,
      "outputs": []
    },
    {
      "cell_type": "markdown",
      "metadata": {
        "id": "Lnxq1Sw2W6Dt"
      },
      "source": [
        "## PyTplot\n",
        "\n",
        "https://github.com/MAVENSDC/PyTplot\n",
        "\n",
        "First do `pip install pytplot` from the command line to install `pytplot`. After executing the following, a new window should open."
      ]
    },
    {
      "cell_type": "code",
      "metadata": {
        "id": "Myl87mXBW6Dt",
        "colab": {
          "base_uri": "https://localhost:8080/"
        },
        "outputId": "ee3d1320-458f-463c-e841-ff3690108b55"
      },
      "source": [
        "##########################################################\n",
        "# You must install pytplot first\n",
        "# This must be run locally - it will fail on Google Colab\n",
        "##########################################################\n",
        "# Get data for use below\n",
        "from hapiclient import hapi\n",
        "\n",
        "server     = 'http://hapi-server.org/servers/TestData2.0/hapi'\n",
        "dataset    = 'dataset1'\n",
        "parameters = 'scalar,vector'\n",
        "start      = '1970-01-01T00:00:00'\n",
        "stop       = '1970-01-01T00:00:10'\n",
        "opts       = {'usecache': True}\n",
        "\n",
        "data, meta = hapi(server,dataset,parameters,start,stop,**opts)\n",
        "\n",
        "from hapiclient import hapitime2datetime\n",
        "import pytplot\n",
        "\n",
        "# Convert byte array to Python datetime objects.\n",
        "dateTimes = hapitime2datetime(data['Time'])\n",
        "\n",
        "from datetime import timezone\n",
        "# Convert dateTimes to milliseconds since 1970 (used by pyTplot)\n",
        "# Need to explicilty set timezone to UTC.\n",
        "dateTimesUnixTime = [dt.replace(tzinfo=timezone.utc).timestamp() for dt in dateTimes]\n",
        "\n",
        "pytplot.store_data(\"variable1\", data={'x':dateTimesUnixTime,'y': data['scalar']})\n",
        "pytplot.tplot(0)\n",
        "# A PyTplot window should have opened."
      ],
      "execution_count": 1,
      "outputs": [
        {
          "output_type": "stream",
          "text": [
            "Requirement already satisfied: pytplot in /usr/local/lib/python3.7/dist-packages (1.7.24)\n",
            "Requirement already satisfied: pandas in /usr/local/lib/python3.7/dist-packages (from pytplot) (1.1.5)\n",
            "Requirement already satisfied: pyqtgraph>=0.11.1 in /usr/local/lib/python3.7/dist-packages (from pytplot) (0.12.1)\n",
            "Requirement already satisfied: pyqtwebengine>=5.15.2 in /usr/local/lib/python3.7/dist-packages (from pytplot) (5.15.4)\n",
            "Requirement already satisfied: numpy>=1.20.0 in /usr/local/lib/python3.7/dist-packages (from pytplot) (1.20.3)\n",
            "Requirement already satisfied: pyqt5>=5.15.2 in /usr/local/lib/python3.7/dist-packages (from pytplot) (5.15.4)\n",
            "Requirement already satisfied: xarray in /usr/local/lib/python3.7/dist-packages (from pytplot) (0.18.2)\n",
            "Requirement already satisfied: scipy in /usr/local/lib/python3.7/dist-packages (from pytplot) (1.4.1)\n",
            "Requirement already satisfied: bokeh>=1.1 in /usr/local/lib/python3.7/dist-packages (from pytplot) (2.3.2)\n",
            "Requirement already satisfied: cdflib in /usr/local/lib/python3.7/dist-packages (from pytplot) (0.3.20)\n",
            "Requirement already satisfied: matplotlib in /usr/local/lib/python3.7/dist-packages (from pytplot) (3.2.2)\n",
            "Requirement already satisfied: pytz>=2017.2 in /usr/local/lib/python3.7/dist-packages (from pandas->pytplot) (2018.9)\n",
            "Requirement already satisfied: python-dateutil>=2.7.3 in /usr/local/lib/python3.7/dist-packages (from pandas->pytplot) (2.8.1)\n",
            "Requirement already satisfied: PyQtWebEngine-Qt5>=5.15 in /usr/local/lib/python3.7/dist-packages (from pyqtwebengine>=5.15.2->pytplot) (5.15.2)\n",
            "Requirement already satisfied: PyQt5-sip<13,>=12.8 in /usr/local/lib/python3.7/dist-packages (from pyqtwebengine>=5.15.2->pytplot) (12.9.0)\n",
            "Requirement already satisfied: PyQt5-Qt5>=5.15 in /usr/local/lib/python3.7/dist-packages (from pyqt5>=5.15.2->pytplot) (5.15.2)\n",
            "Requirement already satisfied: setuptools>=40.4 in /usr/local/lib/python3.7/dist-packages (from xarray->pytplot) (57.0.0)\n",
            "Requirement already satisfied: PyYAML>=3.10 in /usr/local/lib/python3.7/dist-packages (from bokeh>=1.1->pytplot) (3.13)\n",
            "Requirement already satisfied: tornado>=5.1 in /usr/local/lib/python3.7/dist-packages (from bokeh>=1.1->pytplot) (5.1.1)\n",
            "Requirement already satisfied: packaging>=16.8 in /usr/local/lib/python3.7/dist-packages (from bokeh>=1.1->pytplot) (20.9)\n",
            "Requirement already satisfied: pillow>=7.1.0 in /usr/local/lib/python3.7/dist-packages (from bokeh>=1.1->pytplot) (7.1.2)\n",
            "Requirement already satisfied: typing-extensions>=3.7.4 in /usr/local/lib/python3.7/dist-packages (from bokeh>=1.1->pytplot) (3.7.4.3)\n",
            "Requirement already satisfied: Jinja2>=2.9 in /usr/local/lib/python3.7/dist-packages (from bokeh>=1.1->pytplot) (2.11.3)\n",
            "Requirement already satisfied: attrs>=19.2.0 in /usr/local/lib/python3.7/dist-packages (from cdflib->pytplot) (21.2.0)\n",
            "Requirement already satisfied: cycler>=0.10 in /usr/local/lib/python3.7/dist-packages (from matplotlib->pytplot) (0.10.0)\n",
            "Requirement already satisfied: pyparsing!=2.0.4,!=2.1.2,!=2.1.6,>=2.0.1 in /usr/local/lib/python3.7/dist-packages (from matplotlib->pytplot) (2.4.7)\n",
            "Requirement already satisfied: kiwisolver>=1.0.1 in /usr/local/lib/python3.7/dist-packages (from matplotlib->pytplot) (1.3.1)\n",
            "Requirement already satisfied: six>=1.5 in /usr/local/lib/python3.7/dist-packages (from python-dateutil>=2.7.3->pandas->pytplot) (1.15.0)\n",
            "Requirement already satisfied: MarkupSafe>=0.23 in /usr/local/lib/python3.7/dist-packages (from Jinja2>=2.9->bokeh>=1.1->pytplot) (2.0.1)\n",
            "Qt was not successfully imported.  Specify save_file to save the file as a .html file.\n"
          ],
          "name": "stdout"
        }
      ]
    },
    {
      "cell_type": "markdown",
      "metadata": {
        "id": "ZhPaevuXW6Du"
      },
      "source": [
        "## MatplotLib"
      ]
    },
    {
      "cell_type": "code",
      "metadata": {
        "colab": {
          "base_uri": "https://localhost:8080/",
          "height": 297
        },
        "id": "3VTEAEZdW6Du",
        "outputId": "3f768b50-071f-4030-cdc4-4a766cde624f"
      },
      "source": [
        "# Get data for use below\n",
        "from hapiclient import hapi\n",
        "\n",
        "server     = 'http://hapi-server.org/servers/TestData2.0/hapi'\n",
        "dataset    = 'dataset1'\n",
        "parameters = 'scalar'\n",
        "start      = '1970-01-01T00:00:00'\n",
        "stop       = '1970-01-01T00:00:10'\n",
        "\n",
        "data,meta = hapi(server,dataset,parameters,start,stop)\n",
        "\n",
        "from matplotlib import pyplot as plt\n",
        "from hapiclient import hapitime2datetime\n",
        "%matplotlib inline\n",
        "\n",
        "# Convert data['Time'] elements to Python datetime objects\n",
        "# Note the difference in tick labels when datetimes are used\n",
        "plt.figure()\n",
        "plt.plot(hapitime2datetime(data['Time']),data['scalar'])\n",
        "plt.gcf().autofmt_xdate()\n",
        "plt.title('scalar with Time as datetimes')"
      ],
      "execution_count": null,
      "outputs": [
        {
          "output_type": "execute_result",
          "data": {
            "text/plain": [
              "Text(0.5, 1.0, 'scalar with Time as datetimes')"
            ]
          },
          "metadata": {
            "tags": []
          },
          "execution_count": 10
        },
        {
          "output_type": "display_data",
          "data": {
            "image/png": "[encoded data removed]",
            "text/plain": [
              "<Figure size 432x288 with 1 Axes>"
            ]
          },
          "metadata": {
            "tags": [],
            "needs_background": "light"
          }
        }
      ]
    },
    {
      "cell_type": "markdown",
      "metadata": {
        "id": "YzQfizuTW6Du"
      },
      "source": [
        "## Pandas"
      ]
    },
    {
      "cell_type": "code",
      "metadata": {
        "colab": {
          "base_uri": "https://localhost:8080/",
          "height": 695
        },
        "id": "gDgJkTSIW6Du",
        "outputId": "e8e4518c-3588-48d1-a0b6-5501d4a458d2"
      },
      "source": [
        "# Get data for use below\n",
        "from hapiclient import hapi\n",
        "from hapiclient import hapitime2datetime\n",
        "\n",
        "server     = 'http://hapi-server.org/servers/TestData2.0/hapi'\n",
        "dataset    = 'dataset1'\n",
        "parameters = 'scalar,vector'\n",
        "start      = '1970-01-01T00:00:00'\n",
        "stop       = '1970-01-01T00:00:10'\n",
        "\n",
        "data,meta = hapi(server,dataset,parameters,start,stop)\n",
        "\n",
        "import pandas\n",
        "# Create dataframe\n",
        "df = pandas.DataFrame(data['vector'])\n",
        "\n",
        "# Add column to DataFrame\n",
        "df['Time'] = hapitime2datetime(data['Time'])\n",
        "\n",
        "# Set index\n",
        "df.set_index('Time', inplace=True)\n",
        "\n",
        "# Rename columns\n",
        "df.columns = ['x', 'y', 'z']\n",
        "\n",
        "display(df)\n",
        "\n",
        "%matplotlib inline\n",
        "df.plot()"
      ],
      "execution_count": null,
      "outputs": [
        {
          "output_type": "display_data",
          "data": {
            "text/html": [
              "<div>\n",
              "<style scoped>\n",
              "    .dataframe tbody tr th:only-of-type {\n",
              "        vertical-align: middle;\n",
              "    }\n",
              "\n",
              "    .dataframe tbody tr th {\n",
              "        vertical-align: top;\n",
              "    }\n",
              "\n",
              "    .dataframe thead th {\n",
              "        text-align: right;\n",
              "    }\n",
              "</style>\n",
              "<table border=\"1\" class=\"dataframe\">\n",
              "  <thead>\n",
              "    <tr style=\"text-align: right;\">\n",
              "      <th></th>\n",
              "      <th>x</th>\n",
              "      <th>y</th>\n",
              "      <th>z</th>\n",
              "    </tr>\n",
              "    <tr>\n",
              "      <th>Time</th>\n",
              "      <th></th>\n",
              "      <th></th>\n",
              "      <th></th>\n",
              "    </tr>\n",
              "  </thead>\n",
              "  <tbody>\n",
              "    <tr>\n",
              "      <th>1970-01-01 00:00:00+00:00</th>\n",
              "      <td>0.000000</td>\n",
              "      <td>-0.707107</td>\n",
              "      <td>-1.000000</td>\n",
              "    </tr>\n",
              "    <tr>\n",
              "      <th>1970-01-01 00:00:01+00:00</th>\n",
              "      <td>0.005236</td>\n",
              "      <td>-0.703395</td>\n",
              "      <td>-0.999986</td>\n",
              "    </tr>\n",
              "    <tr>\n",
              "      <th>1970-01-01 00:00:02+00:00</th>\n",
              "      <td>0.010472</td>\n",
              "      <td>-0.699663</td>\n",
              "      <td>-0.999945</td>\n",
              "    </tr>\n",
              "    <tr>\n",
              "      <th>1970-01-01 00:00:03+00:00</th>\n",
              "      <td>0.015707</td>\n",
              "      <td>-0.695913</td>\n",
              "      <td>-0.999877</td>\n",
              "    </tr>\n",
              "    <tr>\n",
              "      <th>1970-01-01 00:00:04+00:00</th>\n",
              "      <td>0.020942</td>\n",
              "      <td>-0.692143</td>\n",
              "      <td>-0.999781</td>\n",
              "    </tr>\n",
              "    <tr>\n",
              "      <th>1970-01-01 00:00:05+00:00</th>\n",
              "      <td>0.026177</td>\n",
              "      <td>-0.688355</td>\n",
              "      <td>-0.999657</td>\n",
              "    </tr>\n",
              "    <tr>\n",
              "      <th>1970-01-01 00:00:06+00:00</th>\n",
              "      <td>0.031411</td>\n",
              "      <td>-0.684547</td>\n",
              "      <td>-0.999507</td>\n",
              "    </tr>\n",
              "    <tr>\n",
              "      <th>1970-01-01 00:00:07+00:00</th>\n",
              "      <td>0.036644</td>\n",
              "      <td>-0.680721</td>\n",
              "      <td>-0.999328</td>\n",
              "    </tr>\n",
              "    <tr>\n",
              "      <th>1970-01-01 00:00:08+00:00</th>\n",
              "      <td>0.041876</td>\n",
              "      <td>-0.676876</td>\n",
              "      <td>-0.999123</td>\n",
              "    </tr>\n",
              "    <tr>\n",
              "      <th>1970-01-01 00:00:09+00:00</th>\n",
              "      <td>0.047106</td>\n",
              "      <td>-0.673013</td>\n",
              "      <td>-0.998890</td>\n",
              "    </tr>\n",
              "  </tbody>\n",
              "</table>\n",
              "</div>"
            ],
            "text/plain": [
              "                                  x         y         z\n",
              "Time                                                   \n",
              "1970-01-01 00:00:00+00:00  0.000000 -0.707107 -1.000000\n",
              "1970-01-01 00:00:01+00:00  0.005236 -0.703395 -0.999986\n",
              "1970-01-01 00:00:02+00:00  0.010472 -0.699663 -0.999945\n",
              "1970-01-01 00:00:03+00:00  0.015707 -0.695913 -0.999877\n",
              "1970-01-01 00:00:04+00:00  0.020942 -0.692143 -0.999781\n",
              "1970-01-01 00:00:05+00:00  0.026177 -0.688355 -0.999657\n",
              "1970-01-01 00:00:06+00:00  0.031411 -0.684547 -0.999507\n",
              "1970-01-01 00:00:07+00:00  0.036644 -0.680721 -0.999328\n",
              "1970-01-01 00:00:08+00:00  0.041876 -0.676876 -0.999123\n",
              "1970-01-01 00:00:09+00:00  0.047106 -0.673013 -0.998890"
            ]
          },
          "metadata": {
            "tags": []
          }
        },
        {
          "output_type": "execute_result",
          "data": {
            "text/plain": [
              "<matplotlib.axes._subplots.AxesSubplot at 0x7f7bb870d7d0>"
            ]
          },
          "metadata": {
            "tags": []
          },
          "execution_count": 11
        },
        {
          "output_type": "display_data",
          "data": {
            "image/png": "[encoded data removed]",
            "text/plain": [
              "<Figure size 432x288 with 1 Axes>"
            ]
          },
          "metadata": {
            "tags": [],
            "needs_background": "light"
          }
        }
      ]
    },
    {
      "cell_type": "markdown",
      "metadata": {
        "id": "rDcKKplDW6Dv"
      },
      "source": [
        "# Metadata\n",
        "\n",
        "The metadata returned by `hapi()` is a straightforward mapping of the JSON metadata from a HAPI server."
      ]
    },
    {
      "cell_type": "markdown",
      "metadata": {
        "id": "10nfG_NTW6Dv"
      },
      "source": [
        "## Servers"
      ]
    },
    {
      "cell_type": "markdown",
      "metadata": {
        "id": "SoKLadd9W6Dv"
      },
      "source": [
        "Equivalent URL: https://github.com/hapi-server/data-specification/blob/master/servers.txt"
      ]
    },
    {
      "cell_type": "code",
      "metadata": {
        "colab": {
          "base_uri": "https://localhost:8080/",
          "height": 243
        },
        "id": "QiltnxkzW6Dv",
        "outputId": "a22ccbdd-449a-4042-baed-691183a68d37"
      },
      "source": [
        "from hapiclient import hapi\n",
        "\n",
        "servers = hapi() # servers is an array of URLs\n",
        "display(servers)"
      ],
      "execution_count": null,
      "outputs": [
        {
          "output_type": "stream",
          "text": [
            "/usr/local/lib/python3.7/dist-packages/urllib3/connectionpool.py:847: InsecureRequestWarning: Unverified HTTPS request is being made. Adding certificate verification is strongly advised. See: https://urllib3.readthedocs.io/en/latest/advanced-usage.html#ssl-warnings\n",
            "  InsecureRequestWarning)\n",
            "/usr/local/lib/python3.7/dist-packages/urllib3/connectionpool.py:847: InsecureRequestWarning: Unverified HTTPS request is being made. Adding certificate verification is strongly advised. See: https://urllib3.readthedocs.io/en/latest/advanced-usage.html#ssl-warnings\n",
            "  InsecureRequestWarning)\n"
          ],
          "name": "stderr"
        },
        {
          "output_type": "display_data",
          "data": {
            "text/plain": [
              "['http://hapi-server.org/servers/SSCWeb/hapi',\n",
              " 'http://datashop.elasticbeanstalk.com/hapi',\n",
              " 'https://cdaweb.gsfc.nasa.gov/hapi',\n",
              " 'http://planet.physics.uiowa.edu/das/das2Server/hapi',\n",
              " 'https://iswa.gsfc.nasa.gov/IswaSystemWebApp/hapi',\n",
              " 'http://lasp.colorado.edu/lisird/hapi',\n",
              " 'http://hapi-server.org/servers/TestData2.0/hapi',\n",
              " 'http://amda.irap.omp.eu/service/hapi']"
            ]
          },
          "metadata": {
            "tags": []
          }
        }
      ]
    },
    {
      "cell_type": "markdown",
      "metadata": {
        "id": "YZjRItHAW6Dv"
      },
      "source": [
        "## Server datasets"
      ]
    },
    {
      "cell_type": "markdown",
      "metadata": {
        "id": "ST8QNdQZW6Dw"
      },
      "source": [
        "Equivalent URL: https://cdaweb.gsfc.nasa.gov/hapi/catalog"
      ]
    },
    {
      "cell_type": "code",
      "metadata": {
        "colab": {
          "base_uri": "https://localhost:8080/",
          "height": 1000
        },
        "id": "cMtZvVCXW6Dw",
        "outputId": "c737d209-f2b6-474d-c8f9-a6b95a464a0d"
      },
      "source": [
        "from hapiclient import hapi\n",
        "\n",
        "server = 'https://cdaweb.gsfc.nasa.gov/hapi'\n",
        "meta = hapi(server)\n",
        "\n",
        "display(meta)"
      ],
      "execution_count": null,
      "outputs": [
        {
          "output_type": "stream",
          "text": [
            "/usr/local/lib/python3.7/dist-packages/urllib3/connectionpool.py:847: InsecureRequestWarning: Unverified HTTPS request is being made. Adding certificate verification is strongly advised. See: https://urllib3.readthedocs.io/en/latest/advanced-usage.html#ssl-warnings\n",
            "  InsecureRequestWarning)\n"
          ],
          "name": "stderr"
        },
        {
          "output_type": "display_data",
          "data": {
            "text/plain": [
              "{'HAPI': '2.0',\n",
              " 'catalog': [{'id': 'A1_K0_MPA'},\n",
              "  {'id': 'A2_K0_MPA'},\n",
              "  {'id': 'AC_AT_DEF'},\n",
              "  {'id': 'AC_H0_MFI'},\n",
              "  {'id': 'AC_H0_SWE'},\n",
              "  {'id': 'AC_H1_EPM'},\n",
              "  {'id': 'AC_H1_MFI'},\n",
              "  {'id': 'AC_H1_SIS'},\n",
              "  {'id': 'AC_H2_CRIS'},\n",
              "  {'id': 'AC_H2_EPM'},\n",
              "  {'id': 'AC_H2_MFI'},\n",
              "  {'id': 'AC_H2_SEP'},\n",
              "  {'id': 'AC_H2_SIS'},\n",
              "  {'id': 'AC_H2_SWE'},\n",
              "  {'id': 'AC_H2_SWI'},\n",
              "  {'id': 'AC_H2_ULE'},\n",
              "  {'id': 'AC_H3_CRIS'},\n",
              "  {'id': 'AC_H3_EPM'},\n",
              "  {'id': 'AC_H3_MFI'},\n",
              "  {'id': 'AC_H3_SW2'},\n",
              "  {'id': 'AC_H3_SWI'},\n",
              "  {'id': 'AC_H4_SWI'},\n",
              "  {'id': 'AC_H5_SWI'},\n",
              "  {'id': 'AC_H6_SWI'},\n",
              "  {'id': 'AC_K0_EPM'},\n",
              "  {'id': 'AC_K0_MFI'},\n",
              "  {'id': 'AC_K0_SIS'},\n",
              "  {'id': 'AC_K0_SWE'},\n",
              "  {'id': 'AC_K1_EPM'},\n",
              "  {'id': 'AC_K1_MFI'},\n",
              "  {'id': 'AC_K1_SWE'},\n",
              "  {'id': 'AC_K2_MFI'},\n",
              "  {'id': 'AC_OR_DEF'},\n",
              "  {'id': 'AC_OR_SSC'},\n",
              "  {'id': 'ALOUETTE2_AV_LIM'},\n",
              "  {'id': 'ALOUETTE2_AV_QUI'},\n",
              "  {'id': 'ALOUETTE2_AV_SNT'},\n",
              "  {'id': 'ALOUETTE2_AV_SOL'},\n",
              "  {'id': 'ALOUETTE2_AV_ULA'},\n",
              "  {'id': 'ALOUETTE2_AV_WNK'},\n",
              "  {'id': 'ALOUETTE2_NEPROF_TOPS'},\n",
              "  {'id': 'AMPTECCE_H0_MEPA@0'},\n",
              "  {'id': 'AMPTECCE_H0_MEPA@1'},\n",
              "  {'id': 'AMPTECCE_H0_MEPA@2'},\n",
              "  {'id': 'AMPTECCE_H0_MEPA@3'},\n",
              "  {'id': 'AMPTECCE_H0_MEPA@4'},\n",
              "  {'id': 'BEPICOLOMBO_HELIO1DAY_POSITION'},\n",
              "  {'id': 'BORRELLY_HELIO1DAY_POSITION'},\n",
              "  {'id': 'C1_CP_FGM_SPIN'},\n",
              "  {'id': 'C1_JP_PMP'},\n",
              "  {'id': 'C1_JP_PSE'},\n",
              "  {'id': 'C1_PP_ASP'},\n",
              "  {'id': 'C1_PP_CIS'},\n",
              "  {'id': 'C1_PP_DWP'},\n",
              "  {'id': 'C1_PP_EDI'},\n",
              "  {'id': 'C1_PP_EFW'},\n",
              "  {'id': 'C1_PP_PEA'},\n",
              "  {'id': 'C1_PP_RAP'},\n",
              "  {'id': 'C1_PP_STA'},\n",
              "  {'id': 'C1_PP_WHI'},\n",
              "  {'id': 'C1_UP_FGM'},\n",
              "  {'id': 'C1_WAVEFORM_WBD'},\n",
              "  {'id': 'C1_WAVEFORM_WBD_BM2'},\n",
              "  {'id': 'C2_CP_FGM_SPIN'},\n",
              "  {'id': 'C2_JP_PMP'},\n",
              "  {'id': 'C2_JP_PSE'},\n",
              "  {'id': 'C2_PP_ASP'},\n",
              "  {'id': 'C2_PP_DWP'},\n",
              "  {'id': 'C2_PP_EDI'},\n",
              "  {'id': 'C2_PP_EFW'},\n",
              "  {'id': 'C2_PP_PEA'},\n",
              "  {'id': 'C2_PP_RAP'},\n",
              "  {'id': 'C2_PP_STA'},\n",
              "  {'id': 'C2_PP_WHI'},\n",
              "  {'id': 'C2_UP_FGM'},\n",
              "  {'id': 'C2_WAVEFORM_WBD'},\n",
              "  {'id': 'C2_WAVEFORM_WBD_BM2'},\n",
              "  {'id': 'C3_CP_FGM_SPIN'},\n",
              "  {'id': 'C3_JP_PMP'},\n",
              "  {'id': 'C3_JP_PSE'},\n",
              "  {'id': 'C3_PP_ASP'},\n",
              "  {'id': 'C3_PP_CIS'},\n",
              "  {'id': 'C3_PP_EDI'},\n",
              "  {'id': 'C3_PP_PEA'},\n",
              "  {'id': 'C3_PP_RAP'},\n",
              "  {'id': 'C3_PP_STA'},\n",
              "  {'id': 'C3_PP_WHI'},\n",
              "  {'id': 'C3_UP_FGM'},\n",
              "  {'id': 'C3_WAVEFORM_WBD'},\n",
              "  {'id': 'C3_WAVEFORM_WBD_BM2'},\n",
              "  {'id': 'C4_CP_FGM_SPIN'},\n",
              "  {'id': 'C4_JP_PMP'},\n",
              "  {'id': 'C4_JP_PSE'},\n",
              "  {'id': 'C4_PP_ASP'},\n",
              "  {'id': 'C4_PP_CIS'},\n",
              "  {'id': 'C4_PP_DWP'},\n",
              "  {'id': 'C4_PP_EDI'},\n",
              "  {'id': 'C4_PP_EFW'},\n",
              "  {'id': 'C4_PP_PEA'},\n",
              "  {'id': 'C4_PP_RAP'},\n",
              "  {'id': 'C4_PP_STA'},\n",
              "  {'id': 'C4_PP_WHI'},\n",
              "  {'id': 'C4_UP_FGM'},\n",
              "  {'id': 'C4_WAVEFORM_WBD'},\n",
              "  {'id': 'C4_WAVEFORM_WBD_BM2'},\n",
              "  {'id': 'CASSINI_HELIO1DAY_POSITION'},\n",
              "  {'id': 'CASSINI_MAG_1MIN_MAGNETIC_FIELD'},\n",
              "  {'id': 'CL_JP_PCY'},\n",
              "  {'id': 'CL_JP_PGP'},\n",
              "  {'id': 'CNOFS_CINDI_IVM_500MS'},\n",
              "  {'id': 'CNOFS_PLP_PLASMA_1SEC'},\n",
              "  {'id': 'CNOFS_VEFI_BFIELD_1SEC'},\n",
              "  {'id': 'CNOFS_VEFI_EFIELD_1SEC'},\n",
              "  {'id': 'CNOFS_VEFI_LD_500MS'},\n",
              "  {'id': 'CN_K0_ASI'},\n",
              "  {'id': 'CN_K0_BARS'},\n",
              "  {'id': 'CN_K0_MARI'},\n",
              "  {'id': 'CN_K0_MPA'},\n",
              "  {'id': 'CN_K1_MARI'},\n",
              "  {'id': 'COMETGS_HELIO1DAY_POSITION'},\n",
              "  {'id': 'COMETHMP_HELIO1DAY_POSITION'},\n",
              "  {'id': 'CRRES_H0_MEA'},\n",
              "  {'id': 'CSSWE_REPTILE_6SEC-COUNTS-L1'},\n",
              "  {'id': 'CSSWE_REPTILE_6SEC-FLUX-L2'},\n",
              "  {'id': 'CT_JP_PSE'},\n",
              "  {'id': 'DAWN_HELIO1DAY_POSITION'},\n",
              "  {'id': 'DE1_1MIN_RIMS'},\n",
              "  {'id': 'DE1_6SEC_MAGAGMS'},\n",
              "  {'id': 'DE1_PWI_LFC-SPECTRA'},\n",
              "  {'id': 'DE1_PWI_OR-AT'},\n",
              "  {'id': 'DE1_PWI_SFC-SPECTRA'},\n",
              "  {'id': 'DE2_62MS_VEFIMAGB@0'},\n",
              "  {'id': 'DE2_62MS_VEFIMAGB@1'},\n",
              "  {'id': 'DE2_AC500MS_VEFI'},\n",
              "  {'id': 'DE2_DCA500MS_VEFI'},\n",
              "  {'id': 'DE2_DUCT16MS_RPA@0'},\n",
              "  {'id': 'DE2_DUCT16MS_RPA@1'},\n",
              "  {'id': 'DE2_DUCT16MS_RPA@2'},\n",
              "  {'id': 'DE2_DUCT16MS_RPA@3'},\n",
              "  {'id': 'DE2_DUCT16MS_RPA@4'},\n",
              "  {'id': 'DE2_DUCT16MS_RPA@5'},\n",
              "  {'id': 'DE2_DUCT16MS_RPA@6'},\n",
              "  {'id': 'DE2_DUCT16MS_RPA@7'},\n",
              "  {'id': 'DE2_ION2S_RPA'},\n",
              "  {'id': 'DE2_NEUTRAL1S_NACS'},\n",
              "  {'id': 'DE2_NEUTRAL8S_FPI'},\n",
              "  {'id': 'DE2_PLASMA500MS_LANG'},\n",
              "  {'id': 'DE2_UA16S_ALL'},\n",
              "  {'id': 'DE2_VION250MS_IDM@0'},\n",
              "  {'id': 'DE2_VION250MS_IDM@1'},\n",
              "  {'id': 'DE2_VION250MS_IDM@2'},\n",
              "  {'id': 'DE2_WIND2S_WATS'},\n",
              "  {'id': 'DE_UV_SAI'},\n",
              "  {'id': 'DE_VS_EICS'},\n",
              "  {'id': 'DMSP-F16_SSJ_PRECIPITATING-ELECTRONS-IONS'},\n",
              "  {'id': 'DMSP-F16_SSM_MAGNETOMETER'},\n",
              "  {'id': 'DMSP-F17_SSJ_PRECIPITATING-ELECTRONS-IONS'},\n",
              "  {'id': 'DMSP-F17_SSM_MAGNETOMETER'},\n",
              "  {'id': 'DMSP-F18_SSJ_PRECIPITATING-ELECTRONS-IONS'},\n",
              "  {'id': 'DMSP-F18_SSM_MAGNETOMETER'},\n",
              "  {'id': 'DN_K0_GBAY'},\n",
              "  {'id': 'DN_K0_HANK'},\n",
              "  {'id': 'DN_K0_ICEW'},\n",
              "  {'id': 'DN_K0_KAPU'},\n",
              "  {'id': 'DN_K0_PACE'},\n",
              "  {'id': 'DN_K0_PYKK'},\n",
              "  {'id': 'DN_K0_SASK'},\n",
              "  {'id': 'DSCOVR_AT_DEF'},\n",
              "  {'id': 'DSCOVR_AT_PRE'},\n",
              "  {'id': 'DSCOVR_H0_MAG'},\n",
              "  {'id': 'DSCOVR_H1_FC'},\n",
              "  {'id': 'DSCOVR_ORBIT_PRE'},\n",
              "  {'id': 'EARTH_HELIO1DAY_POSITION'},\n",
              "  {'id': 'ELA_L1_STATE_DEFN@0'},\n",
              "  {'id': 'ELA_L1_STATE_DEFN@1'},\n",
              "  {'id': 'ELA_L1_STATE_PRED'},\n",
              "  {'id': 'ELB_L1_STATE_DEFN@0'},\n",
              "  {'id': 'ELB_L1_STATE_DEFN@1'},\n",
              "  {'id': 'ELB_L1_STATE_PRED'},\n",
              "  {'id': 'EQ_PP_AUX'},\n",
              "  {'id': 'EQ_PP_EDI'},\n",
              "  {'id': 'EQ_PP_EPI'},\n",
              "  {'id': 'EQ_PP_ICI'},\n",
              "  {'id': 'EQ_PP_MAM'},\n",
              "  {'id': 'EQ_PP_PCD'},\n",
              "  {'id': 'EQ_SP_SFD'},\n",
              "  {'id': 'ERG_HEP_L2_OMNIFLUX@0'},\n",
              "  {'id': 'ERG_HEP_L2_OMNIFLUX@1'},\n",
              "  {'id': 'ERG_LEPE_L2_OMNIFLUX'},\n",
              "  {'id': 'ERG_LEPI_L2_OMNIFLUX'},\n",
              "  {'id': 'ERG_MEPE_L2_3DFLUX@0'},\n",
              "  {'id': 'ERG_MEPE_L2_3DFLUX@1'},\n",
              "  {'id': 'ERG_MEPE_L2_OMNIFLUX'},\n",
              "  {'id': 'ERG_MEPI_L2_3DFLUX@0'},\n",
              "  {'id': 'ERG_MEPI_L2_3DFLUX@1'},\n",
              "  {'id': 'ERG_MEPI_L2_OMNIFLUX'},\n",
              "  {'id': 'ERG_MGF_L2_8SEC'},\n",
              "  {'id': 'ERG_ORB_L2'},\n",
              "  {'id': 'ERG_ORB_L3'},\n",
              "  {'id': 'ERG_ORB_LPRE_L2'},\n",
              "  {'id': 'ERG_ORB_MPRE_L2'},\n",
              "  {'id': 'ERG_ORB_PRE_L2'},\n",
              "  {'id': 'ERG_ORB_SPRE_L2'},\n",
              "  {'id': 'ERG_PWE_EFD_L2_E_SPIN@0'},\n",
              "  {'id': 'ERG_PWE_EFD_L2_E_SPIN@1'},\n",
              "  {'id': 'ERG_PWE_EFD_L2_POT'},\n",
              "  {'id': 'ERG_PWE_HFA_L2_SPEC_HIGH'},\n",
              "  {'id': 'ERG_PWE_HFA_L2_SPEC_LOW'},\n",
              "  {'id': 'ERG_PWE_HFA_L2_SPEC_MONIT'},\n",
              "  {'id': 'ERG_PWE_OFA_L2_SPEC@0'},\n",
              "  {'id': 'ERG_PWE_OFA_L2_SPEC@1'},\n",
              "  {'id': 'ERG_XEP_L2_OMNIFLUX'},\n",
              "  {'id': 'FAST_HR_DCB@0'},\n",
              "  {'id': 'FAST_HR_DCB@1'},\n",
              "  {'id': 'FAST_HR_DCB@2'},\n",
              "  {'id': 'FAST_HR_DCB@3'},\n",
              "  {'id': 'FA_ESA_L2_EEB'},\n",
              "  {'id': 'FA_ESA_L2_EES'},\n",
              "  {'id': 'FA_ESA_L2_IEB'},\n",
              "  {'id': 'FA_ESA_L2_IES'},\n",
              "  {'id': 'FA_K0_ACF'},\n",
              "  {'id': 'FA_K0_TMS'},\n",
              "  {'id': 'FM_K0_KILP'},\n",
              "  {'id': 'G0_K0_EP8'},\n",
              "  {'id': 'G0_K0_MAG'},\n",
              "  {'id': 'G10_L2_MAG@0'},\n",
              "  {'id': 'G10_L2_MAG@1'},\n",
              "  {'id': 'G10_L2_MAG@2'},\n",
              "  {'id': 'G11_L2_MAG@0'},\n",
              "  {'id': 'G11_L2_MAG@1'},\n",
              "  {'id': 'G11_L2_MAG@2'},\n",
              "  {'id': 'G12_L2_MAG@0'},\n",
              "  {'id': 'G12_L2_MAG@1'},\n",
              "  {'id': 'G12_L2_MAG@2'},\n",
              "  {'id': 'G6_K0_EPS'},\n",
              "  {'id': 'G6_K0_MAG'},\n",
              "  {'id': 'G7_K0_EPS'},\n",
              "  {'id': 'G7_K0_MAG'},\n",
              "  {'id': 'G7_K1_MAG'},\n",
              "  {'id': 'G8_K0_EP8'},\n",
              "  {'id': 'G8_K0_MAG'},\n",
              "  {'id': 'G9_K0_EP8'},\n",
              "  {'id': 'G9_K0_MAG'},\n",
              "  {'id': 'GALILEO_HELIO1DAY_POSITION'},\n",
              "  {'id': 'GENESIS_3DL2_GIM'},\n",
              "  {'id': 'GE_1MIN_MAG_PLASMA_SW_ONLY'},\n",
              "  {'id': 'GE_AT_DEF'},\n",
              "  {'id': 'GE_AT_PRE'},\n",
              "  {'id': 'GE_EDA12SEC_LEP'},\n",
              "  {'id': 'GE_EDA3SEC_MGF'},\n",
              "  {'id': 'GE_EDB12SEC_LEP'},\n",
              "  {'id': 'GE_EDB3SEC_MGF'},\n",
              "  {'id': 'GE_H0_CPI'},\n",
              "  {'id': 'GE_HPAMOM_CPI'},\n",
              "  {'id': 'GE_K0_CPI'},\n",
              "  {'id': 'GE_K0_EFD'},\n",
              "  {'id': 'GE_K0_EPI'},\n",
              "  {'id': 'GE_K0_LEP'},\n",
              "  {'id': 'GE_K0_MGF'},\n",
              "  {'id': 'GE_K0_PWI'},\n",
              "  {'id': 'GE_K0_SPHA'},\n",
              "  {'id': 'GE_OR_DEF'},\n",
              "  {'id': 'GE_OR_PRE'},\n",
              "  {'id': 'GE_SW_CPI'},\n",
              "  {'id': 'GIACOBINI_HELIO1DAY_POSITION'},\n",
              "  {'id': 'GIOTTO_HELIO1DAY_POSITION'},\n",
              "  {'id': 'GOES10_EPHEMERIS_SSC'},\n",
              "  {'id': 'GOES11_EPHEMERIS_SSC'},\n",
              "  {'id': 'GOES11_K0_EP8'},\n",
              "  {'id': 'GOES11_K0_MAG'},\n",
              "  {'id': 'GOES12_EPHEMERIS_SSC'},\n",
              "  {'id': 'GOES12_K0_MAG'},\n",
              "  {'id': 'GOES13_EPEAD-SCIENCE-ELECTRONS-E13EW_1MIN'},\n",
              "  {'id': 'GOES13_EPHEMERIS_SSC'},\n",
              "  {'id': 'GOES13_EPS-MAGED_1MIN'},\n",
              "  {'id': 'GOES13_EPS-MAGED_5MIN'},\n",
              "  {'id': 'GOES13_EPS-PITCH-ANGLES_1MIN'},\n",
              "  {'id': 'GOES14_EPEAD-SCIENCE-ELECTRONS-E13EW_1MIN'},\n",
              "  {'id': 'GOES14_EPHEMERIS_SSC'},\n",
              "  {'id': 'GOES14_EPS-MAGED_1MIN'},\n",
              "  {'id': 'GOES14_EPS-MAGED_5MIN'},\n",
              "  {'id': 'GOES14_EPS-PITCH-ANGLES_1MIN'},\n",
              "  {'id': 'GOES15_EPEAD-SCIENCE-ELECTRONS-E13EW_1MIN'},\n",
              "  {'id': 'GOES15_EPHEMERIS_SSC'},\n",
              "  {'id': 'GOES15_EPS-MAGED_1MIN'},\n",
              "  {'id': 'GOES15_EPS-MAGED_5MIN'},\n",
              "  {'id': 'GOES15_EPS-PITCH-ANGLES_1MIN'},\n",
              "  {'id': 'GOES16_EPHEMERIS_SSC'},\n",
              "  {'id': 'GOES17_EPHEMERIS_SSC'},\n",
              "  {'id': 'GPS_ROTI15MIN_JPL'},\n",
              "  {'id': 'GPS_TEC15MIN_IGS'},\n",
              "  {'id': 'GPS_TEC1HR_IGS'},\n",
              "  {'id': 'GPS_TEC2HR_IGS'},\n",
              "  {'id': 'HALEBOPP_HELIO1DAY_POSITION'},\n",
              "  {'id': 'HALLEY_HELIO1DAY_POSITION'},\n",
              "  {'id': 'HEL1_6SEC_NESSMAG'},\n",
              "  {'id': 'HEL2_6SEC_NESSMAG'},\n",
              "  {'id': 'HELIOS1_40SEC_MAG-PLASMA'},\n",
              "  {'id': 'HELIOS1_COHO1HR_MERGED_MAG_PLASMA'},\n",
              "  {'id': 'HELIOS1_E6_1HOUR_PARTICLE_FLUX'},\n",
              "  {'id': 'HELIOS1_E6_KUNOW_1HOUR_PARTICLE-FLUX'},\n",
              "  {'id': 'HELIOS1_HELIO1DAY_POSITION'},\n",
              "  {'id': 'HELIOS2_40SEC_MAG-PLASMA'},\n",
              "  {'id': 'HELIOS2_COHO1HR_MERGED_MAG_PLASMA'},\n",
              "  {'id': 'HELIOS2_E6_1HOUR_PARTICLE_FLUX'},\n",
              "  {'id': 'HELIOS2_E6_KUNOW_1HOUR_PARTICLE-FLUX'},\n",
              "  {'id': 'HELIOS2_HELIO1DAY_POSITION'},\n",
              "  {'id': 'HK_H0_MAG'},\n",
              "  {'id': 'HK_H0_VLF'},\n",
              "  {'id': 'HYAKUTAKE_HELIO1DAY_POSITION'},\n",
              "  {'id': 'I1_AV2_OTT'},\n",
              "  {'id': 'I1_AV2_QUI'},\n",
              "  {'id': 'I1_AV2_ULA'},\n",
              "  {'id': 'I1_AV_ALL@0'},\n",
              "  {'id': 'I1_AV_ALL@1'},\n",
              "  {'id': 'I1_AV_KER'},\n",
              "  {'id': 'I1_AV_KSH'},\n",
              "  {'id': 'I1_AV_KWA'},\n",
              "  {'id': 'I1_AV_ODG'},\n",
              "  {'id': 'I1_AV_ORR'},\n",
              "  {'id': 'I1_AV_OTT'},\n",
              "  {'id': 'I1_AV_QUI'},\n",
              "  {'id': 'I1_AV_RES'},\n",
              "  {'id': 'I1_AV_SNT'},\n",
              "  {'id': 'I1_AV_SOD'},\n",
              "  {'id': 'I1_AV_TRO'},\n",
              "  {'id': 'I1_AV_ULA'},\n",
              "  {'id': 'I1_AV_WNK'},\n",
              "  {'id': 'I1_NEPROF_TOPS'},\n",
              "  {'id': 'I2_AV_ACN'},\n",
              "  {'id': 'I2_AV_ADL'},\n",
              "  {'id': 'I2_AV_AME'},\n",
              "  {'id': 'I2_AV_BRZ'},\n",
              "  {'id': 'I2_AV_BUR'},\n",
              "  {'id': 'I2_AV_CNA'},\n",
              "  {'id': 'I2_AV_KER'},\n",
              "  {'id': 'I2_AV_KRU'},\n",
              "  {'id': 'I2_AV_KSH'},\n",
              "  {'id': 'I2_AV_KWA'},\n",
              "  {'id': 'I2_AV_LAU'},\n",
              "  {'id': 'I2_AV_ODG'},\n",
              "  {'id': 'I2_AV_ORR'},\n",
              "  {'id': 'I2_AV_OTT'},\n",
              "  {'id': 'I2_AV_QUI'},\n",
              "  {'id': 'I2_AV_RES'},\n",
              "  {'id': 'I2_AV_SNT'},\n",
              "  {'id': 'I2_AV_SOD'},\n",
              "  {'id': 'I2_AV_SOL'},\n",
              "  {'id': 'I2_AV_SYO'},\n",
              "  {'id': 'I2_AV_TRO'},\n",
              "  {'id': 'I2_AV_ULA'},\n",
              "  {'id': 'I2_AV_WNK'},\n",
              "  {'id': 'I2_NEPROF_TOPIST'},\n",
              "  {'id': 'I2_NEPROF_TOPS'},\n",
              "  {'id': 'I8_15SEC_MAG'},\n",
              "  {'id': 'I8_320MSEC_MAG'},\n",
              "  {'id': 'I8_H0_GME'},\n",
              "  {'id': 'I8_H0_MITPLASMA'},\n",
              "  {'id': 'I8_OR_SSC'},\n",
              "  {'id': 'IA_K0_ENF'},\n",
              "  {'id': 'IA_K0_EPI'},\n",
              "  {'id': 'IA_K0_ICD'},\n",
              "  {'id': 'IA_K0_MFI'},\n",
              "  {'id': 'IA_OR_DEF'},\n",
              "  {'id': 'IBEX_H3_ENA_HI_R10_CG_NOSP_ANTIRAM_1YR'},\n",
              "  {'id': 'IBEX_H3_ENA_HI_R10_CG_NOSP_ANTIRAM_7YR'},\n",
              "  {'id': 'IBEX_H3_ENA_HI_R10_CG_NOSP_OMNI_6MO'},\n",
              "  {'id': 'IBEX_H3_ENA_HI_R10_CG_NOSP_OMNI_7YR'},\n",
              "  {'id': 'IBEX_H3_ENA_HI_R10_CG_NOSP_RAM_1YR'},\n",
              "  {'id': 'IBEX_H3_ENA_HI_R10_CG_NOSP_RAM_7YR'},\n",
              "  {'id': 'IBEX_H3_ENA_HI_R10_CG_SP_ANTIRAM_1YR'},\n",
              "  {'id': 'IBEX_H3_ENA_HI_R10_CG_SP_ANTIRAM_7YR'},\n",
              "  {'id': 'IBEX_H3_ENA_HI_R10_CG_SP_OMNI_6MO'},\n",
              "  {'id': 'IBEX_H3_ENA_HI_R10_CG_SP_OMNI_7YR'},\n",
              "  {'id': 'IBEX_H3_ENA_HI_R10_CG_SP_RAM_1YR'},\n",
              "  {'id': 'IBEX_H3_ENA_HI_R10_CG_SP_RAM_7YR'},\n",
              "  {'id': 'IBEX_H3_ENA_HI_R10_NOCG_NOSP_ANTIRAM_1YR'},\n",
              "  {'id': 'IBEX_H3_ENA_HI_R10_NOCG_NOSP_ANTIRAM_7YR'},\n",
              "  {'id': 'IBEX_H3_ENA_HI_R10_NOCG_NOSP_OMNI_6MO'},\n",
              "  {'id': 'IBEX_H3_ENA_HI_R10_NOCG_NOSP_OMNI_7YR'},\n",
              "  {'id': 'IBEX_H3_ENA_HI_R10_NOCG_NOSP_RAM_1YR'},\n",
              "  {'id': 'IBEX_H3_ENA_HI_R10_NOCG_SP_ANTIRAM_1YR'},\n",
              "  {'id': 'IBEX_H3_ENA_HI_R10_NOCG_SP_ANTIRAM_7YR'},\n",
              "  {'id': 'IBEX_H3_ENA_HI_R10_NOCG_SP_OMNI_6MO'},\n",
              "  {'id': 'IBEX_H3_ENA_HI_R10_NOCG_SP_OMNI_7YR'},\n",
              "  {'id': 'IBEX_H3_ENA_HI_R10_NOCG_SP_RAM_1YR'},\n",
              "  {'id': 'IBEX_H3_ENA_HI_R12_MAGNETOSPHERE_24MIN'},\n",
              "  {'id': 'IBEX_H3_ENA_HI_R13_CG_NOSP_ANTIRAM_1YR'},\n",
              "  {'id': 'IBEX_H3_ENA_HI_R13_CG_NOSP_RAM_1YR'},\n",
              "  {'id': 'IBEX_H3_ENA_HI_R14_PRESS-SLOPE_CG_NOSP_RAM_3YR'},\n",
              "  {'id': 'IBEX_H3_ENA_LO_R09_PARK_OMAP_3YR'},\n",
              "  {'id': 'IBEX_H3_ENA_LO_R09_PARK_OMAP_3YR-EVEN-MAPS'},\n",
              "  {'id': 'IBEX_H3_ENA_LO_R09_PARK_OMAP_3YR-ODD-MAPS'},\n",
              "  {'id': 'IBEX_H3_ENA_LO_R09_PARK_OMAP_6MO'},\n",
              "  {'id': 'IBEX_H3_ENA_LO_R09_PARK_OMAP_STAT_3YR'},\n",
              "  {'id': 'IBEX_H3_ENA_LO_R10_NOCG_NOSP_OMNI_6MO'},\n",
              "  {'id': 'IBEX_H3_ENA_LO_R10_NOCG_NOSP_OMNI_7YR'},\n",
              "  {'id': 'IBEX_H3_ENA_LO_R10_NOCG_SP_OMNI_6MO'},\n",
              "  {'id': 'IBEX_H3_ENA_LO_R10_NOCG_SP_OMNI_7YR'},\n",
              "  {'id': 'IG_K0_PCI'},\n",
              "  {'id': 'IMAGE_M2_EUV'},\n",
              "  {'id': 'IM_ELECTRON_DENSITY_RPI'},\n",
              "  {'id': 'IM_HK_ADS'},\n",
              "  {'id': 'IM_HK_AST'},\n",
              "  {'id': 'IM_HK_COM'},\n",
              "  {'id': 'IM_HK_FSW'},\n",
              "  {'id': 'IM_HK_PWR'},\n",
              "  {'id': 'IM_HK_TML'},\n",
              "  {'id': 'IM_K0_EUV'},\n",
              "  {'id': 'IM_K0_HENA'},\n",
              "  {'id': 'IM_K0_LENA'},\n",
              "  {'id': 'IM_K0_MENA'},\n",
              "  {'id': 'IM_K0_RPI'},\n",
              "  {'id': 'IM_K0_SIE'},\n",
              "  {'id': 'IM_K0_SIP'},\n",
              "  {'id': 'IM_K0_WIC'},\n",
              "  {'id': 'IM_K1_RPI'},\n",
              "  {'id': 'IM_OR_DEF'},\n",
              "  {'id': 'IM_OR_PRE'},\n",
              "  {'id': 'ISEE-3_HELIO1DAY_POSITION'},\n",
              "  {'id': 'ISEE-3_MAGPLASMA_2MIN_MAGNETIC_FIELD_PLASMA'},\n",
              "  {'id': 'ISEE-3_MAG_1MIN_MAGNETIC_FIELD'},\n",
              "  {'id': 'ISEE1_4SEC_MFI'},\n",
              "  {'id': 'ISEE1_60SEC_MFI'},\n",
              "  {'id': 'ISEE1_H0_FE'},\n",
              "  {'id': 'ISEE1_H1_FPE'},\n",
              "  {'id': 'ISEE1_H2_FPE'},\n",
              "  {'id': 'ISEE1_PWI_SA'},\n",
              "  {'id': 'ISEE1_PWI_SA-RAPID-E'},\n",
              "  {'id': 'ISEE1_PWI_SFR-E'},\n",
              "  {'id': 'ISEE2_4SEC_MFI'},\n",
              "  {'id': 'ISEE2_60SEC_MFI'},\n",
              "  {'id': 'ISEE2_H1_FPE'},\n",
              "  {'id': 'ISS_27DAY-AVERAGES_AMS-02'},\n",
              "  {'id': 'ISS_DOSANL_TEPC'},\n",
              "  {'id': 'ISS_SP_FPMU'},\n",
              "  {'id': 'IT_H0_MFI'},\n",
              "  {'id': 'IT_K0_AKR'},\n",
              "  {'id': 'IT_K0_COR'},\n",
              "  {'id': 'IT_K0_ELE'},\n",
              "  {'id': 'IT_K0_EPI'},\n",
              "  {'id': 'IT_K0_ICD'},\n",
              "  {'id': 'IT_K0_MFI'},\n",
              "  {'id': 'IT_K0_VDP'},\n",
              "  {'id': 'IT_K0_WAV'},\n",
              "  {'id': 'IT_OR_DEF'},\n",
              "  {'id': 'JUNO_HELIO1DAY_POSITION'},\n",
              "  {'id': 'JUPITER_HELIO1DAY_POSITION'},\n",
              "  {'id': 'L0_K0_MPA'},\n",
              "  {'id': 'L0_K0_SPA'},\n",
              "  {'id': 'L1_K0_MPA'},\n",
              "  {'id': 'L1_K0_SPA'},\n",
              "  {'id': 'L4_K0_MPA'},\n",
              "  {'id': 'L4_K0_SPA'},\n",
              "  {'id': 'L7_H0_MPA'},\n",
              "  {'id': 'L7_K0_MPA'},\n",
              "  {'id': 'L7_K0_SPA'},\n",
              "  {'id': 'L9_H0_MPA'},\n",
              "  {'id': 'L9_K0_MPA'},\n",
              "  {'id': 'L9_K0_SPA'},\n",
              "  {'id': 'MARS_HELIO1DAY_POSITION'},\n",
              "  {'id': 'MAVEN_HELIO1DAY_POSITION'},\n",
              "  {'id': 'MERCURY_HELIO1DAY_POSITION'},\n",
              "  {'id': 'MESSENGER_HELIO1DAY_POSITION'},\n",
              "  {'id': 'MESSENGER_MAG_RTN@0'},\n",
              "  {'id': 'MESSENGER_MAG_RTN@1'},\n",
              "  {'id': 'METOP1_POES-SEM2_FLUXES-2SEC'},\n",
              "  {'id': 'METOP2_POES-SEM2_FLUXES-2SEC'},\n",
              "  {'id': 'MMS1_ASPOC_SRVY_L2'},\n",
              "  {'id': 'MMS1_DSP_FAST_L2_BPSD'},\n",
              "  {'id': 'MMS1_DSP_FAST_L2_EPSD'},\n",
              "  {'id': 'MMS1_DSP_SLOW_L2_BPSD'},\n",
              "  {'id': 'MMS1_DSP_SLOW_L2_EPSD'},\n",
              "  {'id': 'MMS1_EDI_BRST_L2_AMB-PM2@0'},\n",
              "  {'id': 'MMS1_EDI_BRST_L2_AMB-PM2@1'},\n",
              "  {'id': 'MMS1_EDI_BRST_L2_AMB@0'},\n",
              "  {'id': 'MMS1_EDI_BRST_L2_AMB@1'},\n",
              "  {'id': 'MMS1_EDI_BRST_L2_EFIELD'},\n",
              "  {'id': 'MMS1_EDI_BRST_L2_Q0@0'},\n",
              "  {'id': 'MMS1_EDI_BRST_L2_Q0@1'},\n",
              "  {'id': 'MMS1_EDI_BRST_L2_Q0@2'},\n",
              "  {'id': 'MMS1_EDI_SRVY_L2_AMB-PM2@0'},\n",
              "  {'id': 'MMS1_EDI_SRVY_L2_AMB-PM2@1'},\n",
              "  {'id': 'MMS1_EDI_SRVY_L2_AMB@0'},\n",
              "  {'id': 'MMS1_EDI_SRVY_L2_AMB@1'},\n",
              "  {'id': 'MMS1_EDI_SRVY_L2_EFIELD'},\n",
              "  {'id': 'MMS1_EDI_SRVY_L2_Q0@0'},\n",
              "  {'id': 'MMS1_EDI_SRVY_L2_Q0@1'},\n",
              "  {'id': 'MMS1_EDI_SRVY_L2_Q0@2'},\n",
              "  {'id': 'MMS1_EDP_BRST_L2_DCE'},\n",
              "  {'id': 'MMS1_EDP_BRST_L2_HMFE'},\n",
              "  {'id': 'MMS1_EDP_BRST_L2_SCPOT'},\n",
              "  {'id': 'MMS1_EDP_FAST_L2_DCE'},\n",
              "  {'id': 'MMS1_EDP_FAST_L2_SCPOT'},\n",
              "  {'id': 'MMS1_EDP_SLOW_L2_DCE'},\n",
              "  {'id': 'MMS1_EDP_SLOW_L2_SCPOT'},\n",
              "  {'id': 'MMS1_EDP_SRVY_L2_HFESP'},\n",
              "  {'id': 'MMS1_EPD-EIS_BRST_L2_EXTOF'},\n",
              "  {'id': 'MMS1_EPD-EIS_BRST_L2_PHXTOF'},\n",
              "  {'id': 'MMS1_EPD-EIS_SRVY_L2_ELECTRONENERGY'},\n",
              "  {'id': 'MMS1_EPD-EIS_SRVY_L2_EXTOF'},\n",
              "  {'id': 'MMS1_EPD-EIS_SRVY_L2_PHXTOF'},\n",
              "  {'id': 'MMS1_FEEPS_BRST_L2_ELECTRON'},\n",
              "  {'id': 'MMS1_FEEPS_BRST_L2_ION'},\n",
              "  {'id': 'MMS1_FEEPS_SRVY_L2_ELECTRON'},\n",
              "  {'id': 'MMS1_FEEPS_SRVY_L2_ION'},\n",
              "  {'id': 'MMS1_FGM_BRST_L2@0'},\n",
              "  {'id': 'MMS1_FGM_BRST_L2@1'},\n",
              "  {'id': 'MMS1_FGM_SRVY_L2@0'},\n",
              "  {'id': 'MMS1_FGM_SRVY_L2@1'},\n",
              "  {'id': 'MMS1_FPI_BRST_L2_DES-DIST'},\n",
              "  {'id': 'MMS1_FPI_BRST_L2_DES-MOMS'},\n",
              "  {'id': 'MMS1_FPI_BRST_L2_DES-PARTMOMS'},\n",
              "  {'id': 'MMS1_FPI_BRST_L2_DIS-DIST'},\n",
              "  {'id': 'MMS1_FPI_BRST_L2_DIS-MOMS'},\n",
              "  {'id': 'MMS1_FPI_BRST_L2_DIS-PARTMOMS'},\n",
              "  {'id': 'MMS1_FPI_FAST_L2_DES-DIST'},\n",
              "  {'id': 'MMS1_FPI_FAST_L2_DES-MOMS'},\n",
              "  {'id': 'MMS1_FPI_FAST_L2_DES-PARTMOMS'},\n",
              "  {'id': 'MMS1_FPI_FAST_L2_DIS-DIST'},\n",
              "  {'id': 'MMS1_FPI_FAST_L2_DIS-MOMS'},\n",
              "  {'id': 'MMS1_FPI_FAST_L2_DIS-PARTMOMS'},\n",
              "  {'id': 'MMS1_HPCA_BRST_L2_ION'},\n",
              "  {'id': 'MMS1_HPCA_BRST_L2_MOMENTS'},\n",
              "  {'id': 'MMS1_HPCA_SRVY_L2_ION'},\n",
              "  {'id': 'MMS1_HPCA_SRVY_L2_MOMENTS'},\n",
              "  {'id': 'MMS1_HPCA_SRVY_L2_TOF-COUNTS'},\n",
              "  {'id': 'MMS1_MEC_BRST_L2_EPHT89D'},\n",
              "  {'id': 'MMS1_MEC_BRST_L2_EPHT89Q'},\n",
              "  {'id': 'MMS1_MEC_BRST_L2_EPHTS04D'},\n",
              "  {'id': 'MMS1_MEC_SRVY_L2_EPHT89D'},\n",
              "  {'id': 'MMS1_MEC_SRVY_L2_EPHT89Q'},\n",
              "  {'id': 'MMS1_MEC_SRVY_L2_EPHTS04D'},\n",
              "  {'id': 'MMS1_SCM_BRST_L2_SCB'},\n",
              "  {'id': 'MMS1_SCM_BRST_L2_SCHB'},\n",
              "  {'id': 'MMS1_SCM_SRVY_L2_SCSRVY'},\n",
              "  {'id': 'MMS2_ASPOC_SRVY_L2'},\n",
              "  {'id': 'MMS2_DSP_FAST_L2_BPSD'},\n",
              "  {'id': 'MMS2_DSP_FAST_L2_EPSD'},\n",
              "  {'id': 'MMS2_DSP_SLOW_L2_BPSD'},\n",
              "  {'id': 'MMS2_DSP_SLOW_L2_EPSD'},\n",
              "  {'id': 'MMS2_EDI_BRST_L2_AMB-PM2@0'},\n",
              "  {'id': 'MMS2_EDI_BRST_L2_AMB-PM2@1'},\n",
              "  {'id': 'MMS2_EDI_BRST_L2_AMB@0'},\n",
              "  {'id': 'MMS2_EDI_BRST_L2_AMB@1'},\n",
              "  {'id': 'MMS2_EDI_BRST_L2_EFIELD'},\n",
              "  {'id': 'MMS2_EDI_BRST_L2_Q0@0'},\n",
              "  {'id': 'MMS2_EDI_BRST_L2_Q0@1'},\n",
              "  {'id': 'MMS2_EDI_BRST_L2_Q0@2'},\n",
              "  {'id': 'MMS2_EDI_SRVY_L2_AMB-PM2@0'},\n",
              "  {'id': 'MMS2_EDI_SRVY_L2_AMB-PM2@1'},\n",
              "  {'id': 'MMS2_EDI_SRVY_L2_AMB@0'},\n",
              "  {'id': 'MMS2_EDI_SRVY_L2_AMB@1'},\n",
              "  {'id': 'MMS2_EDI_SRVY_L2_EFIELD'},\n",
              "  {'id': 'MMS2_EDI_SRVY_L2_Q0@0'},\n",
              "  {'id': 'MMS2_EDI_SRVY_L2_Q0@1'},\n",
              "  {'id': 'MMS2_EDI_SRVY_L2_Q0@2'},\n",
              "  {'id': 'MMS2_EDP_BRST_L2_DCE'},\n",
              "  {'id': 'MMS2_EDP_BRST_L2_HMFE'},\n",
              "  {'id': 'MMS2_EDP_BRST_L2_SCPOT'},\n",
              "  {'id': 'MMS2_EDP_FAST_L2_DCE'},\n",
              "  {'id': 'MMS2_EDP_FAST_L2_SCPOT'},\n",
              "  {'id': 'MMS2_EDP_SLOW_L2_DCE'},\n",
              "  {'id': 'MMS2_EDP_SLOW_L2_SCPOT'},\n",
              "  {'id': 'MMS2_EDP_SRVY_L2_HFESP'},\n",
              "  {'id': 'MMS2_EPD-EIS_BRST_L2_EXTOF'},\n",
              "  {'id': 'MMS2_EPD-EIS_BRST_L2_PHXTOF'},\n",
              "  {'id': 'MMS2_EPD-EIS_SRVY_L2_ELECTRONENERGY'},\n",
              "  {'id': 'MMS2_EPD-EIS_SRVY_L2_EXTOF'},\n",
              "  {'id': 'MMS2_EPD-EIS_SRVY_L2_PHXTOF'},\n",
              "  {'id': 'MMS2_FEEPS_BRST_L2_ELECTRON'},\n",
              "  {'id': 'MMS2_FEEPS_BRST_L2_ION'},\n",
              "  {'id': 'MMS2_FEEPS_SRVY_L2_ELECTRON'},\n",
              "  {'id': 'MMS2_FEEPS_SRVY_L2_ION'},\n",
              "  {'id': 'MMS2_FGM_BRST_L2@0'},\n",
              "  {'id': 'MMS2_FGM_BRST_L2@1'},\n",
              "  {'id': 'MMS2_FGM_SRVY_L2@0'},\n",
              "  {'id': 'MMS2_FGM_SRVY_L2@1'},\n",
              "  {'id': 'MMS2_FPI_BRST_L2_DES-DIST'},\n",
              "  {'id': 'MMS2_FPI_BRST_L2_DES-MOMS'},\n",
              "  {'id': 'MMS2_FPI_BRST_L2_DES-PARTMOMS'},\n",
              "  {'id': 'MMS2_FPI_BRST_L2_DIS-DIST'},\n",
              "  {'id': 'MMS2_FPI_BRST_L2_DIS-MOMS'},\n",
              "  {'id': 'MMS2_FPI_BRST_L2_DIS-PARTMOMS'},\n",
              "  {'id': 'MMS2_FPI_FAST_L2_DES-DIST'},\n",
              "  {'id': 'MMS2_FPI_FAST_L2_DES-MOMS'},\n",
              "  {'id': 'MMS2_FPI_FAST_L2_DES-PARTMOMS'},\n",
              "  {'id': 'MMS2_FPI_FAST_L2_DIS-DIST'},\n",
              "  {'id': 'MMS2_FPI_FAST_L2_DIS-MOMS'},\n",
              "  {'id': 'MMS2_FPI_FAST_L2_DIS-PARTMOMS'},\n",
              "  {'id': 'MMS2_HPCA_BRST_L2_ION'},\n",
              "  {'id': 'MMS2_HPCA_BRST_L2_MOMENTS'},\n",
              "  {'id': 'MMS2_HPCA_SRVY_L2_ION'},\n",
              "  {'id': 'MMS2_HPCA_SRVY_L2_MOMENTS'},\n",
              "  {'id': 'MMS2_HPCA_SRVY_L2_TOF-COUNTS'},\n",
              "  {'id': 'MMS2_MEC_BRST_L2_EPHT89D'},\n",
              "  {'id': 'MMS2_MEC_BRST_L2_EPHT89Q'},\n",
              "  {'id': 'MMS2_MEC_BRST_L2_EPHTS04D'},\n",
              "  {'id': 'MMS2_MEC_SRVY_L2_EPHT89D'},\n",
              "  {'id': 'MMS2_MEC_SRVY_L2_EPHT89Q'},\n",
              "  {'id': 'MMS2_MEC_SRVY_L2_EPHTS04D'},\n",
              "  {'id': 'MMS2_SCM_BRST_L2_SCB'},\n",
              "  {'id': 'MMS2_SCM_BRST_L2_SCHB'},\n",
              "  {'id': 'MMS2_SCM_SRVY_L2_SCSRVY'},\n",
              "  {'id': 'MMS3_ASPOC_SRVY_L2'},\n",
              "  {'id': 'MMS3_DSP_FAST_L2_BPSD'},\n",
              "  {'id': 'MMS3_DSP_FAST_L2_EPSD'},\n",
              "  {'id': 'MMS3_DSP_SLOW_L2_BPSD'},\n",
              "  {'id': 'MMS3_DSP_SLOW_L2_EPSD'},\n",
              "  {'id': 'MMS3_EDI_BRST_L2_AMB-PM2@0'},\n",
              "  {'id': 'MMS3_EDI_BRST_L2_AMB-PM2@1'},\n",
              "  {'id': 'MMS3_EDI_BRST_L2_AMB@0'},\n",
              "  {'id': 'MMS3_EDI_BRST_L2_AMB@1'},\n",
              "  {'id': 'MMS3_EDI_BRST_L2_EFIELD'},\n",
              "  {'id': 'MMS3_EDI_BRST_L2_Q0@0'},\n",
              "  {'id': 'MMS3_EDI_BRST_L2_Q0@1'},\n",
              "  {'id': 'MMS3_EDI_BRST_L2_Q0@2'},\n",
              "  {'id': 'MMS3_EDI_SRVY_L2_AMB-PM2@0'},\n",
              "  {'id': 'MMS3_EDI_SRVY_L2_AMB-PM2@1'},\n",
              "  {'id': 'MMS3_EDI_SRVY_L2_AMB@0'},\n",
              "  {'id': 'MMS3_EDI_SRVY_L2_AMB@1'},\n",
              "  {'id': 'MMS3_EDI_SRVY_L2_EFIELD'},\n",
              "  {'id': 'MMS3_EDI_SRVY_L2_Q0@0'},\n",
              "  {'id': 'MMS3_EDI_SRVY_L2_Q0@1'},\n",
              "  {'id': 'MMS3_EDI_SRVY_L2_Q0@2'},\n",
              "  {'id': 'MMS3_EDP_BRST_L2_DCE'},\n",
              "  {'id': 'MMS3_EDP_BRST_L2_HMFE'},\n",
              "  {'id': 'MMS3_EDP_BRST_L2_SCPOT'},\n",
              "  {'id': 'MMS3_EDP_FAST_L2_DCE'},\n",
              "  {'id': 'MMS3_EDP_FAST_L2_SCPOT'},\n",
              "  {'id': 'MMS3_EDP_SLOW_L2_DCE'},\n",
              "  {'id': 'MMS3_EDP_SLOW_L2_SCPOT'},\n",
              "  {'id': 'MMS3_EDP_SRVY_L2_HFESP'},\n",
              "  {'id': 'MMS3_EPD-EIS_BRST_L2_EXTOF'},\n",
              "  {'id': 'MMS3_EPD-EIS_BRST_L2_PHXTOF'},\n",
              "  {'id': 'MMS3_EPD-EIS_SRVY_L2_ELECTRONENERGY'},\n",
              "  {'id': 'MMS3_EPD-EIS_SRVY_L2_EXTOF'},\n",
              "  {'id': 'MMS3_EPD-EIS_SRVY_L2_PHXTOF'},\n",
              "  {'id': 'MMS3_FEEPS_BRST_L2_ELECTRON'},\n",
              "  {'id': 'MMS3_FEEPS_BRST_L2_ION'},\n",
              "  {'id': 'MMS3_FEEPS_SRVY_L2_ELECTRON'},\n",
              "  {'id': 'MMS3_FEEPS_SRVY_L2_ION'},\n",
              "  {'id': 'MMS3_FGM_BRST_L2@0'},\n",
              "  {'id': 'MMS3_FGM_BRST_L2@1'},\n",
              "  {'id': 'MMS3_FGM_SRVY_L2@0'},\n",
              "  {'id': 'MMS3_FGM_SRVY_L2@1'},\n",
              "  {'id': 'MMS3_FPI_BRST_L2_DES-DIST'},\n",
              "  {'id': 'MMS3_FPI_BRST_L2_DES-MOMS'},\n",
              "  {'id': 'MMS3_FPI_BRST_L2_DES-PARTMOMS'},\n",
              "  {'id': 'MMS3_FPI_BRST_L2_DIS-DIST'},\n",
              "  {'id': 'MMS3_FPI_BRST_L2_DIS-MOMS'},\n",
              "  {'id': 'MMS3_FPI_BRST_L2_DIS-PARTMOMS'},\n",
              "  {'id': 'MMS3_FPI_FAST_L2_DES-DIST'},\n",
              "  {'id': 'MMS3_FPI_FAST_L2_DES-MOMS'},\n",
              "  {'id': 'MMS3_FPI_FAST_L2_DES-PARTMOMS'},\n",
              "  {'id': 'MMS3_FPI_FAST_L2_DIS-DIST'},\n",
              "  {'id': 'MMS3_FPI_FAST_L2_DIS-MOMS'},\n",
              "  {'id': 'MMS3_FPI_FAST_L2_DIS-PARTMOMS'},\n",
              "  {'id': 'MMS3_HPCA_BRST_L2_ION'},\n",
              "  {'id': 'MMS3_HPCA_BRST_L2_MOMENTS'},\n",
              "  {'id': 'MMS3_HPCA_SRVY_L2_ION'},\n",
              "  {'id': 'MMS3_HPCA_SRVY_L2_MOMENTS'},\n",
              "  {'id': 'MMS3_HPCA_SRVY_L2_TOF-COUNTS'},\n",
              "  {'id': 'MMS3_MEC_BRST_L2_EPHT89D'},\n",
              "  {'id': 'MMS3_MEC_BRST_L2_EPHT89Q'},\n",
              "  {'id': 'MMS3_MEC_BRST_L2_EPHTS04D'},\n",
              "  {'id': 'MMS3_MEC_SRVY_L2_EPHT89D'},\n",
              "  {'id': 'MMS3_MEC_SRVY_L2_EPHT89Q'},\n",
              "  {'id': 'MMS3_MEC_SRVY_L2_EPHTS04D'},\n",
              "  {'id': 'MMS3_SCM_BRST_L2_SCB'},\n",
              "  {'id': 'MMS3_SCM_BRST_L2_SCHB'},\n",
              "  {'id': 'MMS3_SCM_SRVY_L2_SCSRVY'},\n",
              "  {'id': 'MMS4_ASPOC_SRVY_L2'},\n",
              "  {'id': 'MMS4_DSP_FAST_L2_BPSD'},\n",
              "  {'id': 'MMS4_DSP_FAST_L2_EPSD'},\n",
              "  {'id': 'MMS4_DSP_SLOW_L2_BPSD'},\n",
              "  {'id': 'MMS4_DSP_SLOW_L2_EPSD'},\n",
              "  {'id': 'MMS4_EDI_BRST_L2_AMB-PM2@0'},\n",
              "  {'id': 'MMS4_EDI_BRST_L2_AMB-PM2@1'},\n",
              "  {'id': 'MMS4_EDI_BRST_L2_AMB@0'},\n",
              "  {'id': 'MMS4_EDI_BRST_L2_AMB@1'},\n",
              "  {'id': 'MMS4_EDI_BRST_L2_EFIELD'},\n",
              "  {'id': 'MMS4_EDI_BRST_L2_Q0@0'},\n",
              "  {'id': 'MMS4_EDI_BRST_L2_Q0@1'},\n",
              "  {'id': 'MMS4_EDI_BRST_L2_Q0@2'},\n",
              "  {'id': 'MMS4_EDI_SRVY_L2_AMB-PM2@0'},\n",
              "  {'id': 'MMS4_EDI_SRVY_L2_AMB-PM2@1'},\n",
              "  {'id': 'MMS4_EDI_SRVY_L2_AMB@0'},\n",
              "  {'id': 'MMS4_EDI_SRVY_L2_AMB@1'},\n",
              "  {'id': 'MMS4_EDI_SRVY_L2_EFIELD'},\n",
              "  {'id': 'MMS4_EDI_SRVY_L2_Q0@0'},\n",
              "  {'id': 'MMS4_EDI_SRVY_L2_Q0@1'},\n",
              "  {'id': 'MMS4_EDI_SRVY_L2_Q0@2'},\n",
              "  {'id': 'MMS4_EDP_BRST_L2_DCE'},\n",
              "  {'id': 'MMS4_EDP_BRST_L2_HMFE'},\n",
              "  {'id': 'MMS4_EDP_BRST_L2_SCPOT'},\n",
              "  {'id': 'MMS4_EDP_FAST_L2_DCE'},\n",
              "  {'id': 'MMS4_EDP_FAST_L2_SCPOT'},\n",
              "  {'id': 'MMS4_EDP_SLOW_L2_DCE'},\n",
              "  {'id': 'MMS4_EDP_SLOW_L2_SCPOT'},\n",
              "  {'id': 'MMS4_EDP_SRVY_L2_HFESP'},\n",
              "  {'id': 'MMS4_EPD-EIS_BRST_L2_EXTOF'},\n",
              "  {'id': 'MMS4_EPD-EIS_BRST_L2_PHXTOF'},\n",
              "  {'id': 'MMS4_EPD-EIS_SRVY_L2_ELECTRONENERGY'},\n",
              "  {'id': 'MMS4_EPD-EIS_SRVY_L2_EXTOF'},\n",
              "  {'id': 'MMS4_EPD-EIS_SRVY_L2_PHXTOF'},\n",
              "  {'id': 'MMS4_FEEPS_BRST_L2_ELECTRON'},\n",
              "  {'id': 'MMS4_FEEPS_BRST_L2_ION'},\n",
              "  {'id': 'MMS4_FEEPS_SRVY_L2_ELECTRON'},\n",
              "  {'id': 'MMS4_FEEPS_SRVY_L2_ION'},\n",
              "  {'id': 'MMS4_FGM_BRST_L2@0'},\n",
              "  {'id': 'MMS4_FGM_BRST_L2@1'},\n",
              "  {'id': 'MMS4_FGM_SRVY_L2@0'},\n",
              "  {'id': 'MMS4_FGM_SRVY_L2@1'},\n",
              "  {'id': 'MMS4_FPI_BRST_L2_DES-DIST'},\n",
              "  {'id': 'MMS4_FPI_BRST_L2_DES-MOMS'},\n",
              "  {'id': 'MMS4_FPI_BRST_L2_DES-PARTMOMS'},\n",
              "  {'id': 'MMS4_FPI_BRST_L2_DIS-DIST'},\n",
              "  {'id': 'MMS4_FPI_BRST_L2_DIS-MOMS'},\n",
              "  {'id': 'MMS4_FPI_BRST_L2_DIS-PARTMOMS'},\n",
              "  {'id': 'MMS4_FPI_FAST_L2_DES-DIST'},\n",
              "  {'id': 'MMS4_FPI_FAST_L2_DES-MOMS'},\n",
              "  {'id': 'MMS4_FPI_FAST_L2_DES-PARTMOMS'},\n",
              "  {'id': 'MMS4_FPI_FAST_L2_DIS-DIST'},\n",
              "  {'id': 'MMS4_FPI_FAST_L2_DIS-MOMS'},\n",
              "  {'id': 'MMS4_FPI_FAST_L2_DIS-PARTMOMS'},\n",
              "  {'id': 'MMS4_HPCA_BRST_L2_ION'},\n",
              "  {'id': 'MMS4_HPCA_BRST_L2_MOMENTS'},\n",
              "  {'id': 'MMS4_HPCA_SRVY_L2_ION'},\n",
              "  {'id': 'MMS4_HPCA_SRVY_L2_MOMENTS'},\n",
              "  {'id': 'MMS4_HPCA_SRVY_L2_TOF-COUNTS'},\n",
              "  {'id': 'MMS4_MEC_BRST_L2_EPHT89D'},\n",
              "  {'id': 'MMS4_MEC_BRST_L2_EPHT89Q'},\n",
              "  {'id': 'MMS4_MEC_BRST_L2_EPHTS04D'},\n",
              "  {'id': 'MMS4_MEC_SRVY_L2_EPHT89D'},\n",
              "  {'id': 'MMS4_MEC_SRVY_L2_EPHT89Q'},\n",
              "  {'id': 'MMS4_MEC_SRVY_L2_EPHTS04D'},\n",
              "  {'id': 'MMS4_SCM_BRST_L2_SCB'},\n",
              "  {'id': 'MMS4_SCM_BRST_L2_SCHB'},\n",
              "  {'id': 'MMS4_SCM_SRVY_L2_SCSRVY'},\n",
              "  {'id': 'MSL_HELIO1DAY_POSITION'},\n",
              "  {'id': 'MUNIN_M1_MDSE'},\n",
              "  {'id': 'MUNIN_M1_MDSI'},\n",
              "  {'id': 'MUNIN_M1_OA'},\n",
              "  {'id': 'MVN_INSITU_KP-4SEC'},\n",
              "  {'id': 'MVN_MAG_L2-SUNSTATE-1SEC'},\n",
              "  {'id': 'NEPTUNE_HELIO1DAY_POSITION'},\n",
              "  {'id': 'NEW_HORIZONS_HELIO1DAY_POSITION'},\n",
              "  {'id': 'NEW_HORIZONS_SWAP_PICKUP-IONS'},\n",
              "  {'id': 'NEW_HORIZONS_SWAP_PICKUP-IONS-HISTOGRAM'},\n",
              "  {'id': 'NEW_HORIZONS_SWAP_VALIDSUM'},\n",
              "  {'id': 'NOAA05_MEPED1MIN_SEM'},\n",
              "  {'id': 'NOAA06_MEPED1MIN_SEM'},\n",
              "  {'id': 'NOAA07_MEPED1MIN_SEM'},\n",
              "  {'id': 'NOAA08_MEPED1MIN_SEM'},\n",
              "  {'id': 'NOAA10_MEPED1MIN_SEM'},\n",
              "  {'id': 'NOAA12_MEPED1MIN_SEM'},\n",
              "  {'id': 'NOAA14_MEPED1MIN_SEM'},\n",
              "  {'id': 'NOAA15_POES-SEM2_FLUXES-2SEC'},\n",
              "  {'id': 'NOAA16_POES-SEM2_FLUXES-2SEC'},\n",
              "  {'id': 'NOAA18_POES-SEM2_FLUXES-2SEC'},\n",
              "  {'id': 'NOAA19_POES-SEM2_FLUXES-2SEC'},\n",
              "  {'id': 'OMNI2_H0_MRG1HR'},\n",
              "  {'id': 'OMNI_COHO1HR_MERGED_MAG_PLASMA'},\n",
              "  {'id': 'OMNI_HRO2_1MIN'},\n",
              "  {'id': 'OMNI_HRO2_5MIN'},\n",
              "  {'id': 'OMNI_HRO_1MIN'},\n",
              "  {'id': 'OMNI_HRO_5MIN'},\n",
              "  {'id': 'PHOBOS2_HELIO1DAY_POSITION'},\n",
              "  {'id': 'PIONEER10_COHO1HR_MERGED_MAG_PLASMA'},\n",
              "  {'id': 'PIONEER10_MAG_1MIN_MAGNETIC_FIELD@0'},\n",
              "  {'id': 'PIONEER10_MAG_1MIN_MAGNETIC_FIELD@1'},\n",
              "  {'id': 'PIONEER11_COHO1HR_MERGED_MAG_PLASMA'},\n",
              "  {'id': 'PIONEERVENUS_COHO1HR_MERGED_MAG_PLASMA'},\n",
              "  {'id': 'PIONEERVENUS_MERGED_SOLAR-WIND_10M'},\n",
              "  {'id': 'PLUTO_HELIO1DAY_POSITION'},\n",
              "  {'id': 'POLAR_HYDRA_MOMENTS-14SEC'},\n",
              "  {'id': 'PO_10MINATT_EFI'},\n",
              "  {'id': 'PO_6SECEDSC_EFI'},\n",
              "  {'id': 'PO_6SECPOTLDENS_EFI'},\n",
              "  {'id': 'PO_AT_DEF'},\n",
              "  {'id': 'PO_AT_PRE'},\n",
              "  {'id': 'PO_EJ_VIS'},\n",
              "  {'id': 'PO_H0_CAM'},\n",
              "  {'id': 'PO_H0_HYD'},\n",
              "  {'id': 'PO_H0_PWI@0'},\n",
              "  {'id': 'PO_H0_PWI@1'},\n",
              "  {'id': 'PO_H0_TID'},\n",
              "  {'id': 'PO_H0_TIM@0'},\n",
              "  {'id': 'PO_H0_TIM@1'},\n",
              "  {'id': 'PO_H0_TIM@2'},\n",
              "  {'id': 'PO_H0_TIM@3'},\n",
              "  {'id': 'PO_H0_UVI'},\n",
              "  {'id': 'PO_H1_PWI@0'},\n",
              "  {'id': 'PO_H1_PWI@1'},\n",
              "  {'id': 'PO_H1_PWI@2'},\n",
              "  {'id': 'PO_H1_PWI@3'},\n",
              "  {'id': 'PO_H1_PWI@4'},\n",
              "  {'id': 'PO_H1_TID'},\n",
              "  {'id': 'PO_H1_UVI'},\n",
              "  {'id': 'PO_H2_PWI'},\n",
              "  {'id': 'PO_H3_PWI@0'},\n",
              "  {'id': 'PO_H3_PWI@1'},\n",
              "  {'id': 'PO_H4_PWI@0'},\n",
              "  {'id': 'PO_H4_PWI@1'},\n",
              "  {'id': 'PO_H5_PWI@0'},\n",
              "  {'id': 'PO_H5_PWI@1'},\n",
              "  {'id': 'PO_H7_PWI'},\n",
              "  {'id': 'PO_H8_PWI'},\n",
              "  {'id': 'PO_H9_PWI'},\n",
              "  {'id': 'PO_HYD_ENERGY_FLUX'},\n",
              "  {'id': 'PO_K0_CAM'},\n",
              "  {'id': 'PO_K0_CEP'},\n",
              "  {'id': 'PO_K0_EFI'},\n",
              "  {'id': 'PO_K0_HYD'},\n",
              "  {'id': 'PO_K0_MFE@0'},\n",
              "  {'id': 'PO_K0_MFE@1'},\n",
              "  {'id': 'PO_K0_PIX'},\n",
              "  {'id': 'PO_K0_PWI'},\n",
              "  {'id': 'PO_K0_SPHA'},\n",
              "  {'id': 'PO_K0_UVI'},\n",
              "  {'id': 'PO_K0_VIS'},\n",
              "  {'id': 'PO_K1_TIM'},\n",
              "  {'id': 'PO_K1_VIS'},\n",
              "  {'id': 'PO_LEVEL1_UVI'},\n",
              "  {'id': 'PO_OR_DEF'},\n",
              "  {'id': 'PO_OR_PRE'},\n",
              "  {'id': 'PO_PA_DEF'},\n",
              "  {'id': 'PO_VIS_EARTH-CAMERA-CALIBRATED'},\n",
              "  {'id': 'PO_VIS_VISIBLE-IMAGER-CALIBRATED'},\n",
              "  {'id': 'PSP_COHO1HR_MERGED_MAG_PLASMA'},\n",
              "  {'id': 'PSP_FLD_L2_DFB_AC_BPF_DV12HG'},\n",
              "  {'id': 'PSP_FLD_L2_DFB_AC_BPF_DV34HG'},\n",
              "  {'id': 'PSP_FLD_L2_DFB_AC_BPF_SCMULFHG'},\n",
              "  {'id': 'PSP_FLD_L2_DFB_AC_BPF_SCMUMFHG'},\n",
              "  {'id': 'PSP_FLD_L2_DFB_AC_SPEC_DV12HG'},\n",
              "  {'id': 'PSP_FLD_L2_DFB_AC_SPEC_DV34HG'},\n",
              "  {'id': 'PSP_FLD_L2_DFB_AC_SPEC_SCMDLFHG'},\n",
              "  {'id': 'PSP_FLD_L2_DFB_AC_SPEC_SCMELFHG'},\n",
              "  {'id': 'PSP_FLD_L2_DFB_AC_SPEC_SCMFLFHG'},\n",
              "  {'id': 'PSP_FLD_L2_DFB_AC_SPEC_SCMMF'},\n",
              "  {'id': 'PSP_FLD_L2_DFB_AC_SPEC_SCMULFLG'},\n",
              "  {'id': 'PSP_FLD_L2_DFB_AC_SPEC_SCMVLFHG'},\n",
              "  {'id': 'PSP_FLD_L2_DFB_AC_SPEC_V5HG'},\n",
              "  {'id': 'PSP_FLD_L2_DFB_AC_XSPEC_DV12HG_DV34HG'},\n",
              "  {'id': 'PSP_FLD_L2_DFB_AC_XSPEC_SCMDLFHG_SCMELFHG'},\n",
              "  {'id': 'PSP_FLD_L2_DFB_AC_XSPEC_SCMDLFHG_SCMFLFHG'},\n",
              "  {'id': 'PSP_FLD_L2_DFB_AC_XSPEC_SCMELFHG_SCMFLFHG'},\n",
              "  {'id': 'PSP_FLD_L2_DFB_DBM_DVAC'},\n",
              "  {'id': 'PSP_FLD_L2_DFB_DBM_DVDC'},\n",
              "  {'id': 'PSP_FLD_L2_DFB_DBM_SCM'},\n",
              "  {'id': 'PSP_FLD_L2_DFB_DBM_VAC'},\n",
              "  {'id': 'PSP_FLD_L2_DFB_DBM_VDC'},\n",
              "  {'id': 'PSP_FLD_L2_DFB_DC_BPF_DV12HG'},\n",
              "  {'id': 'PSP_FLD_L2_DFB_DC_BPF_DV34HG'},\n",
              "  {'id': 'PSP_FLD_L2_DFB_DC_BPF_SCMULFHG'},\n",
              "  {'id': 'PSP_FLD_L2_DFB_DC_BPF_SCMVLFHG'},\n",
              "  {'id': 'PSP_FLD_L2_DFB_DC_SPEC_DV12HG'},\n",
              "  {'id': 'PSP_FLD_L2_DFB_DC_SPEC_SCMDLFHG'},\n",
              "  {'id': 'PSP_FLD_L2_DFB_DC_SPEC_SCMELFHG'},\n",
              "  {'id': 'PSP_FLD_L2_DFB_DC_SPEC_SCMFLFHG'},\n",
              "  {'id': 'PSP_FLD_L2_DFB_DC_SPEC_SCMULFHG'},\n",
              "  {'id': 'PSP_FLD_L2_DFB_DC_SPEC_SCMVLFHG'},\n",
              "  {'id': 'PSP_FLD_L2_DFB_DC_SPEC_SCMWLFHG'},\n",
              "  {'id': 'PSP_FLD_L2_DFB_DC_XSPEC_SCMDLFHG_SCMELFHG'},\n",
              "  {'id': 'PSP_FLD_L2_DFB_DC_XSPEC_SCMDLFHG_SCMFLFHG'},\n",
              "  {'id': 'PSP_FLD_L2_DFB_DC_XSPEC_SCMELFHG_SCMFLFHG'},\n",
              "  {'id': 'PSP_FLD_L2_DFB_DC_XSPEC_SCMVLFHG_SCMWLFHG'},\n",
              "  {'id': 'PSP_FLD_L2_DFB_WF_DVDC'},\n",
              "  {'id': 'PSP_FLD_L2_DFB_WF_SCM@0'},\n",
              "  {'id': 'PSP_FLD_L2_DFB_WF_SCM@1'},\n",
              "  {'id': 'PSP_FLD_L2_DFB_WF_VDC@0'},\n",
              "  {'id': 'PSP_FLD_L2_DFB_WF_VDC@1'},\n",
              "  {'id': 'PSP_FLD_L2_DFB_WF_VDC@2'},\n",
              "  {'id': 'PSP_FLD_L2_DFB_WF_VDC@3'},\n",
              "  {'id': 'PSP_FLD_L2_DFB_WF_VDC@4'},\n",
              "  {'id': 'PSP_FLD_L2_F2_100BPS'},\n",
              "  {'id': 'PSP_FLD_L2_MAG_RTN'},\n",
              "  {'id': 'PSP_FLD_L2_MAG_RTN_1MIN'},\n",
              "  {'id': 'PSP_FLD_L2_MAG_RTN_4_SA_PER_CYC'},\n",
              "  {'id': 'PSP_FLD_L2_MAG_SC'},\n",
              "  {'id': 'PSP_FLD_L2_MAG_SC_1MIN'},\n",
              "  {'id': 'PSP_FLD_L2_MAG_SC_4_SA_PER_CYC'},\n",
              "  {'id': 'PSP_FLD_L2_MAG_VSO'},\n",
              "  {'id': 'PSP_FLD_L2_RFS_BURST@0'},\n",
              "  {'id': 'PSP_FLD_L2_RFS_BURST@1'},\n",
              "  {'id': 'PSP_FLD_L2_RFS_BURST@2'},\n",
              "  {'id': 'PSP_FLD_L2_RFS_BURST@3'},\n",
              "  {'id': 'PSP_FLD_L2_RFS_BURST@4'},\n",
              "  {'id': 'PSP_FLD_L2_RFS_HFR@0'},\n",
              "  {'id': 'PSP_FLD_L2_RFS_HFR@1'},\n",
              "  {'id': 'PSP_FLD_L2_RFS_HFR@2'},\n",
              "  {'id': 'PSP_FLD_L2_RFS_HFR@3'},\n",
              "  {'id': 'PSP_FLD_L2_RFS_HFR@4'},\n",
              "  {'id': 'PSP_FLD_L2_RFS_HFR@5'},\n",
              "  {'id': 'PSP_FLD_L2_RFS_HFR@6'},\n",
              "  {'id': 'PSP_FLD_L2_RFS_HFR@7'},\n",
              "  {'id': 'PSP_FLD_L2_RFS_HFR@8'},\n",
              "  {'id': 'PSP_FLD_L2_RFS_LFR@0'},\n",
              "  {'id': 'PSP_FLD_L2_RFS_LFR@1'},\n",
              "  {'id': 'PSP_FLD_L2_RFS_LFR@10'},\n",
              "  {'id': 'PSP_FLD_L2_RFS_LFR@11'},\n",
              "  {'id': 'PSP_FLD_L2_RFS_LFR@12'},\n",
              "  {'id': 'PSP_FLD_L2_RFS_LFR@2'},\n",
              "  {'id': 'PSP_FLD_L2_RFS_LFR@3'},\n",
              "  {'id': 'PSP_FLD_L2_RFS_LFR@4'},\n",
              "  {'id': 'PSP_FLD_L2_RFS_LFR@5'},\n",
              "  {'id': 'PSP_FLD_L2_RFS_LFR@6'},\n",
              "  {'id': 'PSP_FLD_L2_RFS_LFR@7'},\n",
              "  {'id': 'PSP_FLD_L2_RFS_LFR@8'},\n",
              "  {'id': 'PSP_FLD_L2_RFS_LFR@9'},\n",
              "  {'id': 'PSP_FLD_L3_MERGED_SCAM_WF'},\n",
              "  {'id': 'PSP_HELIO1DAY_POSITION'},\n",
              "  {'id': 'PSP_ISOIS-EPIHI_L2-HET-RATES10'},\n",
              "  {'id': 'PSP_ISOIS-EPIHI_L2-HET-RATES300'},\n",
              "  {'id': 'PSP_ISOIS-EPIHI_L2-HET-RATES3600'},\n",
              "  {'id': 'PSP_ISOIS-EPIHI_L2-HET-RATES60'},\n",
              "  {'id': 'PSP_ISOIS-EPIHI_L2-LET1-RATES10'},\n",
              "  {'id': 'PSP_ISOIS-EPIHI_L2-LET1-RATES300'},\n",
              "  {'id': 'PSP_ISOIS-EPIHI_L2-LET1-RATES3600'},\n",
              "  {'id': 'PSP_ISOIS-EPIHI_L2-LET1-RATES60'},\n",
              "  {'id': 'PSP_ISOIS-EPIHI_L2-LET2-RATES10'},\n",
              "  {'id': 'PSP_ISOIS-EPIHI_L2-LET2-RATES300'},\n",
              "  {'id': 'PSP_ISOIS-EPIHI_L2-LET2-RATES3600'},\n",
              "  {'id': 'PSP_ISOIS-EPIHI_L2-LET2-RATES60'},\n",
              "  {'id': 'PSP_ISOIS-EPIHI_L2-SECOND-RATES'},\n",
              "  {'id': 'PSP_ISOIS-EPILO_L2-IC@0'},\n",
              "  {'id': 'PSP_ISOIS-EPILO_L2-IC@1'},\n",
              "  {'id': 'PSP_ISOIS-EPILO_L2-IC@2'},\n",
              "  {'id': 'PSP_ISOIS-EPILO_L2-IC@3'},\n",
              "  {'id': 'PSP_ISOIS-EPILO_L2-IC@4'},\n",
              "  {'id': 'PSP_ISOIS-EPILO_L2-PE@0'},\n",
              "  {'id': 'PSP_ISOIS-EPILO_L2-PE@1'},\n",
              "  {'id': 'PSP_ISOIS-EPILO_L2-PE@2'},\n",
              "  {'id': 'PSP_ISOIS_L2-EPHEM'},\n",
              "  {'id': 'PSP_ISOIS_L2-SUMMARY@0'},\n",
              "  {'id': 'PSP_ISOIS_L2-SUMMARY@1'},\n",
              "  {'id': 'PSP_ISOIS_L2-SUMMARY@2'},\n",
              "  {'id': 'PSP_ISOIS_L2-SUMMARY@3'},\n",
              "  {'id': 'PSP_SWP_SPA_SF0_L2_16AX8DX32E'},\n",
              "  {'id': 'PSP_SWP_SPA_SF0_L3_PAD'},\n",
              "  {'id': 'PSP_SWP_SPA_SF1_L2_32E'},\n",
              "  {'id': 'PSP_SWP_SPB_SF0_L2_16AX8DX32E'},\n",
              "  {'id': 'PSP_SWP_SPB_SF0_L3_PAD'},\n",
              "  {'id': 'PSP_SWP_SPB_SF1_L2_32E'},\n",
              "  {'id': 'PSP_SWP_SPC_L2I'},\n",
              "  {'id': 'PSP_SWP_SPC_L3I'},\n",
              "  {'id': 'PSP_SWP_SPE_SF0_L3_PAD'},\n",
              "  {'id': 'PSP_SWP_SPI_SF00_L2_8DX32EX8A'},\n",
              "  {'id': 'PSP_SWP_SPI_SF00_L3_MOM_INST'},\n",
              "  {'id': 'PSP_SWP_SPI_SF01_L2_8DX32EX8A'},\n",
              "  {'id': 'PSP_SWP_SPI_SF0A_L3_MOM_INST'},\n",
              "  {'id': 'RBSP-A-RBSPICE_LEV-2_ESRHELT'},\n",
              "  {'id': 'RBSP-A-RBSPICE_LEV-2_ESRLEHT'},\n",
              "  {'id': 'RBSP-A-RBSPICE_LEV-2_ISRHELT'},\n",
              "  {'id': 'RBSP-A-RBSPICE_LEV-2_TOFXEH'},\n",
              "  {'id': 'RBSP-A-RBSPICE_LEV-2_TOFXEION'},\n",
              "  {'id': 'RBSP-A-RBSPICE_LEV-2_TOFXENONH'},\n",
              "  {'id': 'RBSP-A-RBSPICE_LEV-2_TOFXPHHHELT'},\n",
              "  {'id': 'RBSP-A-RBSPICE_LEV-2_TOFXPHHLEHT'},\n",
              "  {'id': 'RBSP-A-RBSPICE_LEV-3-PAP_ESRHELT'},\n",
              "  {'id': 'RBSP-A-RBSPICE_LEV-3-PAP_ESRLEHT'},\n",
              "  {'id': 'RBSP-A-RBSPICE_LEV-3-PAP_TOFXEH'},\n",
              "  {'id': 'RBSP-A-RBSPICE_LEV-3-PAP_TOFXEHE-0'},\n",
              "  {'id': 'RBSP-A-RBSPICE_LEV-3-PAP_TOFXEION'},\n",
              "  {'id': 'RBSP-A-RBSPICE_LEV-3-PAP_TOFXEO-0'},\n",
              "  {'id': 'RBSP-A-RBSPICE_LEV-3-PAP_TOFXPHHHELT'},\n",
              "  {'id': 'RBSP-A-RBSPICE_LEV-3-PAP_TOFXPHHLEHT'},\n",
              "  {'id': 'RBSP-A-RBSPICE_LEV-3-PAP_TOFXPHOHELT'},\n",
              "  {'id': 'RBSP-A-RBSPICE_LEV-3-PAP_TOFXPHOLEHT'},\n",
              "  {'id': 'RBSP-A-RBSPICE_LEV-3_ESRHELT'},\n",
              "  {'id': 'RBSP-A-RBSPICE_LEV-3_ESRLEHT'},\n",
              "  {'id': 'RBSP-A-RBSPICE_LEV-3_ISRHELT'},\n",
              "  {'id': 'RBSP-A-RBSPICE_LEV-3_TOFXEH'},\n",
              "  {'id': 'RBSP-A-RBSPICE_LEV-3_TOFXEION'},\n",
              "  {'id': 'RBSP-A-RBSPICE_LEV-3_TOFXENONH'},\n",
              "  {'id': 'RBSP-A-RBSPICE_LEV-3_TOFXPHHHELT'},\n",
              "  {'id': 'RBSP-A-RBSPICE_LEV-3_TOFXPHHLEHT'},\n",
              "  {'id': 'RBSP-A_DENSITY_EMFISIS-L4'},\n",
              "  {'id': 'RBSP-A_HFR-SPECTRA-BURST_EMFISIS-L2'},\n",
              "  {'id': 'RBSP-A_HFR-SPECTRA_EMFISIS-L2'},\n",
              "  {'id': 'RBSP-A_HFR-WAVEFORM_EMFISIS-L2@0'},\n",
              "  {'id': 'RBSP-A_HFR-WAVEFORM_EMFISIS-L2@1'},\n",
              "  {'id': 'RBSP-A_MAGNETOMETER_1SEC-GEI_EMFISIS-L3'},\n",
              "  {'id': 'RBSP-A_MAGNETOMETER_1SEC-GEO_EMFISIS-L3'},\n",
              "  {'id': 'RBSP-A_MAGNETOMETER_1SEC-GSE_EMFISIS-L3'},\n",
              "  {'id': 'RBSP-A_MAGNETOMETER_1SEC-GSM_EMFISIS-L3'},\n",
              "  {'id': 'RBSP-A_MAGNETOMETER_1SEC-SM_EMFISIS-L3'},\n",
              "  {'id': 'RBSP-A_MAGNETOMETER_4SEC-GEI_EMFISIS-L3'},\n",
              "  {'id': 'RBSP-A_MAGNETOMETER_4SEC-GEO_EMFISIS-L3'},\n",
              "  {'id': 'RBSP-A_MAGNETOMETER_4SEC-GSE_EMFISIS-L3'},\n",
              "  {'id': 'RBSP-A_MAGNETOMETER_4SEC-GSM_EMFISIS-L3'},\n",
              "  {'id': 'RBSP-A_MAGNETOMETER_4SEC-SM_EMFISIS-L3'},\n",
              "  {'id': 'RBSP-A_MAGNETOMETER_HIRES-GEI_EMFISIS-L3'},\n",
              "  {'id': 'RBSP-A_MAGNETOMETER_HIRES-GEO_EMFISIS-L3'},\n",
              "  {'id': 'RBSP-A_MAGNETOMETER_HIRES-GSE_EMFISIS-L3'},\n",
              "  {'id': 'RBSP-A_MAGNETOMETER_HIRES-GSM_EMFISIS-L3'},\n",
              "  {'id': 'RBSP-A_MAGNETOMETER_HIRES-SM_EMFISIS-L3'},\n",
              "  {'id': 'RBSP-A_MAGNETOMETER_UVW_EMFISIS-L2'},\n",
              "  {'id': 'RBSP-A_WFR-SPECTRAL-MATRIX-DIAGONAL-MERGED_EMFISIS-L2'},\n",
              "  ...],\n",
              " 'status': {'code': 1200, 'message': 'OK'}}"
            ]
          },
          "metadata": {
            "tags": []
          }
        }
      ]
    },
    {
      "cell_type": "markdown",
      "metadata": {
        "id": "DO-pa0YUW6Dx"
      },
      "source": [
        "## Dataset  parameters"
      ]
    },
    {
      "cell_type": "markdown",
      "metadata": {
        "id": "1L0Xr5M7W6Dx"
      },
      "source": [
        "Equivalent URL: https://cdaweb.gsfc.nasa.gov/hapi/info?id=AC_H0_MFI"
      ]
    },
    {
      "cell_type": "code",
      "metadata": {
        "colab": {
          "base_uri": "https://localhost:8080/",
          "height": 859
        },
        "id": "Eq3YQREeW6Dx",
        "outputId": "47f002ec-f6bc-4860-aa2d-3f114752cc74"
      },
      "source": [
        "from hapiclient import hapi\n",
        "\n",
        "server  = 'https://cdaweb.gsfc.nasa.gov/hapi'\n",
        "dataset = 'AC_H0_MFI'\n",
        "meta = hapi(server,dataset)\n",
        "display(meta)"
      ],
      "execution_count": null,
      "outputs": [
        {
          "output_type": "stream",
          "text": [
            "/usr/local/lib/python3.7/dist-packages/urllib3/connectionpool.py:847: InsecureRequestWarning: Unverified HTTPS request is being made. Adding certificate verification is strongly advised. See: https://urllib3.readthedocs.io/en/latest/advanced-usage.html#ssl-warnings\n",
            "  InsecureRequestWarning)\n"
          ],
          "name": "stderr"
        },
        {
          "output_type": "display_data",
          "data": {
            "text/plain": [
              "{'HAPI': '2.0',\n",
              " 'contact': 'NASA-SPDF-Support@nasa.onmicrosoft.com',\n",
              " 'parameters': [{'fill': None,\n",
              "   'length': 24,\n",
              "   'name': 'Time',\n",
              "   'type': 'isotime',\n",
              "   'units': 'UTC'},\n",
              "  {'description': 'B-field magnitude',\n",
              "   'fill': '-1.0E31',\n",
              "   'name': 'Magnitude',\n",
              "   'type': 'double',\n",
              "   'units': 'nT'},\n",
              "  {'description': 'Magnetic Field Vector in GSE Cartesian coordinates (16 sec)',\n",
              "   'fill': '-1.0E31',\n",
              "   'name': 'BGSEc',\n",
              "   'size': [3],\n",
              "   'type': 'double',\n",
              "   'units': 'nT'},\n",
              "  {'description': 'Magnetic field vector in GSM coordinates (16 sec)',\n",
              "   'fill': '-1.0E31',\n",
              "   'name': 'BGSM',\n",
              "   'size': [3],\n",
              "   'type': 'double',\n",
              "   'units': 'nT'},\n",
              "  {'description': 'RMS of Magnetic Field (16 sec period)',\n",
              "   'fill': '-1.0E31',\n",
              "   'name': 'dBrms',\n",
              "   'type': 'double',\n",
              "   'units': 'nT'},\n",
              "  {'description': 'ACE s/c position, 3 comp. in GSE coord.',\n",
              "   'fill': '-1.0E31',\n",
              "   'name': 'SC_pos_GSE',\n",
              "   'size': [3],\n",
              "   'type': 'double',\n",
              "   'units': 'km'},\n",
              "  {'description': 'ACE s/c position, 3 comp. in GSM coord.',\n",
              "   'fill': '-1.0E31',\n",
              "   'name': 'SC_pos_GSM',\n",
              "   'size': [3],\n",
              "   'type': 'double',\n",
              "   'units': 'km'}],\n",
              " 'resourceURL': 'https://cdaweb.gsfc.nasa.gov/misc/NotesA.html#AC_H0_MFI',\n",
              " 'startDate': '1997-09-02T00:00:12Z',\n",
              " 'status': {'code': 1200, 'message': 'OK'},\n",
              " 'stopDate': '2020-12-21T23:59:45Z'}"
            ]
          },
          "metadata": {
            "tags": []
          }
        }
      ]
    },
    {
      "cell_type": "markdown",
      "metadata": {
        "id": "Pw8QvvV-W6Dx"
      },
      "source": [
        "## Parameters\n",
        "\n",
        "Equivalent URL: https://cdaweb.gsfc.nasa.gov/hapi/info?id=AC_H0_MFI&parameters=Magnitude,BGSEc\n",
        "\n",
        "(Except for the addition of internal keys that prefixed by `x_`.)"
      ]
    },
    {
      "cell_type": "code",
      "metadata": {
        "colab": {
          "base_uri": "https://localhost:8080/",
          "height": 492
        },
        "id": "y29Obyd7W6Dx",
        "outputId": "39ac1f39-ac7a-45f9-dc55-3e89300b1118"
      },
      "source": [
        "from hapiclient import hapi\n",
        "\n",
        "server     = 'https://cdaweb.gsfc.nasa.gov/hapi'\n",
        "dataset    = 'AC_H0_MFI'\n",
        "parameters = 'Magnitude,BGSEc'\n",
        "\n",
        "meta = hapi(server,dataset,parameters)\n",
        "\n",
        "display(meta)"
      ],
      "execution_count": null,
      "outputs": [
        {
          "output_type": "stream",
          "text": [
            "/usr/local/lib/python3.7/dist-packages/urllib3/connectionpool.py:847: InsecureRequestWarning: Unverified HTTPS request is being made. Adding certificate verification is strongly advised. See: https://urllib3.readthedocs.io/en/latest/advanced-usage.html#ssl-warnings\n",
            "  InsecureRequestWarning)\n"
          ],
          "name": "stderr"
        },
        {
          "output_type": "display_data",
          "data": {
            "text/plain": [
              "{'HAPI': '2.0',\n",
              " 'contact': 'NASA-SPDF-Support@nasa.onmicrosoft.com',\n",
              " 'parameters': [{'fill': None,\n",
              "   'length': 24,\n",
              "   'name': 'Time',\n",
              "   'type': 'isotime',\n",
              "   'units': 'UTC'},\n",
              "  {'description': 'B-field magnitude',\n",
              "   'fill': '-1.0E31',\n",
              "   'name': 'Magnitude',\n",
              "   'type': 'double',\n",
              "   'units': 'nT'},\n",
              "  {'description': 'Magnetic Field Vector in GSE Cartesian coordinates (16 sec)',\n",
              "   'fill': '-1.0E31',\n",
              "   'name': 'BGSEc',\n",
              "   'size': [3],\n",
              "   'type': 'double',\n",
              "   'units': 'nT'}],\n",
              " 'resourceURL': 'https://cdaweb.gsfc.nasa.gov/misc/NotesA.html#AC_H0_MFI',\n",
              " 'startDate': '1997-09-02T00:00:12Z',\n",
              " 'status': {'code': 1200, 'message': 'OK'},\n",
              " 'stopDate': '2020-12-21T23:59:45Z',\n",
              " 'x_dataset': 'AC_H0_MFI',\n",
              " 'x_server': 'https://cdaweb.gsfc.nasa.gov/hapi'}"
            ]
          },
          "metadata": {
            "tags": []
          }
        }
      ]
    }
  ]
}